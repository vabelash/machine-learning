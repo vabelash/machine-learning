{
  "cells": [
    {
      "cell_type": "markdown",
      "id": "047674ee",
      "metadata": {
        "id": "047674ee"
      },
      "source": [
        "# Часть 1 Бустинг (5 баллов)"
      ]
    },
    {
      "cell_type": "markdown",
      "id": "d8461109",
      "metadata": {
        "id": "d8461109"
      },
      "source": [
        "В этой части будем предсказывать зарплату data scientist-ов в зависимости  от ряда факторов с помощью градиентного бустинга."
      ]
    },
    {
      "cell_type": "markdown",
      "id": "1651e8dd",
      "metadata": {
        "id": "1651e8dd"
      },
      "source": [
        "В датасете есть следующие признаки:\n",
        "\n",
        "\n",
        "\n",
        "* work_year: The number of years of work experience in the field of data science.\n",
        "\n",
        "* experience_level: The level of experience, such as Junior, Senior, or Lead.\n",
        "\n",
        "* employment_type: The type of employment, such as Full-time or Contract.\n",
        "\n",
        "* job_title: The specific job title or role, such as Data Analyst or Data Scientist.\n",
        "\n",
        "* salary: The salary amount for the given job.\n",
        "\n",
        "* salary_currency: The currency in which the salary is denoted.\n",
        "\n",
        "* salary_in_usd: The equivalent salary amount converted to US dollars (USD) for comparison purposes.\n",
        "\n",
        "* employee_residence: The country or region where the employee resides.\n",
        "\n",
        "* remote_ratio: The percentage of remote work offered in the job.\n",
        "\n",
        "* company_location: The location of the company or organization.\n",
        "\n",
        "* company_size: The company's size is categorized as Small, Medium, or Large."
      ]
    },
    {
      "cell_type": "code",
      "source": [
        "import pandas as pd\n",
        "import numpy as np\n",
        "import matplotlib.pyplot as plt"
      ],
      "metadata": {
        "id": "_z2sb5XBjMxu"
      },
      "id": "_z2sb5XBjMxu",
      "execution_count": null,
      "outputs": []
    },
    {
      "cell_type": "code",
      "execution_count": null,
      "id": "dbf7595c",
      "metadata": {
        "colab": {
          "base_uri": "https://localhost:8080/",
          "height": 206
        },
        "id": "dbf7595c",
        "outputId": "cb976887-d510-4871-b4b5-80285d17cc65"
      },
      "outputs": [
        {
          "output_type": "execute_result",
          "data": {
            "text/plain": [
              "   work_year experience_level employment_type                 job_title  \\\n",
              "0       2023               SE              FT  Principal Data Scientist   \n",
              "1       2023               MI              CT               ML Engineer   \n",
              "2       2023               MI              CT               ML Engineer   \n",
              "3       2023               SE              FT            Data Scientist   \n",
              "4       2023               SE              FT            Data Scientist   \n",
              "\n",
              "   salary salary_currency  salary_in_usd employee_residence  remote_ratio  \\\n",
              "0   80000             EUR          85847                 ES           100   \n",
              "1   30000             USD          30000                 US           100   \n",
              "2   25500             USD          25500                 US           100   \n",
              "3  175000             USD         175000                 CA           100   \n",
              "4  120000             USD         120000                 CA           100   \n",
              "\n",
              "  company_location company_size  \n",
              "0               ES            L  \n",
              "1               US            S  \n",
              "2               US            S  \n",
              "3               CA            M  \n",
              "4               CA            M  "
            ],
            "text/html": [
              "\n",
              "  <div id=\"df-ee65cf88-0a5d-4c0c-bf22-2efaf0b20326\" class=\"colab-df-container\">\n",
              "    <div>\n",
              "<style scoped>\n",
              "    .dataframe tbody tr th:only-of-type {\n",
              "        vertical-align: middle;\n",
              "    }\n",
              "\n",
              "    .dataframe tbody tr th {\n",
              "        vertical-align: top;\n",
              "    }\n",
              "\n",
              "    .dataframe thead th {\n",
              "        text-align: right;\n",
              "    }\n",
              "</style>\n",
              "<table border=\"1\" class=\"dataframe\">\n",
              "  <thead>\n",
              "    <tr style=\"text-align: right;\">\n",
              "      <th></th>\n",
              "      <th>work_year</th>\n",
              "      <th>experience_level</th>\n",
              "      <th>employment_type</th>\n",
              "      <th>job_title</th>\n",
              "      <th>salary</th>\n",
              "      <th>salary_currency</th>\n",
              "      <th>salary_in_usd</th>\n",
              "      <th>employee_residence</th>\n",
              "      <th>remote_ratio</th>\n",
              "      <th>company_location</th>\n",
              "      <th>company_size</th>\n",
              "    </tr>\n",
              "  </thead>\n",
              "  <tbody>\n",
              "    <tr>\n",
              "      <th>0</th>\n",
              "      <td>2023</td>\n",
              "      <td>SE</td>\n",
              "      <td>FT</td>\n",
              "      <td>Principal Data Scientist</td>\n",
              "      <td>80000</td>\n",
              "      <td>EUR</td>\n",
              "      <td>85847</td>\n",
              "      <td>ES</td>\n",
              "      <td>100</td>\n",
              "      <td>ES</td>\n",
              "      <td>L</td>\n",
              "    </tr>\n",
              "    <tr>\n",
              "      <th>1</th>\n",
              "      <td>2023</td>\n",
              "      <td>MI</td>\n",
              "      <td>CT</td>\n",
              "      <td>ML Engineer</td>\n",
              "      <td>30000</td>\n",
              "      <td>USD</td>\n",
              "      <td>30000</td>\n",
              "      <td>US</td>\n",
              "      <td>100</td>\n",
              "      <td>US</td>\n",
              "      <td>S</td>\n",
              "    </tr>\n",
              "    <tr>\n",
              "      <th>2</th>\n",
              "      <td>2023</td>\n",
              "      <td>MI</td>\n",
              "      <td>CT</td>\n",
              "      <td>ML Engineer</td>\n",
              "      <td>25500</td>\n",
              "      <td>USD</td>\n",
              "      <td>25500</td>\n",
              "      <td>US</td>\n",
              "      <td>100</td>\n",
              "      <td>US</td>\n",
              "      <td>S</td>\n",
              "    </tr>\n",
              "    <tr>\n",
              "      <th>3</th>\n",
              "      <td>2023</td>\n",
              "      <td>SE</td>\n",
              "      <td>FT</td>\n",
              "      <td>Data Scientist</td>\n",
              "      <td>175000</td>\n",
              "      <td>USD</td>\n",
              "      <td>175000</td>\n",
              "      <td>CA</td>\n",
              "      <td>100</td>\n",
              "      <td>CA</td>\n",
              "      <td>M</td>\n",
              "    </tr>\n",
              "    <tr>\n",
              "      <th>4</th>\n",
              "      <td>2023</td>\n",
              "      <td>SE</td>\n",
              "      <td>FT</td>\n",
              "      <td>Data Scientist</td>\n",
              "      <td>120000</td>\n",
              "      <td>USD</td>\n",
              "      <td>120000</td>\n",
              "      <td>CA</td>\n",
              "      <td>100</td>\n",
              "      <td>CA</td>\n",
              "      <td>M</td>\n",
              "    </tr>\n",
              "  </tbody>\n",
              "</table>\n",
              "</div>\n",
              "    <div class=\"colab-df-buttons\">\n",
              "\n",
              "  <div class=\"colab-df-container\">\n",
              "    <button class=\"colab-df-convert\" onclick=\"convertToInteractive('df-ee65cf88-0a5d-4c0c-bf22-2efaf0b20326')\"\n",
              "            title=\"Convert this dataframe to an interactive table.\"\n",
              "            style=\"display:none;\">\n",
              "\n",
              "  <svg xmlns=\"http://www.w3.org/2000/svg\" height=\"24px\" viewBox=\"0 -960 960 960\">\n",
              "    <path d=\"M120-120v-720h720v720H120Zm60-500h600v-160H180v160Zm220 220h160v-160H400v160Zm0 220h160v-160H400v160ZM180-400h160v-160H180v160Zm440 0h160v-160H620v160ZM180-180h160v-160H180v160Zm440 0h160v-160H620v160Z\"/>\n",
              "  </svg>\n",
              "    </button>\n",
              "\n",
              "  <style>\n",
              "    .colab-df-container {\n",
              "      display:flex;\n",
              "      gap: 12px;\n",
              "    }\n",
              "\n",
              "    .colab-df-convert {\n",
              "      background-color: #E8F0FE;\n",
              "      border: none;\n",
              "      border-radius: 50%;\n",
              "      cursor: pointer;\n",
              "      display: none;\n",
              "      fill: #1967D2;\n",
              "      height: 32px;\n",
              "      padding: 0 0 0 0;\n",
              "      width: 32px;\n",
              "    }\n",
              "\n",
              "    .colab-df-convert:hover {\n",
              "      background-color: #E2EBFA;\n",
              "      box-shadow: 0px 1px 2px rgba(60, 64, 67, 0.3), 0px 1px 3px 1px rgba(60, 64, 67, 0.15);\n",
              "      fill: #174EA6;\n",
              "    }\n",
              "\n",
              "    .colab-df-buttons div {\n",
              "      margin-bottom: 4px;\n",
              "    }\n",
              "\n",
              "    [theme=dark] .colab-df-convert {\n",
              "      background-color: #3B4455;\n",
              "      fill: #D2E3FC;\n",
              "    }\n",
              "\n",
              "    [theme=dark] .colab-df-convert:hover {\n",
              "      background-color: #434B5C;\n",
              "      box-shadow: 0px 1px 3px 1px rgba(0, 0, 0, 0.15);\n",
              "      filter: drop-shadow(0px 1px 2px rgba(0, 0, 0, 0.3));\n",
              "      fill: #FFFFFF;\n",
              "    }\n",
              "  </style>\n",
              "\n",
              "    <script>\n",
              "      const buttonEl =\n",
              "        document.querySelector('#df-ee65cf88-0a5d-4c0c-bf22-2efaf0b20326 button.colab-df-convert');\n",
              "      buttonEl.style.display =\n",
              "        google.colab.kernel.accessAllowed ? 'block' : 'none';\n",
              "\n",
              "      async function convertToInteractive(key) {\n",
              "        const element = document.querySelector('#df-ee65cf88-0a5d-4c0c-bf22-2efaf0b20326');\n",
              "        const dataTable =\n",
              "          await google.colab.kernel.invokeFunction('convertToInteractive',\n",
              "                                                    [key], {});\n",
              "        if (!dataTable) return;\n",
              "\n",
              "        const docLinkHtml = 'Like what you see? Visit the ' +\n",
              "          '<a target=\"_blank\" href=https://colab.research.google.com/notebooks/data_table.ipynb>data table notebook</a>'\n",
              "          + ' to learn more about interactive tables.';\n",
              "        element.innerHTML = '';\n",
              "        dataTable['output_type'] = 'display_data';\n",
              "        await google.colab.output.renderOutput(dataTable, element);\n",
              "        const docLink = document.createElement('div');\n",
              "        docLink.innerHTML = docLinkHtml;\n",
              "        element.appendChild(docLink);\n",
              "      }\n",
              "    </script>\n",
              "  </div>\n",
              "\n",
              "\n",
              "<div id=\"df-8d66494d-6c7f-4bc9-9df5-72b6802f0159\">\n",
              "  <button class=\"colab-df-quickchart\" onclick=\"quickchart('df-8d66494d-6c7f-4bc9-9df5-72b6802f0159')\"\n",
              "            title=\"Suggest charts\"\n",
              "            style=\"display:none;\">\n",
              "\n",
              "<svg xmlns=\"http://www.w3.org/2000/svg\" height=\"24px\"viewBox=\"0 0 24 24\"\n",
              "     width=\"24px\">\n",
              "    <g>\n",
              "        <path d=\"M19 3H5c-1.1 0-2 .9-2 2v14c0 1.1.9 2 2 2h14c1.1 0 2-.9 2-2V5c0-1.1-.9-2-2-2zM9 17H7v-7h2v7zm4 0h-2V7h2v10zm4 0h-2v-4h2v4z\"/>\n",
              "    </g>\n",
              "</svg>\n",
              "  </button>\n",
              "\n",
              "<style>\n",
              "  .colab-df-quickchart {\n",
              "      --bg-color: #E8F0FE;\n",
              "      --fill-color: #1967D2;\n",
              "      --hover-bg-color: #E2EBFA;\n",
              "      --hover-fill-color: #174EA6;\n",
              "      --disabled-fill-color: #AAA;\n",
              "      --disabled-bg-color: #DDD;\n",
              "  }\n",
              "\n",
              "  [theme=dark] .colab-df-quickchart {\n",
              "      --bg-color: #3B4455;\n",
              "      --fill-color: #D2E3FC;\n",
              "      --hover-bg-color: #434B5C;\n",
              "      --hover-fill-color: #FFFFFF;\n",
              "      --disabled-bg-color: #3B4455;\n",
              "      --disabled-fill-color: #666;\n",
              "  }\n",
              "\n",
              "  .colab-df-quickchart {\n",
              "    background-color: var(--bg-color);\n",
              "    border: none;\n",
              "    border-radius: 50%;\n",
              "    cursor: pointer;\n",
              "    display: none;\n",
              "    fill: var(--fill-color);\n",
              "    height: 32px;\n",
              "    padding: 0;\n",
              "    width: 32px;\n",
              "  }\n",
              "\n",
              "  .colab-df-quickchart:hover {\n",
              "    background-color: var(--hover-bg-color);\n",
              "    box-shadow: 0 1px 2px rgba(60, 64, 67, 0.3), 0 1px 3px 1px rgba(60, 64, 67, 0.15);\n",
              "    fill: var(--button-hover-fill-color);\n",
              "  }\n",
              "\n",
              "  .colab-df-quickchart-complete:disabled,\n",
              "  .colab-df-quickchart-complete:disabled:hover {\n",
              "    background-color: var(--disabled-bg-color);\n",
              "    fill: var(--disabled-fill-color);\n",
              "    box-shadow: none;\n",
              "  }\n",
              "\n",
              "  .colab-df-spinner {\n",
              "    border: 2px solid var(--fill-color);\n",
              "    border-color: transparent;\n",
              "    border-bottom-color: var(--fill-color);\n",
              "    animation:\n",
              "      spin 1s steps(1) infinite;\n",
              "  }\n",
              "\n",
              "  @keyframes spin {\n",
              "    0% {\n",
              "      border-color: transparent;\n",
              "      border-bottom-color: var(--fill-color);\n",
              "      border-left-color: var(--fill-color);\n",
              "    }\n",
              "    20% {\n",
              "      border-color: transparent;\n",
              "      border-left-color: var(--fill-color);\n",
              "      border-top-color: var(--fill-color);\n",
              "    }\n",
              "    30% {\n",
              "      border-color: transparent;\n",
              "      border-left-color: var(--fill-color);\n",
              "      border-top-color: var(--fill-color);\n",
              "      border-right-color: var(--fill-color);\n",
              "    }\n",
              "    40% {\n",
              "      border-color: transparent;\n",
              "      border-right-color: var(--fill-color);\n",
              "      border-top-color: var(--fill-color);\n",
              "    }\n",
              "    60% {\n",
              "      border-color: transparent;\n",
              "      border-right-color: var(--fill-color);\n",
              "    }\n",
              "    80% {\n",
              "      border-color: transparent;\n",
              "      border-right-color: var(--fill-color);\n",
              "      border-bottom-color: var(--fill-color);\n",
              "    }\n",
              "    90% {\n",
              "      border-color: transparent;\n",
              "      border-bottom-color: var(--fill-color);\n",
              "    }\n",
              "  }\n",
              "</style>\n",
              "\n",
              "  <script>\n",
              "    async function quickchart(key) {\n",
              "      const quickchartButtonEl =\n",
              "        document.querySelector('#' + key + ' button');\n",
              "      quickchartButtonEl.disabled = true;  // To prevent multiple clicks.\n",
              "      quickchartButtonEl.classList.add('colab-df-spinner');\n",
              "      try {\n",
              "        const charts = await google.colab.kernel.invokeFunction(\n",
              "            'suggestCharts', [key], {});\n",
              "      } catch (error) {\n",
              "        console.error('Error during call to suggestCharts:', error);\n",
              "      }\n",
              "      quickchartButtonEl.classList.remove('colab-df-spinner');\n",
              "      quickchartButtonEl.classList.add('colab-df-quickchart-complete');\n",
              "    }\n",
              "    (() => {\n",
              "      let quickchartButtonEl =\n",
              "        document.querySelector('#df-8d66494d-6c7f-4bc9-9df5-72b6802f0159 button');\n",
              "      quickchartButtonEl.style.display =\n",
              "        google.colab.kernel.accessAllowed ? 'block' : 'none';\n",
              "    })();\n",
              "  </script>\n",
              "</div>\n",
              "    </div>\n",
              "  </div>\n"
            ],
            "application/vnd.google.colaboratory.intrinsic+json": {
              "type": "dataframe",
              "variable_name": "df",
              "summary": "{\n  \"name\": \"df\",\n  \"rows\": 3755,\n  \"fields\": [\n    {\n      \"column\": \"work_year\",\n      \"properties\": {\n        \"dtype\": \"number\",\n        \"std\": 0,\n        \"min\": 2020,\n        \"max\": 2023,\n        \"num_unique_values\": 4,\n        \"samples\": [\n          2022,\n          2021,\n          2023\n        ],\n        \"semantic_type\": \"\",\n        \"description\": \"\"\n      }\n    },\n    {\n      \"column\": \"experience_level\",\n      \"properties\": {\n        \"dtype\": \"category\",\n        \"num_unique_values\": 4,\n        \"samples\": [\n          \"MI\",\n          \"EX\",\n          \"SE\"\n        ],\n        \"semantic_type\": \"\",\n        \"description\": \"\"\n      }\n    },\n    {\n      \"column\": \"employment_type\",\n      \"properties\": {\n        \"dtype\": \"category\",\n        \"num_unique_values\": 4,\n        \"samples\": [\n          \"CT\",\n          \"PT\",\n          \"FT\"\n        ],\n        \"semantic_type\": \"\",\n        \"description\": \"\"\n      }\n    },\n    {\n      \"column\": \"job_title\",\n      \"properties\": {\n        \"dtype\": \"category\",\n        \"num_unique_values\": 93,\n        \"samples\": [\n          \"Cloud Database Engineer\",\n          \"Staff Data Analyst\",\n          \"Insight Analyst\"\n        ],\n        \"semantic_type\": \"\",\n        \"description\": \"\"\n      }\n    },\n    {\n      \"column\": \"salary\",\n      \"properties\": {\n        \"dtype\": \"number\",\n        \"std\": 671676,\n        \"min\": 6000,\n        \"max\": 30400000,\n        \"num_unique_values\": 815,\n        \"samples\": [\n          84570,\n          138000,\n          370000\n        ],\n        \"semantic_type\": \"\",\n        \"description\": \"\"\n      }\n    },\n    {\n      \"column\": \"salary_currency\",\n      \"properties\": {\n        \"dtype\": \"category\",\n        \"num_unique_values\": 20,\n        \"samples\": [\n          \"EUR\",\n          \"MXN\",\n          \"DKK\"\n        ],\n        \"semantic_type\": \"\",\n        \"description\": \"\"\n      }\n    },\n    {\n      \"column\": \"salary_in_usd\",\n      \"properties\": {\n        \"dtype\": \"number\",\n        \"std\": 63055,\n        \"min\": 5132,\n        \"max\": 450000,\n        \"num_unique_values\": 1035,\n        \"samples\": [\n          205600,\n          375000,\n          140700\n        ],\n        \"semantic_type\": \"\",\n        \"description\": \"\"\n      }\n    },\n    {\n      \"column\": \"employee_residence\",\n      \"properties\": {\n        \"dtype\": \"category\",\n        \"num_unique_values\": 78,\n        \"samples\": [\n          \"AR\",\n          \"ES\",\n          \"AM\"\n        ],\n        \"semantic_type\": \"\",\n        \"description\": \"\"\n      }\n    },\n    {\n      \"column\": \"remote_ratio\",\n      \"properties\": {\n        \"dtype\": \"number\",\n        \"std\": 48,\n        \"min\": 0,\n        \"max\": 100,\n        \"num_unique_values\": 3,\n        \"samples\": [\n          100,\n          0,\n          50\n        ],\n        \"semantic_type\": \"\",\n        \"description\": \"\"\n      }\n    },\n    {\n      \"column\": \"company_location\",\n      \"properties\": {\n        \"dtype\": \"category\",\n        \"num_unique_values\": 72,\n        \"samples\": [\n          \"GB\",\n          \"MY\",\n          \"SG\"\n        ],\n        \"semantic_type\": \"\",\n        \"description\": \"\"\n      }\n    },\n    {\n      \"column\": \"company_size\",\n      \"properties\": {\n        \"dtype\": \"category\",\n        \"num_unique_values\": 3,\n        \"samples\": [\n          \"L\",\n          \"S\",\n          \"M\"\n        ],\n        \"semantic_type\": \"\",\n        \"description\": \"\"\n      }\n    }\n  ]\n}"
            }
          },
          "metadata": {},
          "execution_count": 2
        }
      ],
      "source": [
        "df = pd.read_csv(\"ds_salaries.csv\")\n",
        "df.head()"
      ]
    },
    {
      "cell_type": "markdown",
      "id": "6696e77a",
      "metadata": {
        "id": "6696e77a"
      },
      "source": [
        "## Задание 1 (0.5 балла) Подготовка"
      ]
    },
    {
      "cell_type": "markdown",
      "id": "0cb13dc7",
      "metadata": {
        "id": "0cb13dc7"
      },
      "source": [
        "\n",
        "\n",
        "*   Разделите выборку на train, val, test (80%, 10%, 10%)\n",
        "*   Выдерите salary_in_usd в качестве таргета\n",
        "*   Найдите и удалите признак, из-за которого возможен лик в данных\n"
      ]
    },
    {
      "cell_type": "code",
      "execution_count": null,
      "id": "5a2ba920",
      "metadata": {
        "id": "5a2ba920"
      },
      "outputs": [],
      "source": [
        "from sklearn.model_selection import train_test_split"
      ]
    },
    {
      "cell_type": "code",
      "execution_count": null,
      "id": "HJNGYRCjYG8A",
      "metadata": {
        "id": "HJNGYRCjYG8A"
      },
      "outputs": [],
      "source": [
        "# делим выборку на train, val, test (80%, 10%, 10%)\n",
        "train, val = train_test_split(df, test_size=0.2, random_state=42)\n",
        "test, val = train_test_split(val, test_size=0.5, random_state=42)"
      ]
    },
    {
      "cell_type": "code",
      "source": [
        "# salary_in_usd в качестве таргета\n",
        "train_y = train['salary_in_usd']\n",
        "train_X = train.drop('salary_in_usd', axis=1)\n",
        "\n",
        "val_y = val['salary_in_usd']\n",
        "val_X = val.drop('salary_in_usd', axis=1)\n",
        "\n",
        "test_y = test['salary_in_usd']\n",
        "test_X = test.drop('salary_in_usd', axis=1)"
      ],
      "metadata": {
        "id": "_aS1gcXCje6W"
      },
      "id": "_aS1gcXCje6W",
      "execution_count": null,
      "outputs": []
    },
    {
      "cell_type": "code",
      "execution_count": null,
      "id": "89c1afd4",
      "metadata": {
        "id": "89c1afd4"
      },
      "outputs": [],
      "source": [
        "# удаление признака salary, из-за которого возможен лик в данных, т.к. нам как раз нужно предсказывать зарплату\n",
        "train_X.drop('salary', axis=1, inplace=True)\n",
        "val_X.drop('salary', axis=1, inplace=True)\n",
        "test_X.drop('salary', axis=1, inplace=True)"
      ]
    },
    {
      "cell_type": "markdown",
      "id": "f63cb01a",
      "metadata": {
        "id": "f63cb01a"
      },
      "source": [
        "## Задание 2 (0.5 балла) Линейная модель"
      ]
    },
    {
      "cell_type": "markdown",
      "id": "647a5cad",
      "metadata": {
        "id": "647a5cad"
      },
      "source": [
        "\n",
        "*   Закодируйте категориальные  признаки с помощью OneHotEncoder\n",
        "*   Обучите модель линейной регрессии\n",
        "*   Оцените  качество через MAPE и RMSE\n"
      ]
    },
    {
      "cell_type": "code",
      "source": [
        "from sklearn.linear_model import LinearRegression\n",
        "from sklearn.metrics import mean_absolute_percentage_error, mean_squared_error\n",
        "from sklearn.preprocessing import OneHotEncoder"
      ],
      "metadata": {
        "id": "qfrPC3Pejmi6"
      },
      "id": "qfrPC3Pejmi6",
      "execution_count": null,
      "outputs": []
    },
    {
      "cell_type": "code",
      "source": [
        "# OneHot-кодирование\n",
        "categorical_features = train_X.columns[(train_X.dtypes == 'object').values]\n",
        "encoder = OneHotEncoder(sparse=False, handle_unknown='infrequent_if_exist')"
      ],
      "metadata": {
        "id": "QyhW_kZsjpFR"
      },
      "id": "QyhW_kZsjpFR",
      "execution_count": null,
      "outputs": []
    },
    {
      "cell_type": "code",
      "source": [
        "X_train_encoded = pd.DataFrame(encoder.fit_transform(train_X[categorical_features]),\n",
        "                                  columns=encoder.get_feature_names_out(categorical_features),\n",
        "                                  index=train_X.index)\n",
        "X_test_encoded = pd.DataFrame(encoder.transform(test_X[categorical_features]),\n",
        "                                  columns=encoder.get_feature_names_out(categorical_features),\n",
        "                                  index=test_X.index)\n",
        "X_valid_encoded = pd.DataFrame(encoder.transform(val_X[categorical_features]),\n",
        "                                  columns=encoder.get_feature_names_out(categorical_features),\n",
        "                                  index=val_X.index)"
      ],
      "metadata": {
        "colab": {
          "base_uri": "https://localhost:8080/"
        },
        "id": "qqdgDxbpjsNs",
        "outputId": "d751a5a7-590e-4bf3-c8cb-da205f79b951"
      },
      "id": "qqdgDxbpjsNs",
      "execution_count": null,
      "outputs": [
        {
          "output_type": "stream",
          "name": "stderr",
          "text": [
            "/usr/local/lib/python3.10/dist-packages/sklearn/preprocessing/_encoders.py:868: FutureWarning: `sparse` was renamed to `sparse_output` in version 1.2 and will be removed in 1.4. `sparse_output` is ignored unless you leave `sparse` to its default value.\n",
            "  warnings.warn(\n"
          ]
        }
      ]
    },
    {
      "cell_type": "code",
      "execution_count": null,
      "id": "DcfWqlvYk0ru",
      "metadata": {
        "id": "DcfWqlvYk0ru"
      },
      "outputs": [],
      "source": [
        "# обучение модели линейной регрессии\n",
        "lr = LinearRegression()\n",
        "lr.fit(X_train_encoded, train_y)\n",
        "pred_y_lr = lr.predict(X_test_encoded)"
      ]
    },
    {
      "cell_type": "code",
      "source": [
        "print('MAPE: ', mean_absolute_percentage_error(test_y, pred_y_lr))\n",
        "print('RMSE: ', mean_squared_error(test_y, pred_y_lr, squared=False))"
      ],
      "metadata": {
        "colab": {
          "base_uri": "https://localhost:8080/"
        },
        "id": "Z4p28sALkQzP",
        "outputId": "52da1b0d-ea32-4769-af64-f2a3c81a8f35"
      },
      "id": "Z4p28sALkQzP",
      "execution_count": null,
      "outputs": [
        {
          "output_type": "stream",
          "name": "stdout",
          "text": [
            "MAPE:  150674690.92530096\n",
            "RMSE:  55272704734584.72\n"
          ]
        }
      ]
    },
    {
      "cell_type": "markdown",
      "source": [
        "Качество модели очень низкое, высокое среднеквадратическое отклонение прогнозируемых значений от фактических подтверждает это, как и огромная средняя разница между прогнозом и фактом"
      ],
      "metadata": {
        "id": "8qulo1Q0lf3Q"
      },
      "id": "8qulo1Q0lf3Q"
    },
    {
      "cell_type": "markdown",
      "id": "3578292c",
      "metadata": {
        "id": "3578292c"
      },
      "source": [
        "## Задание 3 (0.5 балла) XGboost"
      ]
    },
    {
      "cell_type": "markdown",
      "id": "3RJuwwoty9w1",
      "metadata": {
        "id": "3RJuwwoty9w1"
      },
      "source": [
        "Начнем с библиотеки xgboost.\n",
        "\n",
        "Обучите модель `XGBRegressor` на тех же данных, что линейную модель, подобрав оптимальные гиперпараметры (`max_depth, learning_rate, n_estimators, gamma`, etc.) по валидационной выборке. Оцените качество итоговой модели (MAPE, RMSE), скорость обучения и скорость предсказания."
      ]
    },
    {
      "cell_type": "code",
      "source": [
        "import time"
      ],
      "metadata": {
        "id": "jswV1Bb0kaTU"
      },
      "id": "jswV1Bb0kaTU",
      "execution_count": null,
      "outputs": []
    },
    {
      "cell_type": "code",
      "execution_count": null,
      "id": "0db01815",
      "metadata": {
        "id": "0db01815"
      },
      "outputs": [],
      "source": [
        "from xgboost.sklearn import XGBRegressor\n",
        "from sklearn.model_selection import GridSearchCV\n",
        "\n",
        "parameters = {\n",
        "    'max_depth': [3, 5, 7],\n",
        "    'learning_rate': [0.1, 0.01, 0.001],\n",
        "    'n_estimators': [100, 500, 1000],\n",
        "    'gamma': [0, 0.1, 0.2],\n",
        "    'subsample': [0.4, 0.6, 0.8],\n",
        "    'colsample_bytree': [0.4, 0.6, 0.8],\n",
        "    'min_child_weight': [1, 3, 5]\n",
        "}\n",
        "\n",
        "xgb = XGBRegressor()\n",
        "grid_search = GridSearchCV(estimator=xgb, param_grid=parameters, cv=3, n_jobs=-1)\n",
        "grid_search.fit(X_valid_encoded, val_y)"
      ]
    },
    {
      "cell_type": "code",
      "source": [
        "%%time\n",
        "best_xgb = XGBRegressor(**grid_search.best_params_)\n",
        "best_xgb.fit(X_train_encoded, train_y)"
      ],
      "metadata": {
        "id": "FhJrw8btkmxn"
      },
      "id": "FhJrw8btkmxn",
      "execution_count": null,
      "outputs": []
    },
    {
      "cell_type": "code",
      "source": [
        "%%time\n",
        "pred_y_xgb = best_xgb.predict(X_test_encoded)"
      ],
      "metadata": {
        "colab": {
          "base_uri": "https://localhost:8080/"
        },
        "id": "4eB46Fu3kxON",
        "outputId": "8ba8d2ea-b38c-4d32-be62-8ec4ee25adcc"
      },
      "id": "4eB46Fu3kxON",
      "execution_count": null,
      "outputs": [
        {
          "output_type": "stream",
          "name": "stdout",
          "text": [
            "CPU times: user 39.9 ms, sys: 0 ns, total: 39.9 ms\n",
            "Wall time: 37.3 ms\n"
          ]
        }
      ]
    },
    {
      "cell_type": "code",
      "execution_count": null,
      "id": "7c1069d9",
      "metadata": {
        "colab": {
          "base_uri": "https://localhost:8080/"
        },
        "id": "7c1069d9",
        "outputId": "143a7563-eed5-43f7-c578-149f47b2b612"
      },
      "outputs": [
        {
          "output_type": "stream",
          "name": "stdout",
          "text": [
            "MAPE:  0.4134873202401893\n",
            "RMSE:  42435.727065011626\n"
          ]
        }
      ],
      "source": [
        "print('MAPE: ', mean_absolute_percentage_error(test_y, pred_y_xgb))\n",
        "print('RMSE: ', mean_squared_error(test_y, pred_y_xgb, squared=False))"
      ]
    },
    {
      "cell_type": "markdown",
      "source": [
        "Обучение модели заняло 4.28 s, предсказание - 39.9 ms, что говорит о довольно низкой скорости обучения и средней скорости предсказания. Полученные значения MAPE и RMSE указывают на достаточно высокую точность модели."
      ],
      "metadata": {
        "id": "NI-1eH-hlKsH"
      },
      "id": "NI-1eH-hlKsH"
    },
    {
      "cell_type": "markdown",
      "id": "RmWp9wxu318i",
      "metadata": {
        "id": "RmWp9wxu318i"
      },
      "source": [
        "## Задание 4 (1 балл) CatBoost"
      ]
    },
    {
      "cell_type": "markdown",
      "id": "bDWqieZk3-rv",
      "metadata": {
        "id": "bDWqieZk3-rv"
      },
      "source": [
        "Теперь библиотека CatBoost.\n",
        "\n",
        "Обучите модель `CatBoostRegressor`, подобрав оптимальные гиперпараметры (`depth, learning_rate, iterations`, etc.) по валидационной выборке. Оцените качество итоговой модели (MAPE, RMSE), скорость обучения и скорость предсказания."
      ]
    },
    {
      "cell_type": "code",
      "source": [
        "!pip3 install catboost"
      ],
      "metadata": {
        "id": "jRPiMatNlRWS"
      },
      "id": "jRPiMatNlRWS",
      "execution_count": null,
      "outputs": []
    },
    {
      "cell_type": "code",
      "source": [
        "from catboost import CatBoostRegressor"
      ],
      "metadata": {
        "id": "nVRpxZxXljNl"
      },
      "id": "nVRpxZxXljNl",
      "execution_count": null,
      "outputs": []
    },
    {
      "cell_type": "code",
      "execution_count": null,
      "id": "mbhrOOPJ4X9C",
      "metadata": {
        "id": "mbhrOOPJ4X9C"
      },
      "outputs": [],
      "source": [
        "parameters = {\n",
        "    'depth': [4, 6, 8],\n",
        "    'learning_rate': [0.01, 0.05, 0.1],\n",
        "    'iterations': [100, 200, 300],\n",
        "    'l2_leaf_reg': [1, 3, 5],\n",
        "    'random_strength': [1, 2, 5]\n",
        "}\n",
        "\n",
        "cbr = CatBoostRegressor()\n",
        "grid_search = GridSearchCV(estimator=cbr, param_grid=parameters, cv=3, n_jobs=-1)\n",
        "grid_search.fit(X_valid_encoded, val_y)"
      ]
    },
    {
      "cell_type": "code",
      "execution_count": null,
      "id": "Ztdt39FZVruJ",
      "metadata": {
        "id": "Ztdt39FZVruJ"
      },
      "outputs": [],
      "source": [
        "%%time\n",
        "best_cbr = CatBoostRegressor(**grid_search.best_params_)\n",
        "best_cbr.fit(X_train_encoded, train_y)"
      ]
    },
    {
      "cell_type": "code",
      "source": [
        "%%time\n",
        "pred_y_cbr = best_cbr.predict(X_test_encoded)"
      ],
      "metadata": {
        "id": "zCQHqblal2ZH"
      },
      "id": "zCQHqblal2ZH",
      "execution_count": null,
      "outputs": []
    },
    {
      "cell_type": "code",
      "source": [
        "print('MAPE: ', mean_absolute_percentage_error(test_y, pred_y_cbr))\n",
        "print('RMSE: ', mean_squared_error(test_y, pred_y_cbr, squared=False))"
      ],
      "metadata": {
        "colab": {
          "base_uri": "https://localhost:8080/"
        },
        "id": "UU3neXIsl6cO",
        "outputId": "9728443c-78ed-4d44-da06-c921b2ac3208"
      },
      "id": "UU3neXIsl6cO",
      "execution_count": null,
      "outputs": [
        {
          "output_type": "stream",
          "name": "stdout",
          "text": [
            "MAPE:  0.35569628969667394\n",
            "RMSE:  49806.73946627879\n"
          ]
        }
      ]
    },
    {
      "cell_type": "markdown",
      "source": [
        "Обучение модели заняло 189 ms, предсказание - 34.4 ms, что говорит о средней скорости обучения и высокой скорости предсказания. Полученные значения MAPE и RMSE указывают на достаточно высокую точность модели."
      ],
      "metadata": {
        "id": "l499bWMbmAxC"
      },
      "id": "l499bWMbmAxC"
    },
    {
      "cell_type": "markdown",
      "id": "ruUNeGOk4lho",
      "metadata": {
        "id": "ruUNeGOk4lho"
      },
      "source": [
        "Для применения catboost моделей не обязательно сначала кодировать категориальные признаки, модель может кодировать их сама. Обучите catboost с подбором оптимальных гиперпараметров снова, используя pool для передачи данных в модель с указанием какие признаки категориальные, а какие нет с помощью параметра cat_features. Оцените качество и время. Стало ли лучше?"
      ]
    },
    {
      "cell_type": "code",
      "source": [
        "from catboost import Pool\n",
        "from sklearn.model_selection import RandomizedSearchCV\n",
        "\n",
        "categorical_features = ['experience_level', 'employment_type', 'job_title', 'salary_currency', 'employee_residence', 'company_location', 'company_size']\n",
        "pool_train = Pool(data=train_X, label=train_y, cat_features=categorical_features)\n",
        "pool_val = Pool(data=val_X, label=val_y, cat_features=categorical_features)\n",
        "pool_test = Pool(data=test_X, label=test_y, cat_features=categorical_features)"
      ],
      "metadata": {
        "id": "H6_Pa6DfmCyg"
      },
      "id": "H6_Pa6DfmCyg",
      "execution_count": null,
      "outputs": []
    },
    {
      "cell_type": "code",
      "execution_count": null,
      "id": "5vQr1f9P6cQ5",
      "metadata": {
        "id": "5vQr1f9P6cQ5",
        "scrolled": true
      },
      "outputs": [],
      "source": [
        "parameters = {\n",
        "    'depth': [4, 6, 8],\n",
        "    'learning_rate': [0.01, 0.05, 0.1],\n",
        "    'iterations': [100, 200, 300],\n",
        "    'l2_leaf_reg': [1, 3, 5],\n",
        "    'random_strength': [1, 2, 5]\n",
        "}\n",
        "\n",
        "cbr_pool = CatBoostRegressor()\n",
        "random_search = RandomizedSearchCV(estimator=cbr_pool, param_distributions=parameters, n_iter=50, cv=3, n_jobs=-1)\n",
        "random_search.fit(val_X, val_y)"
      ]
    },
    {
      "cell_type": "code",
      "source": [
        "%%time\n",
        "best_cbr_pool = CatBoostRegressor(**random_search.best_params_)\n",
        "best_cbr_pool.fit(pool_train)"
      ],
      "metadata": {
        "id": "E_4dafA6mHqj"
      },
      "id": "E_4dafA6mHqj",
      "execution_count": null,
      "outputs": []
    },
    {
      "cell_type": "code",
      "source": [
        "%%time\n",
        "pred_y_cbr_pool = best_cbr_pool.predict(pool_test)"
      ],
      "metadata": {
        "id": "OOk4TpZ6mJ0H"
      },
      "id": "OOk4TpZ6mJ0H",
      "execution_count": null,
      "outputs": []
    },
    {
      "cell_type": "code",
      "source": [
        "print('MAPE: ', mean_absolute_percentage_error(test_y, pred_y_cbr_pool))\n",
        "print('RMSE: ', mean_squared_error(test_y, pred_y_cbr_pool, squared=False))"
      ],
      "metadata": {
        "colab": {
          "base_uri": "https://localhost:8080/"
        },
        "id": "zChw4n9CmNjm",
        "outputId": "ba9e85c2-e055-4535-94d2-8944aeaa5518"
      },
      "id": "zChw4n9CmNjm",
      "execution_count": null,
      "outputs": [
        {
          "output_type": "stream",
          "name": "stdout",
          "text": [
            "MAPE:  0.35569628969667394\n",
            "RMSE:  49806.73946627879\n"
          ]
        }
      ]
    },
    {
      "cell_type": "markdown",
      "id": "eA0djixU7L8c",
      "metadata": {
        "id": "eA0djixU7L8c"
      },
      "source": [
        "**Ответ:** Обучение модели стало занимать 2.9 ms, предсказание - 142.6 ms, что говорит о замедлении скорости работы модели, качество осталось прежним."
      ]
    },
    {
      "cell_type": "markdown",
      "id": "a881ad9d",
      "metadata": {
        "id": "a881ad9d"
      },
      "source": [
        "## Задание 5 (0.5 балла) LightGBM"
      ]
    },
    {
      "cell_type": "markdown",
      "id": "a35f87a6",
      "metadata": {
        "id": "a35f87a6"
      },
      "source": [
        "И наконец библиотека LightGBM - используйте `LGBMRegressor`, снова подберите гиперпараметры, оцените качество и скорость.\n"
      ]
    },
    {
      "cell_type": "code",
      "execution_count": null,
      "id": "2f5c51f6",
      "metadata": {
        "id": "2f5c51f6"
      },
      "outputs": [],
      "source": [
        "from lightgbm import LGBMRegressor\n",
        "\n",
        "\n",
        "parameters = {\n",
        "    'max_depth' : [4, 6, 8],\n",
        "    'learning_rate' : [0.01, 0.05, 0.1],\n",
        "    'n_estimators' : [100, 150, 200],\n",
        "    'num_leaves': [20, 50, 100],\n",
        "    'reg_alpha': [0.0, 0.1, 0.5]\n",
        "}\n",
        "\n",
        "lgbmr = LGBMRegressor()\n",
        "grid_search = GridSearchCV(estimator=lgbmr, param_grid=parameters, cv=3, n_jobs=-1)\n",
        "grid_search.fit(X_valid_encoded, val_y)"
      ]
    },
    {
      "cell_type": "code",
      "execution_count": null,
      "id": "dc94d5d7",
      "metadata": {
        "id": "dc94d5d7"
      },
      "outputs": [],
      "source": [
        "%%time\n",
        "best_lgbmr = LGBMRegressor(**grid_search.best_params_)\n",
        "best_lgbmr.fit(X_train_encoded, train_y)"
      ]
    },
    {
      "cell_type": "code",
      "execution_count": null,
      "id": "M2-WvfIrV556",
      "metadata": {
        "id": "M2-WvfIrV556",
        "colab": {
          "base_uri": "https://localhost:8080/"
        },
        "outputId": "4a22f8fa-26b8-45ad-d346-7c2897b82b7e"
      },
      "outputs": [
        {
          "output_type": "stream",
          "name": "stdout",
          "text": [
            "[LightGBM] [Warning] Accuracy may be bad since you didn't explicitly set num_leaves OR 2^max_depth > num_leaves. (num_leaves=31).\n",
            "CPU times: user 8.95 ms, sys: 0 ns, total: 8.95 ms\n",
            "Wall time: 11 ms\n"
          ]
        }
      ],
      "source": [
        "%%time\n",
        "pred_y_lgbmr = best_lgbmr.predict(X_test_encoded)"
      ]
    },
    {
      "cell_type": "code",
      "source": [
        "print('MAPE: ', mean_absolute_percentage_error(test_y, pred_y_lgbmr))\n",
        "print('RMSE: ', mean_squared_error(test_y, pred_y_lgbmr, squared=False))"
      ],
      "metadata": {
        "colab": {
          "base_uri": "https://localhost:8080/"
        },
        "id": "wbbOiCdlm_4z",
        "outputId": "1e233f06-cf67-4efc-a066-b2ca317ddea0"
      },
      "id": "wbbOiCdlm_4z",
      "execution_count": null,
      "outputs": [
        {
          "output_type": "stream",
          "name": "stdout",
          "text": [
            "MAPE:  0.3600051162058447\n",
            "RMSE:  41409.55306088991\n"
          ]
        }
      ]
    },
    {
      "cell_type": "markdown",
      "source": [
        "Обучение модели заняло 398 ms, предсказание - 11 ms, что говорит о низкой скорости обучения и высокой скорости предсказания. Полученные значения MAPE и RMSE указывают на достаточно высокую точность модели."
      ],
      "metadata": {
        "id": "dGyFdGJznF_s"
      },
      "id": "dGyFdGJznF_s"
    },
    {
      "cell_type": "markdown",
      "id": "7c56d873",
      "metadata": {
        "id": "7c56d873"
      },
      "source": [
        "## Задание 6 (2 балла) Сравнение и выводы"
      ]
    },
    {
      "cell_type": "markdown",
      "id": "3a2c1148",
      "metadata": {
        "id": "3a2c1148"
      },
      "source": [
        "Сравните модели бустинга и сделайте про них выводы, какая из моделей показала лучший/худший результат по качеству, скорости обучения и скорости предсказания? Как отличаются гиперпараметры для разных моделей?"
      ]
    },
    {
      "cell_type": "markdown",
      "source": [
        "**Ответ:** Сравним модели бустинга, по качеству предсказания лучший результат показала модель LightGBM, худший результат - линейная модель (очень большое значение отклонения, хотя и обучается быстро). Что касается скорости обучения, то выделяются следующие модели: линейная обучается действительно быстро, а вот XGboost пришлось доооолго ждать :( По скорости предсказания лидирует модель LightGBM, а CatBoost - это вообще кошмар (особенно с pool)!\n",
        "\n",
        "Можно сказать, что лучше всего для данной задачи выбрать LightGBM, т.к. скорости обучения и предсказания удовлетворительные, а точность предсказаний высокая.\n",
        "\n",
        "Гиперпараметры для разных моделей отличаются, однако имеют такие общие параметры, как learning_rate (скорость обучения модели), max_depth (максимальная глубина деревьев), min_child_weight (минимальный вес для разделения узла)."
      ],
      "metadata": {
        "id": "rzJqFhYxnP8-"
      },
      "id": "rzJqFhYxnP8-"
    },
    {
      "cell_type": "markdown",
      "id": "fokm4x1WmxQr",
      "metadata": {
        "id": "fokm4x1WmxQr"
      },
      "source": [
        "# Часть 2 Кластеризация (5 баллов)"
      ]
    },
    {
      "cell_type": "markdown",
      "id": "UZBpHMoNm1Sa",
      "metadata": {
        "id": "UZBpHMoNm1Sa"
      },
      "source": [
        "Будем работать с данными о том, каких исполнителей слушают пользователи музыкального сервиса.\n",
        "\n",
        "Каждая строка таблицы - информация об одном пользователе. Каждый столбец - это исполнитель (The Beatles, Radiohead, etc.)\n",
        "\n",
        "Для каждой пары (пользователь, исполнитель) в таблице стоит число - доля прослушивания этого исполнителя этим пользователем.\n"
      ]
    },
    {
      "cell_type": "code",
      "execution_count": null,
      "id": "nGa-xYikoogL",
      "metadata": {
        "colab": {
          "base_uri": "https://localhost:8080/",
          "height": 252
        },
        "id": "nGa-xYikoogL",
        "outputId": "b7bfd6dd-d394-449f-e0a1-ab0a199f3bd5"
      },
      "outputs": [
        {
          "output_type": "execute_result",
          "data": {
            "text/plain": [
              "   user  the beatles  radiohead  deathcab for cutie  coldplay  modest mouse  \\\n",
              "0     0          NaN   0.020417                 NaN       NaN           NaN   \n",
              "1     1          NaN   0.184962            0.024561       NaN           NaN   \n",
              "2     2          NaN        NaN            0.028635       NaN           NaN   \n",
              "3     3          NaN        NaN                 NaN       NaN           NaN   \n",
              "4     4     0.043529   0.086281            0.034590  0.016712      0.015935   \n",
              "\n",
              "   sufjan stevens  dylan. bob  red hot clili peppers  pink fluid  ...  \\\n",
              "0             NaN         NaN               0.030496         NaN  ...   \n",
              "1        0.136341         NaN                    NaN         NaN  ...   \n",
              "2             NaN    0.024559                    NaN         NaN  ...   \n",
              "3             NaN         NaN                    NaN         NaN  ...   \n",
              "4             NaN         NaN                    NaN         NaN  ...   \n",
              "\n",
              "   municipal waste  townes van zandt  curtis mayfield  jewel  lamb  \\\n",
              "0              NaN               NaN              NaN    NaN   NaN   \n",
              "1              NaN               NaN              NaN    NaN   NaN   \n",
              "2              NaN               NaN              NaN    NaN   NaN   \n",
              "3              NaN               NaN              NaN    NaN   NaN   \n",
              "4              NaN               NaN              NaN    NaN   NaN   \n",
              "\n",
              "   michal w. smith  群星  agalloch  meshuggah  yellowcard  \n",
              "0              NaN NaN       NaN        NaN         NaN  \n",
              "1              NaN NaN       NaN        NaN         NaN  \n",
              "2              NaN NaN       NaN        NaN         NaN  \n",
              "3              NaN NaN       NaN        NaN         NaN  \n",
              "4              NaN NaN       NaN        NaN         NaN  \n",
              "\n",
              "[5 rows x 1001 columns]"
            ],
            "text/html": [
              "\n",
              "  <div id=\"df-8f5101e9-5260-4503-b73f-f98d7478274e\" class=\"colab-df-container\">\n",
              "    <div>\n",
              "<style scoped>\n",
              "    .dataframe tbody tr th:only-of-type {\n",
              "        vertical-align: middle;\n",
              "    }\n",
              "\n",
              "    .dataframe tbody tr th {\n",
              "        vertical-align: top;\n",
              "    }\n",
              "\n",
              "    .dataframe thead th {\n",
              "        text-align: right;\n",
              "    }\n",
              "</style>\n",
              "<table border=\"1\" class=\"dataframe\">\n",
              "  <thead>\n",
              "    <tr style=\"text-align: right;\">\n",
              "      <th></th>\n",
              "      <th>user</th>\n",
              "      <th>the beatles</th>\n",
              "      <th>radiohead</th>\n",
              "      <th>deathcab for cutie</th>\n",
              "      <th>coldplay</th>\n",
              "      <th>modest mouse</th>\n",
              "      <th>sufjan stevens</th>\n",
              "      <th>dylan. bob</th>\n",
              "      <th>red hot clili peppers</th>\n",
              "      <th>pink fluid</th>\n",
              "      <th>...</th>\n",
              "      <th>municipal waste</th>\n",
              "      <th>townes van zandt</th>\n",
              "      <th>curtis mayfield</th>\n",
              "      <th>jewel</th>\n",
              "      <th>lamb</th>\n",
              "      <th>michal w. smith</th>\n",
              "      <th>群星</th>\n",
              "      <th>agalloch</th>\n",
              "      <th>meshuggah</th>\n",
              "      <th>yellowcard</th>\n",
              "    </tr>\n",
              "  </thead>\n",
              "  <tbody>\n",
              "    <tr>\n",
              "      <th>0</th>\n",
              "      <td>0</td>\n",
              "      <td>NaN</td>\n",
              "      <td>0.020417</td>\n",
              "      <td>NaN</td>\n",
              "      <td>NaN</td>\n",
              "      <td>NaN</td>\n",
              "      <td>NaN</td>\n",
              "      <td>NaN</td>\n",
              "      <td>0.030496</td>\n",
              "      <td>NaN</td>\n",
              "      <td>...</td>\n",
              "      <td>NaN</td>\n",
              "      <td>NaN</td>\n",
              "      <td>NaN</td>\n",
              "      <td>NaN</td>\n",
              "      <td>NaN</td>\n",
              "      <td>NaN</td>\n",
              "      <td>NaN</td>\n",
              "      <td>NaN</td>\n",
              "      <td>NaN</td>\n",
              "      <td>NaN</td>\n",
              "    </tr>\n",
              "    <tr>\n",
              "      <th>1</th>\n",
              "      <td>1</td>\n",
              "      <td>NaN</td>\n",
              "      <td>0.184962</td>\n",
              "      <td>0.024561</td>\n",
              "      <td>NaN</td>\n",
              "      <td>NaN</td>\n",
              "      <td>0.136341</td>\n",
              "      <td>NaN</td>\n",
              "      <td>NaN</td>\n",
              "      <td>NaN</td>\n",
              "      <td>...</td>\n",
              "      <td>NaN</td>\n",
              "      <td>NaN</td>\n",
              "      <td>NaN</td>\n",
              "      <td>NaN</td>\n",
              "      <td>NaN</td>\n",
              "      <td>NaN</td>\n",
              "      <td>NaN</td>\n",
              "      <td>NaN</td>\n",
              "      <td>NaN</td>\n",
              "      <td>NaN</td>\n",
              "    </tr>\n",
              "    <tr>\n",
              "      <th>2</th>\n",
              "      <td>2</td>\n",
              "      <td>NaN</td>\n",
              "      <td>NaN</td>\n",
              "      <td>0.028635</td>\n",
              "      <td>NaN</td>\n",
              "      <td>NaN</td>\n",
              "      <td>NaN</td>\n",
              "      <td>0.024559</td>\n",
              "      <td>NaN</td>\n",
              "      <td>NaN</td>\n",
              "      <td>...</td>\n",
              "      <td>NaN</td>\n",
              "      <td>NaN</td>\n",
              "      <td>NaN</td>\n",
              "      <td>NaN</td>\n",
              "      <td>NaN</td>\n",
              "      <td>NaN</td>\n",
              "      <td>NaN</td>\n",
              "      <td>NaN</td>\n",
              "      <td>NaN</td>\n",
              "      <td>NaN</td>\n",
              "    </tr>\n",
              "    <tr>\n",
              "      <th>3</th>\n",
              "      <td>3</td>\n",
              "      <td>NaN</td>\n",
              "      <td>NaN</td>\n",
              "      <td>NaN</td>\n",
              "      <td>NaN</td>\n",
              "      <td>NaN</td>\n",
              "      <td>NaN</td>\n",
              "      <td>NaN</td>\n",
              "      <td>NaN</td>\n",
              "      <td>NaN</td>\n",
              "      <td>...</td>\n",
              "      <td>NaN</td>\n",
              "      <td>NaN</td>\n",
              "      <td>NaN</td>\n",
              "      <td>NaN</td>\n",
              "      <td>NaN</td>\n",
              "      <td>NaN</td>\n",
              "      <td>NaN</td>\n",
              "      <td>NaN</td>\n",
              "      <td>NaN</td>\n",
              "      <td>NaN</td>\n",
              "    </tr>\n",
              "    <tr>\n",
              "      <th>4</th>\n",
              "      <td>4</td>\n",
              "      <td>0.043529</td>\n",
              "      <td>0.086281</td>\n",
              "      <td>0.034590</td>\n",
              "      <td>0.016712</td>\n",
              "      <td>0.015935</td>\n",
              "      <td>NaN</td>\n",
              "      <td>NaN</td>\n",
              "      <td>NaN</td>\n",
              "      <td>NaN</td>\n",
              "      <td>...</td>\n",
              "      <td>NaN</td>\n",
              "      <td>NaN</td>\n",
              "      <td>NaN</td>\n",
              "      <td>NaN</td>\n",
              "      <td>NaN</td>\n",
              "      <td>NaN</td>\n",
              "      <td>NaN</td>\n",
              "      <td>NaN</td>\n",
              "      <td>NaN</td>\n",
              "      <td>NaN</td>\n",
              "    </tr>\n",
              "  </tbody>\n",
              "</table>\n",
              "<p>5 rows × 1001 columns</p>\n",
              "</div>\n",
              "    <div class=\"colab-df-buttons\">\n",
              "\n",
              "  <div class=\"colab-df-container\">\n",
              "    <button class=\"colab-df-convert\" onclick=\"convertToInteractive('df-8f5101e9-5260-4503-b73f-f98d7478274e')\"\n",
              "            title=\"Convert this dataframe to an interactive table.\"\n",
              "            style=\"display:none;\">\n",
              "\n",
              "  <svg xmlns=\"http://www.w3.org/2000/svg\" height=\"24px\" viewBox=\"0 -960 960 960\">\n",
              "    <path d=\"M120-120v-720h720v720H120Zm60-500h600v-160H180v160Zm220 220h160v-160H400v160Zm0 220h160v-160H400v160ZM180-400h160v-160H180v160Zm440 0h160v-160H620v160ZM180-180h160v-160H180v160Zm440 0h160v-160H620v160Z\"/>\n",
              "  </svg>\n",
              "    </button>\n",
              "\n",
              "  <style>\n",
              "    .colab-df-container {\n",
              "      display:flex;\n",
              "      gap: 12px;\n",
              "    }\n",
              "\n",
              "    .colab-df-convert {\n",
              "      background-color: #E8F0FE;\n",
              "      border: none;\n",
              "      border-radius: 50%;\n",
              "      cursor: pointer;\n",
              "      display: none;\n",
              "      fill: #1967D2;\n",
              "      height: 32px;\n",
              "      padding: 0 0 0 0;\n",
              "      width: 32px;\n",
              "    }\n",
              "\n",
              "    .colab-df-convert:hover {\n",
              "      background-color: #E2EBFA;\n",
              "      box-shadow: 0px 1px 2px rgba(60, 64, 67, 0.3), 0px 1px 3px 1px rgba(60, 64, 67, 0.15);\n",
              "      fill: #174EA6;\n",
              "    }\n",
              "\n",
              "    .colab-df-buttons div {\n",
              "      margin-bottom: 4px;\n",
              "    }\n",
              "\n",
              "    [theme=dark] .colab-df-convert {\n",
              "      background-color: #3B4455;\n",
              "      fill: #D2E3FC;\n",
              "    }\n",
              "\n",
              "    [theme=dark] .colab-df-convert:hover {\n",
              "      background-color: #434B5C;\n",
              "      box-shadow: 0px 1px 3px 1px rgba(0, 0, 0, 0.15);\n",
              "      filter: drop-shadow(0px 1px 2px rgba(0, 0, 0, 0.3));\n",
              "      fill: #FFFFFF;\n",
              "    }\n",
              "  </style>\n",
              "\n",
              "    <script>\n",
              "      const buttonEl =\n",
              "        document.querySelector('#df-8f5101e9-5260-4503-b73f-f98d7478274e button.colab-df-convert');\n",
              "      buttonEl.style.display =\n",
              "        google.colab.kernel.accessAllowed ? 'block' : 'none';\n",
              "\n",
              "      async function convertToInteractive(key) {\n",
              "        const element = document.querySelector('#df-8f5101e9-5260-4503-b73f-f98d7478274e');\n",
              "        const dataTable =\n",
              "          await google.colab.kernel.invokeFunction('convertToInteractive',\n",
              "                                                    [key], {});\n",
              "        if (!dataTable) return;\n",
              "\n",
              "        const docLinkHtml = 'Like what you see? Visit the ' +\n",
              "          '<a target=\"_blank\" href=https://colab.research.google.com/notebooks/data_table.ipynb>data table notebook</a>'\n",
              "          + ' to learn more about interactive tables.';\n",
              "        element.innerHTML = '';\n",
              "        dataTable['output_type'] = 'display_data';\n",
              "        await google.colab.output.renderOutput(dataTable, element);\n",
              "        const docLink = document.createElement('div');\n",
              "        docLink.innerHTML = docLinkHtml;\n",
              "        element.appendChild(docLink);\n",
              "      }\n",
              "    </script>\n",
              "  </div>\n",
              "\n",
              "\n",
              "<div id=\"df-a9d5a186-2ac2-4c59-9397-1b0cdb7c55d2\">\n",
              "  <button class=\"colab-df-quickchart\" onclick=\"quickchart('df-a9d5a186-2ac2-4c59-9397-1b0cdb7c55d2')\"\n",
              "            title=\"Suggest charts\"\n",
              "            style=\"display:none;\">\n",
              "\n",
              "<svg xmlns=\"http://www.w3.org/2000/svg\" height=\"24px\"viewBox=\"0 0 24 24\"\n",
              "     width=\"24px\">\n",
              "    <g>\n",
              "        <path d=\"M19 3H5c-1.1 0-2 .9-2 2v14c0 1.1.9 2 2 2h14c1.1 0 2-.9 2-2V5c0-1.1-.9-2-2-2zM9 17H7v-7h2v7zm4 0h-2V7h2v10zm4 0h-2v-4h2v4z\"/>\n",
              "    </g>\n",
              "</svg>\n",
              "  </button>\n",
              "\n",
              "<style>\n",
              "  .colab-df-quickchart {\n",
              "      --bg-color: #E8F0FE;\n",
              "      --fill-color: #1967D2;\n",
              "      --hover-bg-color: #E2EBFA;\n",
              "      --hover-fill-color: #174EA6;\n",
              "      --disabled-fill-color: #AAA;\n",
              "      --disabled-bg-color: #DDD;\n",
              "  }\n",
              "\n",
              "  [theme=dark] .colab-df-quickchart {\n",
              "      --bg-color: #3B4455;\n",
              "      --fill-color: #D2E3FC;\n",
              "      --hover-bg-color: #434B5C;\n",
              "      --hover-fill-color: #FFFFFF;\n",
              "      --disabled-bg-color: #3B4455;\n",
              "      --disabled-fill-color: #666;\n",
              "  }\n",
              "\n",
              "  .colab-df-quickchart {\n",
              "    background-color: var(--bg-color);\n",
              "    border: none;\n",
              "    border-radius: 50%;\n",
              "    cursor: pointer;\n",
              "    display: none;\n",
              "    fill: var(--fill-color);\n",
              "    height: 32px;\n",
              "    padding: 0;\n",
              "    width: 32px;\n",
              "  }\n",
              "\n",
              "  .colab-df-quickchart:hover {\n",
              "    background-color: var(--hover-bg-color);\n",
              "    box-shadow: 0 1px 2px rgba(60, 64, 67, 0.3), 0 1px 3px 1px rgba(60, 64, 67, 0.15);\n",
              "    fill: var(--button-hover-fill-color);\n",
              "  }\n",
              "\n",
              "  .colab-df-quickchart-complete:disabled,\n",
              "  .colab-df-quickchart-complete:disabled:hover {\n",
              "    background-color: var(--disabled-bg-color);\n",
              "    fill: var(--disabled-fill-color);\n",
              "    box-shadow: none;\n",
              "  }\n",
              "\n",
              "  .colab-df-spinner {\n",
              "    border: 2px solid var(--fill-color);\n",
              "    border-color: transparent;\n",
              "    border-bottom-color: var(--fill-color);\n",
              "    animation:\n",
              "      spin 1s steps(1) infinite;\n",
              "  }\n",
              "\n",
              "  @keyframes spin {\n",
              "    0% {\n",
              "      border-color: transparent;\n",
              "      border-bottom-color: var(--fill-color);\n",
              "      border-left-color: var(--fill-color);\n",
              "    }\n",
              "    20% {\n",
              "      border-color: transparent;\n",
              "      border-left-color: var(--fill-color);\n",
              "      border-top-color: var(--fill-color);\n",
              "    }\n",
              "    30% {\n",
              "      border-color: transparent;\n",
              "      border-left-color: var(--fill-color);\n",
              "      border-top-color: var(--fill-color);\n",
              "      border-right-color: var(--fill-color);\n",
              "    }\n",
              "    40% {\n",
              "      border-color: transparent;\n",
              "      border-right-color: var(--fill-color);\n",
              "      border-top-color: var(--fill-color);\n",
              "    }\n",
              "    60% {\n",
              "      border-color: transparent;\n",
              "      border-right-color: var(--fill-color);\n",
              "    }\n",
              "    80% {\n",
              "      border-color: transparent;\n",
              "      border-right-color: var(--fill-color);\n",
              "      border-bottom-color: var(--fill-color);\n",
              "    }\n",
              "    90% {\n",
              "      border-color: transparent;\n",
              "      border-bottom-color: var(--fill-color);\n",
              "    }\n",
              "  }\n",
              "</style>\n",
              "\n",
              "  <script>\n",
              "    async function quickchart(key) {\n",
              "      const quickchartButtonEl =\n",
              "        document.querySelector('#' + key + ' button');\n",
              "      quickchartButtonEl.disabled = true;  // To prevent multiple clicks.\n",
              "      quickchartButtonEl.classList.add('colab-df-spinner');\n",
              "      try {\n",
              "        const charts = await google.colab.kernel.invokeFunction(\n",
              "            'suggestCharts', [key], {});\n",
              "      } catch (error) {\n",
              "        console.error('Error during call to suggestCharts:', error);\n",
              "      }\n",
              "      quickchartButtonEl.classList.remove('colab-df-spinner');\n",
              "      quickchartButtonEl.classList.add('colab-df-quickchart-complete');\n",
              "    }\n",
              "    (() => {\n",
              "      let quickchartButtonEl =\n",
              "        document.querySelector('#df-a9d5a186-2ac2-4c59-9397-1b0cdb7c55d2 button');\n",
              "      quickchartButtonEl.style.display =\n",
              "        google.colab.kernel.accessAllowed ? 'block' : 'none';\n",
              "    })();\n",
              "  </script>\n",
              "</div>\n",
              "    </div>\n",
              "  </div>\n"
            ],
            "application/vnd.google.colaboratory.intrinsic+json": {
              "type": "dataframe",
              "variable_name": "ratings"
            }
          },
          "metadata": {},
          "execution_count": 20
        }
      ],
      "source": [
        "import pandas as pd\n",
        "ratings = pd.read_excel(\"https://github.com/evgpat/edu_stepik_rec_sys/blob/main/datasets/sample_matrix.xlsx?raw=true\", engine='openpyxl')\n",
        "ratings.head()"
      ]
    },
    {
      "cell_type": "markdown",
      "id": "sGeCPjTAoxWs",
      "metadata": {
        "id": "sGeCPjTAoxWs"
      },
      "source": [
        "Будем строить кластеризацию исполнителей: если двух исполнителей слушало много людей примерно одинаковую долю своего времени (то есть векторы близки в пространстве), то, возможно исполнители похожи. Эта информация может быть полезна при построении рекомендательных систем."
      ]
    },
    {
      "cell_type": "markdown",
      "id": "R37mE-R2_3Wj",
      "metadata": {
        "id": "R37mE-R2_3Wj"
      },
      "source": [
        "## Задание 1 (0.5 балла) Подготовка"
      ]
    },
    {
      "cell_type": "markdown",
      "id": "orn7K6q8plA5",
      "metadata": {
        "id": "orn7K6q8plA5"
      },
      "source": [
        "Транспонируем матрицу ratings, чтобы по строкам стояли исполнители."
      ]
    },
    {
      "cell_type": "code",
      "execution_count": null,
      "id": "KU6ljPlCpiwH",
      "metadata": {
        "id": "KU6ljPlCpiwH"
      },
      "outputs": [],
      "source": [
        "ratings = ratings.T"
      ]
    },
    {
      "cell_type": "markdown",
      "id": "WEKrlEhMpkhF",
      "metadata": {
        "id": "WEKrlEhMpkhF"
      },
      "source": [
        "Выкиньте строку под названием `user`."
      ]
    },
    {
      "cell_type": "code",
      "execution_count": null,
      "id": "yAaV1q9TpuMh",
      "metadata": {
        "id": "yAaV1q9TpuMh"
      },
      "outputs": [],
      "source": [
        "ratings = ratings.drop('user', axis=0)"
      ]
    },
    {
      "cell_type": "markdown",
      "id": "Z823IqqPpv_s",
      "metadata": {
        "id": "Z823IqqPpv_s"
      },
      "source": [
        "В таблице много пропусков, так как пользователи слушают не всех-всех исполнителей, чья музыка представлена в сервисе, а некоторое подмножество (обычно около 30 исполнителей)\n",
        "\n",
        "\n",
        "Доля исполнителя в музыке, прослушанной  пользователем, равна 0, если пользователь никогда не слушал музыку данного музыканта, поэтому заполните пропуски нулями.\n",
        "\n"
      ]
    },
    {
      "cell_type": "code",
      "execution_count": null,
      "id": "XRdHzXJUsOeS",
      "metadata": {
        "colab": {
          "base_uri": "https://localhost:8080/",
          "height": 110
        },
        "id": "XRdHzXJUsOeS",
        "outputId": "3c141441-0b48-4812-b2bd-47ea8e6aa52f"
      },
      "outputs": [
        {
          "output_type": "execute_result",
          "data": {
            "text/plain": [
              "                  0     1     2     3     4         5     6     7     8     \\\n",
              "antony; johnsons   0.0   0.0   0.0   0.0   0.0  0.102725   0.0   0.0   0.0   \n",
              "\n",
              "                  9     ...  4990  4991  4992  4993  4994  4995  4996  4997  \\\n",
              "antony; johnsons   0.0  ...   0.0   0.0   0.0   0.0   0.0   0.0   0.0   0.0   \n",
              "\n",
              "                  4998  4999  \n",
              "antony; johnsons   0.0   0.0  \n",
              "\n",
              "[1 rows x 5000 columns]"
            ],
            "text/html": [
              "\n",
              "  <div id=\"df-eb2bceda-3a2e-4c93-98d3-bc25bc37f405\" class=\"colab-df-container\">\n",
              "    <div>\n",
              "<style scoped>\n",
              "    .dataframe tbody tr th:only-of-type {\n",
              "        vertical-align: middle;\n",
              "    }\n",
              "\n",
              "    .dataframe tbody tr th {\n",
              "        vertical-align: top;\n",
              "    }\n",
              "\n",
              "    .dataframe thead th {\n",
              "        text-align: right;\n",
              "    }\n",
              "</style>\n",
              "<table border=\"1\" class=\"dataframe\">\n",
              "  <thead>\n",
              "    <tr style=\"text-align: right;\">\n",
              "      <th></th>\n",
              "      <th>0</th>\n",
              "      <th>1</th>\n",
              "      <th>2</th>\n",
              "      <th>3</th>\n",
              "      <th>4</th>\n",
              "      <th>5</th>\n",
              "      <th>6</th>\n",
              "      <th>7</th>\n",
              "      <th>8</th>\n",
              "      <th>9</th>\n",
              "      <th>...</th>\n",
              "      <th>4990</th>\n",
              "      <th>4991</th>\n",
              "      <th>4992</th>\n",
              "      <th>4993</th>\n",
              "      <th>4994</th>\n",
              "      <th>4995</th>\n",
              "      <th>4996</th>\n",
              "      <th>4997</th>\n",
              "      <th>4998</th>\n",
              "      <th>4999</th>\n",
              "    </tr>\n",
              "  </thead>\n",
              "  <tbody>\n",
              "    <tr>\n",
              "      <th>antony; johnsons</th>\n",
              "      <td>0.0</td>\n",
              "      <td>0.0</td>\n",
              "      <td>0.0</td>\n",
              "      <td>0.0</td>\n",
              "      <td>0.0</td>\n",
              "      <td>0.102725</td>\n",
              "      <td>0.0</td>\n",
              "      <td>0.0</td>\n",
              "      <td>0.0</td>\n",
              "      <td>0.0</td>\n",
              "      <td>...</td>\n",
              "      <td>0.0</td>\n",
              "      <td>0.0</td>\n",
              "      <td>0.0</td>\n",
              "      <td>0.0</td>\n",
              "      <td>0.0</td>\n",
              "      <td>0.0</td>\n",
              "      <td>0.0</td>\n",
              "      <td>0.0</td>\n",
              "      <td>0.0</td>\n",
              "      <td>0.0</td>\n",
              "    </tr>\n",
              "  </tbody>\n",
              "</table>\n",
              "<p>1 rows × 5000 columns</p>\n",
              "</div>\n",
              "    <div class=\"colab-df-buttons\">\n",
              "\n",
              "  <div class=\"colab-df-container\">\n",
              "    <button class=\"colab-df-convert\" onclick=\"convertToInteractive('df-eb2bceda-3a2e-4c93-98d3-bc25bc37f405')\"\n",
              "            title=\"Convert this dataframe to an interactive table.\"\n",
              "            style=\"display:none;\">\n",
              "\n",
              "  <svg xmlns=\"http://www.w3.org/2000/svg\" height=\"24px\" viewBox=\"0 -960 960 960\">\n",
              "    <path d=\"M120-120v-720h720v720H120Zm60-500h600v-160H180v160Zm220 220h160v-160H400v160Zm0 220h160v-160H400v160ZM180-400h160v-160H180v160Zm440 0h160v-160H620v160ZM180-180h160v-160H180v160Zm440 0h160v-160H620v160Z\"/>\n",
              "  </svg>\n",
              "    </button>\n",
              "\n",
              "  <style>\n",
              "    .colab-df-container {\n",
              "      display:flex;\n",
              "      gap: 12px;\n",
              "    }\n",
              "\n",
              "    .colab-df-convert {\n",
              "      background-color: #E8F0FE;\n",
              "      border: none;\n",
              "      border-radius: 50%;\n",
              "      cursor: pointer;\n",
              "      display: none;\n",
              "      fill: #1967D2;\n",
              "      height: 32px;\n",
              "      padding: 0 0 0 0;\n",
              "      width: 32px;\n",
              "    }\n",
              "\n",
              "    .colab-df-convert:hover {\n",
              "      background-color: #E2EBFA;\n",
              "      box-shadow: 0px 1px 2px rgba(60, 64, 67, 0.3), 0px 1px 3px 1px rgba(60, 64, 67, 0.15);\n",
              "      fill: #174EA6;\n",
              "    }\n",
              "\n",
              "    .colab-df-buttons div {\n",
              "      margin-bottom: 4px;\n",
              "    }\n",
              "\n",
              "    [theme=dark] .colab-df-convert {\n",
              "      background-color: #3B4455;\n",
              "      fill: #D2E3FC;\n",
              "    }\n",
              "\n",
              "    [theme=dark] .colab-df-convert:hover {\n",
              "      background-color: #434B5C;\n",
              "      box-shadow: 0px 1px 3px 1px rgba(0, 0, 0, 0.15);\n",
              "      filter: drop-shadow(0px 1px 2px rgba(0, 0, 0, 0.3));\n",
              "      fill: #FFFFFF;\n",
              "    }\n",
              "  </style>\n",
              "\n",
              "    <script>\n",
              "      const buttonEl =\n",
              "        document.querySelector('#df-eb2bceda-3a2e-4c93-98d3-bc25bc37f405 button.colab-df-convert');\n",
              "      buttonEl.style.display =\n",
              "        google.colab.kernel.accessAllowed ? 'block' : 'none';\n",
              "\n",
              "      async function convertToInteractive(key) {\n",
              "        const element = document.querySelector('#df-eb2bceda-3a2e-4c93-98d3-bc25bc37f405');\n",
              "        const dataTable =\n",
              "          await google.colab.kernel.invokeFunction('convertToInteractive',\n",
              "                                                    [key], {});\n",
              "        if (!dataTable) return;\n",
              "\n",
              "        const docLinkHtml = 'Like what you see? Visit the ' +\n",
              "          '<a target=\"_blank\" href=https://colab.research.google.com/notebooks/data_table.ipynb>data table notebook</a>'\n",
              "          + ' to learn more about interactive tables.';\n",
              "        element.innerHTML = '';\n",
              "        dataTable['output_type'] = 'display_data';\n",
              "        await google.colab.output.renderOutput(dataTable, element);\n",
              "        const docLink = document.createElement('div');\n",
              "        docLink.innerHTML = docLinkHtml;\n",
              "        element.appendChild(docLink);\n",
              "      }\n",
              "    </script>\n",
              "  </div>\n",
              "\n",
              "    </div>\n",
              "  </div>\n"
            ],
            "application/vnd.google.colaboratory.intrinsic+json": {
              "type": "dataframe"
            }
          },
          "metadata": {},
          "execution_count": 23
        }
      ],
      "source": [
        "ratings = ratings.fillna(0)\n",
        "ratings.sample()"
      ]
    },
    {
      "cell_type": "markdown",
      "id": "0_1D0JnmAAjL",
      "metadata": {
        "id": "0_1D0JnmAAjL"
      },
      "source": [
        "## Задание 2 (0.5 балла) Первая кластеризация"
      ]
    },
    {
      "cell_type": "markdown",
      "id": "ARuDv5grstBl",
      "metadata": {
        "id": "ARuDv5grstBl"
      },
      "source": [
        "Примените KMeans с 5ю кластерами, сохраните полученные лейблы"
      ]
    },
    {
      "cell_type": "code",
      "execution_count": null,
      "id": "r2HxwIN5ssoO",
      "metadata": {
        "id": "r2HxwIN5ssoO",
        "colab": {
          "base_uri": "https://localhost:8080/"
        },
        "outputId": "3e5cc590-0aa9-494f-8d50-5b309e2912af"
      },
      "outputs": [
        {
          "output_type": "stream",
          "name": "stderr",
          "text": [
            "/usr/local/lib/python3.10/dist-packages/sklearn/cluster/_kmeans.py:870: FutureWarning: The default value of `n_init` will change from 10 to 'auto' in 1.4. Set the value of `n_init` explicitly to suppress the warning\n",
            "  warnings.warn(\n"
          ]
        }
      ],
      "source": [
        "from sklearn.cluster import KMeans\n",
        "\n",
        "k_means = KMeans(n_clusters = 5)\n",
        "k_means = k_means.fit(ratings)\n",
        "clusters = k_means.predict(ratings)\n",
        "\n",
        "labels = k_means.labels_"
      ]
    },
    {
      "cell_type": "markdown",
      "id": "aoWre3460SVi",
      "metadata": {
        "id": "aoWre3460SVi"
      },
      "source": [
        "Выведите размеры кластеров. Полезной ли получилась кластеризация? Почему KMeans может выдать такой результат?"
      ]
    },
    {
      "cell_type": "code",
      "execution_count": null,
      "id": "zsGGw7ha1OhP",
      "metadata": {
        "id": "zsGGw7ha1OhP",
        "colab": {
          "base_uri": "https://localhost:8080/"
        },
        "outputId": "6e5d7e8f-b80d-4bd7-b242-49221776aaf1"
      },
      "outputs": [
        {
          "output_type": "stream",
          "name": "stdout",
          "text": [
            "Размеры кластеров: 30, 967, 1, 1, 1\n"
          ]
        }
      ],
      "source": [
        "ratings['cluster'] = labels\n",
        "\n",
        "clust0 = ratings[ratings['cluster'] == 0]\n",
        "clust1 = ratings[ratings['cluster'] == 1]\n",
        "clust2 = ratings[ratings['cluster'] == 2]\n",
        "clust3 = ratings[ratings['cluster'] == 3]\n",
        "clust4 = ratings[ratings['cluster'] == 4]\n",
        "\n",
        "print(f\"Размеры кластеров: {len(clust0)}, {len(clust1)}, {len(clust2)}, {len(clust3)}, {len(clust4)}\")"
      ]
    },
    {
      "cell_type": "markdown",
      "id": "lCcSpb2o11nZ",
      "metadata": {
        "id": "lCcSpb2o11nZ"
      },
      "source": [
        "**Ответ:** Кластеризация получилась бесполезной, KMeans может выдать такой результат из-за проблем с выбором начального приближения и метрики расстояния, связанных со случайной инициализации центров кластеров."
      ]
    },
    {
      "cell_type": "markdown",
      "id": "HDLIxdWBAMql",
      "metadata": {
        "id": "HDLIxdWBAMql"
      },
      "source": [
        "## Задание 3 (0.5 балла) Объяснение результатов"
      ]
    },
    {
      "cell_type": "markdown",
      "id": "Z0LPwxlK6PX3",
      "metadata": {
        "id": "Z0LPwxlK6PX3"
      },
      "source": [
        "При кластеризации получилось $\\geq 1$ кластера размера 1. Выведите исполнителей, которые составляют такие кластеры. Среди них должна быть группа The Beatles."
      ]
    },
    {
      "cell_type": "code",
      "execution_count": null,
      "id": "GpopP65iUXiJ",
      "metadata": {
        "id": "GpopP65iUXiJ",
        "colab": {
          "base_uri": "https://localhost:8080/"
        },
        "outputId": "f9bced26-5b50-4a72-ab1c-63f6c0f825a7"
      },
      "outputs": [
        {
          "output_type": "stream",
          "name": "stdout",
          "text": [
            "Исполнители:\n",
            "sonic youth\n",
            "various korean artists\n",
            "the beatles\n"
          ]
        }
      ],
      "source": [
        "print('Исполнители:', *ratings[ratings['cluster'] == 2].index, *ratings[ratings['cluster'] == 3].index, *ratings[ratings['cluster'] == 4].index, sep='\\n')"
      ]
    },
    {
      "cell_type": "markdown",
      "id": "brfvihta6yyG",
      "metadata": {
        "id": "brfvihta6yyG"
      },
      "source": [
        "Изучите данные, почему именно The Beatles выделяется?\n",
        "\n",
        "Подсказка: посмотрите на долю пользователей, которые слушают каждого исполнителя, среднюю долю прослушивания."
      ]
    },
    {
      "cell_type": "code",
      "source": [
        "ratings[ratings['cluster'] == 4]"
      ],
      "metadata": {
        "colab": {
          "base_uri": "https://localhost:8080/",
          "height": 110
        },
        "id": "NxN5dEHtoR0M",
        "outputId": "205966bf-abc1-495e-ad44-87763445b2aa"
      },
      "id": "NxN5dEHtoR0M",
      "execution_count": null,
      "outputs": [
        {
          "output_type": "execute_result",
          "data": {
            "text/plain": [
              "               0    1    2    3         4    5    6    7         8         9  \\\n",
              "the beatles  0.0  0.0  0.0  0.0  0.043529  0.0  0.0  0.0  0.093398  0.017621   \n",
              "\n",
              "             ...  4991      4992      4993      4994      4995  4996  \\\n",
              "the beatles  ...   0.0  0.121169  0.038168  0.007939  0.017884   0.0   \n",
              "\n",
              "                 4997  4998  4999  cluster  \n",
              "the beatles  0.076923   0.0   0.0        4  \n",
              "\n",
              "[1 rows x 5001 columns]"
            ],
            "text/html": [
              "\n",
              "  <div id=\"df-48e7a650-f1fd-4521-8307-4091924b68e1\" class=\"colab-df-container\">\n",
              "    <div>\n",
              "<style scoped>\n",
              "    .dataframe tbody tr th:only-of-type {\n",
              "        vertical-align: middle;\n",
              "    }\n",
              "\n",
              "    .dataframe tbody tr th {\n",
              "        vertical-align: top;\n",
              "    }\n",
              "\n",
              "    .dataframe thead th {\n",
              "        text-align: right;\n",
              "    }\n",
              "</style>\n",
              "<table border=\"1\" class=\"dataframe\">\n",
              "  <thead>\n",
              "    <tr style=\"text-align: right;\">\n",
              "      <th></th>\n",
              "      <th>0</th>\n",
              "      <th>1</th>\n",
              "      <th>2</th>\n",
              "      <th>3</th>\n",
              "      <th>4</th>\n",
              "      <th>5</th>\n",
              "      <th>6</th>\n",
              "      <th>7</th>\n",
              "      <th>8</th>\n",
              "      <th>9</th>\n",
              "      <th>...</th>\n",
              "      <th>4991</th>\n",
              "      <th>4992</th>\n",
              "      <th>4993</th>\n",
              "      <th>4994</th>\n",
              "      <th>4995</th>\n",
              "      <th>4996</th>\n",
              "      <th>4997</th>\n",
              "      <th>4998</th>\n",
              "      <th>4999</th>\n",
              "      <th>cluster</th>\n",
              "    </tr>\n",
              "  </thead>\n",
              "  <tbody>\n",
              "    <tr>\n",
              "      <th>the beatles</th>\n",
              "      <td>0.0</td>\n",
              "      <td>0.0</td>\n",
              "      <td>0.0</td>\n",
              "      <td>0.0</td>\n",
              "      <td>0.043529</td>\n",
              "      <td>0.0</td>\n",
              "      <td>0.0</td>\n",
              "      <td>0.0</td>\n",
              "      <td>0.093398</td>\n",
              "      <td>0.017621</td>\n",
              "      <td>...</td>\n",
              "      <td>0.0</td>\n",
              "      <td>0.121169</td>\n",
              "      <td>0.038168</td>\n",
              "      <td>0.007939</td>\n",
              "      <td>0.017884</td>\n",
              "      <td>0.0</td>\n",
              "      <td>0.076923</td>\n",
              "      <td>0.0</td>\n",
              "      <td>0.0</td>\n",
              "      <td>4</td>\n",
              "    </tr>\n",
              "  </tbody>\n",
              "</table>\n",
              "<p>1 rows × 5001 columns</p>\n",
              "</div>\n",
              "    <div class=\"colab-df-buttons\">\n",
              "\n",
              "  <div class=\"colab-df-container\">\n",
              "    <button class=\"colab-df-convert\" onclick=\"convertToInteractive('df-48e7a650-f1fd-4521-8307-4091924b68e1')\"\n",
              "            title=\"Convert this dataframe to an interactive table.\"\n",
              "            style=\"display:none;\">\n",
              "\n",
              "  <svg xmlns=\"http://www.w3.org/2000/svg\" height=\"24px\" viewBox=\"0 -960 960 960\">\n",
              "    <path d=\"M120-120v-720h720v720H120Zm60-500h600v-160H180v160Zm220 220h160v-160H400v160Zm0 220h160v-160H400v160ZM180-400h160v-160H180v160Zm440 0h160v-160H620v160ZM180-180h160v-160H180v160Zm440 0h160v-160H620v160Z\"/>\n",
              "  </svg>\n",
              "    </button>\n",
              "\n",
              "  <style>\n",
              "    .colab-df-container {\n",
              "      display:flex;\n",
              "      gap: 12px;\n",
              "    }\n",
              "\n",
              "    .colab-df-convert {\n",
              "      background-color: #E8F0FE;\n",
              "      border: none;\n",
              "      border-radius: 50%;\n",
              "      cursor: pointer;\n",
              "      display: none;\n",
              "      fill: #1967D2;\n",
              "      height: 32px;\n",
              "      padding: 0 0 0 0;\n",
              "      width: 32px;\n",
              "    }\n",
              "\n",
              "    .colab-df-convert:hover {\n",
              "      background-color: #E2EBFA;\n",
              "      box-shadow: 0px 1px 2px rgba(60, 64, 67, 0.3), 0px 1px 3px 1px rgba(60, 64, 67, 0.15);\n",
              "      fill: #174EA6;\n",
              "    }\n",
              "\n",
              "    .colab-df-buttons div {\n",
              "      margin-bottom: 4px;\n",
              "    }\n",
              "\n",
              "    [theme=dark] .colab-df-convert {\n",
              "      background-color: #3B4455;\n",
              "      fill: #D2E3FC;\n",
              "    }\n",
              "\n",
              "    [theme=dark] .colab-df-convert:hover {\n",
              "      background-color: #434B5C;\n",
              "      box-shadow: 0px 1px 3px 1px rgba(0, 0, 0, 0.15);\n",
              "      filter: drop-shadow(0px 1px 2px rgba(0, 0, 0, 0.3));\n",
              "      fill: #FFFFFF;\n",
              "    }\n",
              "  </style>\n",
              "\n",
              "    <script>\n",
              "      const buttonEl =\n",
              "        document.querySelector('#df-48e7a650-f1fd-4521-8307-4091924b68e1 button.colab-df-convert');\n",
              "      buttonEl.style.display =\n",
              "        google.colab.kernel.accessAllowed ? 'block' : 'none';\n",
              "\n",
              "      async function convertToInteractive(key) {\n",
              "        const element = document.querySelector('#df-48e7a650-f1fd-4521-8307-4091924b68e1');\n",
              "        const dataTable =\n",
              "          await google.colab.kernel.invokeFunction('convertToInteractive',\n",
              "                                                    [key], {});\n",
              "        if (!dataTable) return;\n",
              "\n",
              "        const docLinkHtml = 'Like what you see? Visit the ' +\n",
              "          '<a target=\"_blank\" href=https://colab.research.google.com/notebooks/data_table.ipynb>data table notebook</a>'\n",
              "          + ' to learn more about interactive tables.';\n",
              "        element.innerHTML = '';\n",
              "        dataTable['output_type'] = 'display_data';\n",
              "        await google.colab.output.renderOutput(dataTable, element);\n",
              "        const docLink = document.createElement('div');\n",
              "        docLink.innerHTML = docLinkHtml;\n",
              "        element.appendChild(docLink);\n",
              "      }\n",
              "    </script>\n",
              "  </div>\n",
              "\n",
              "    </div>\n",
              "  </div>\n"
            ],
            "application/vnd.google.colaboratory.intrinsic+json": {
              "type": "dataframe"
            }
          },
          "metadata": {},
          "execution_count": 29
        }
      ]
    },
    {
      "cell_type": "code",
      "execution_count": null,
      "id": "xnK6DL-aUdPi",
      "metadata": {
        "id": "xnK6DL-aUdPi",
        "colab": {
          "base_uri": "https://localhost:8080/"
        },
        "outputId": "99e84e88-1f91-4cb7-bea4-6f5f12a28d12"
      },
      "outputs": [
        {
          "output_type": "stream",
          "name": "stdout",
          "text": [
            "Средняя доля прослушивания: 0.0009950\n",
            "Доля прослушивания the beatles относительно остальных: 19.2614315\n"
          ]
        }
      ],
      "source": [
        "mean_listen_share = ratings.mean().mean()\n",
        "print(f'Средняя доля прослушивания: {mean_listen_share:.7f}')\n",
        "print(f'Доля прослушивания the beatles относительно остальных: {ratings.iloc[0].mean()/mean_listen_share:.7f}')"
      ]
    },
    {
      "cell_type": "markdown",
      "id": "QzYYFir870jG",
      "metadata": {
        "id": "QzYYFir870jG"
      },
      "source": [
        "**Ответ:** the beatles выделяется среди остальных тем, что их слушают гораздо чаще остальных исполнителей, поэтому они выделились в отдельный кластер как выброс (если так можно выразиться)."
      ]
    },
    {
      "cell_type": "markdown",
      "id": "faW2kZFjAS9X",
      "metadata": {
        "id": "faW2kZFjAS9X"
      },
      "source": [
        "## Задание 4 (0.5 балла) Улучшение кластеризации"
      ]
    },
    {
      "cell_type": "markdown",
      "id": "Yzz3BbBw9KKt",
      "metadata": {
        "id": "Yzz3BbBw9KKt"
      },
      "source": [
        "Попытаемся избавиться от этой проблемы: нормализуйте данные при помощи `normalize`."
      ]
    },
    {
      "cell_type": "code",
      "execution_count": null,
      "id": "310281e0",
      "metadata": {
        "id": "310281e0"
      },
      "outputs": [],
      "source": [
        "from sklearn.preprocessing import normalize\n",
        "\n",
        "ratings_normalized = pd.DataFrame(normalize(ratings, axis=1), columns=ratings.T.index.astype(str)).set_index(ratings.index)"
      ]
    },
    {
      "cell_type": "code",
      "execution_count": null,
      "id": "75c67724",
      "metadata": {
        "colab": {
          "base_uri": "https://localhost:8080/",
          "height": 235
        },
        "id": "75c67724",
        "outputId": "56e59f1c-89fe-440d-93a0-2a7888f97816"
      },
      "outputs": [
        {
          "output_type": "execute_result",
          "data": {
            "text/plain": [
              "                           0         1         2    3         4         5  \\\n",
              "the beatles         0.000000  0.000000  0.000000  0.0  0.008078  0.000000   \n",
              "radiohead           0.009348  0.084688  0.000000  0.0  0.039505  0.002894   \n",
              "deathcab for cutie  0.000000  0.017278  0.020144  0.0  0.024333  0.000000   \n",
              "coldplay            0.000000  0.000000  0.000000  0.0  0.004981  0.000000   \n",
              "modest mouse        0.000000  0.000000  0.000000  0.0  0.006293  0.000000   \n",
              "\n",
              "                      6    7         8         9  ...  4991      4992  \\\n",
              "the beatles         0.0  0.0  0.017331  0.003270  ...   0.0  0.022485   \n",
              "radiohead           0.0  0.0  0.000000  0.008771  ...   0.0  0.000000   \n",
              "deathcab for cutie  0.0  0.0  0.000000  0.009391  ...   0.0  0.000000   \n",
              "coldplay            0.0  0.0  0.000000  0.000000  ...   0.0  0.000000   \n",
              "modest mouse        0.0  0.0  0.000000  0.012020  ...   0.0  0.000000   \n",
              "\n",
              "                        4993      4994      4995  4996      4997  4998  \\\n",
              "the beatles         0.007083  0.001473  0.003319   0.0  0.014274   0.0   \n",
              "radiohead           0.000000  0.005122  0.000000   0.0  0.000000   0.0   \n",
              "deathcab for cutie  0.000000  0.000000  0.000000   0.0  0.000000   0.0   \n",
              "coldplay            0.000000  0.000000  0.000000   0.0  0.000000   0.0   \n",
              "modest mouse        0.000000  0.000000  0.000000   0.0  0.000000   0.0   \n",
              "\n",
              "                        4999   cluster  \n",
              "the beatles         0.000000  0.742265  \n",
              "radiohead           0.000000  0.000000  \n",
              "deathcab for cutie  0.019622  0.000000  \n",
              "coldplay            0.000000  0.894235  \n",
              "modest mouse        0.000000  0.789817  \n",
              "\n",
              "[5 rows x 5001 columns]"
            ],
            "text/html": [
              "\n",
              "  <div id=\"df-32c93174-19aa-4a64-a25f-71b04f2d6646\" class=\"colab-df-container\">\n",
              "    <div>\n",
              "<style scoped>\n",
              "    .dataframe tbody tr th:only-of-type {\n",
              "        vertical-align: middle;\n",
              "    }\n",
              "\n",
              "    .dataframe tbody tr th {\n",
              "        vertical-align: top;\n",
              "    }\n",
              "\n",
              "    .dataframe thead th {\n",
              "        text-align: right;\n",
              "    }\n",
              "</style>\n",
              "<table border=\"1\" class=\"dataframe\">\n",
              "  <thead>\n",
              "    <tr style=\"text-align: right;\">\n",
              "      <th></th>\n",
              "      <th>0</th>\n",
              "      <th>1</th>\n",
              "      <th>2</th>\n",
              "      <th>3</th>\n",
              "      <th>4</th>\n",
              "      <th>5</th>\n",
              "      <th>6</th>\n",
              "      <th>7</th>\n",
              "      <th>8</th>\n",
              "      <th>9</th>\n",
              "      <th>...</th>\n",
              "      <th>4991</th>\n",
              "      <th>4992</th>\n",
              "      <th>4993</th>\n",
              "      <th>4994</th>\n",
              "      <th>4995</th>\n",
              "      <th>4996</th>\n",
              "      <th>4997</th>\n",
              "      <th>4998</th>\n",
              "      <th>4999</th>\n",
              "      <th>cluster</th>\n",
              "    </tr>\n",
              "  </thead>\n",
              "  <tbody>\n",
              "    <tr>\n",
              "      <th>the beatles</th>\n",
              "      <td>0.000000</td>\n",
              "      <td>0.000000</td>\n",
              "      <td>0.000000</td>\n",
              "      <td>0.0</td>\n",
              "      <td>0.008078</td>\n",
              "      <td>0.000000</td>\n",
              "      <td>0.0</td>\n",
              "      <td>0.0</td>\n",
              "      <td>0.017331</td>\n",
              "      <td>0.003270</td>\n",
              "      <td>...</td>\n",
              "      <td>0.0</td>\n",
              "      <td>0.022485</td>\n",
              "      <td>0.007083</td>\n",
              "      <td>0.001473</td>\n",
              "      <td>0.003319</td>\n",
              "      <td>0.0</td>\n",
              "      <td>0.014274</td>\n",
              "      <td>0.0</td>\n",
              "      <td>0.000000</td>\n",
              "      <td>0.742265</td>\n",
              "    </tr>\n",
              "    <tr>\n",
              "      <th>radiohead</th>\n",
              "      <td>0.009348</td>\n",
              "      <td>0.084688</td>\n",
              "      <td>0.000000</td>\n",
              "      <td>0.0</td>\n",
              "      <td>0.039505</td>\n",
              "      <td>0.002894</td>\n",
              "      <td>0.0</td>\n",
              "      <td>0.0</td>\n",
              "      <td>0.000000</td>\n",
              "      <td>0.008771</td>\n",
              "      <td>...</td>\n",
              "      <td>0.0</td>\n",
              "      <td>0.000000</td>\n",
              "      <td>0.000000</td>\n",
              "      <td>0.005122</td>\n",
              "      <td>0.000000</td>\n",
              "      <td>0.0</td>\n",
              "      <td>0.000000</td>\n",
              "      <td>0.0</td>\n",
              "      <td>0.000000</td>\n",
              "      <td>0.000000</td>\n",
              "    </tr>\n",
              "    <tr>\n",
              "      <th>deathcab for cutie</th>\n",
              "      <td>0.000000</td>\n",
              "      <td>0.017278</td>\n",
              "      <td>0.020144</td>\n",
              "      <td>0.0</td>\n",
              "      <td>0.024333</td>\n",
              "      <td>0.000000</td>\n",
              "      <td>0.0</td>\n",
              "      <td>0.0</td>\n",
              "      <td>0.000000</td>\n",
              "      <td>0.009391</td>\n",
              "      <td>...</td>\n",
              "      <td>0.0</td>\n",
              "      <td>0.000000</td>\n",
              "      <td>0.000000</td>\n",
              "      <td>0.000000</td>\n",
              "      <td>0.000000</td>\n",
              "      <td>0.0</td>\n",
              "      <td>0.000000</td>\n",
              "      <td>0.0</td>\n",
              "      <td>0.019622</td>\n",
              "      <td>0.000000</td>\n",
              "    </tr>\n",
              "    <tr>\n",
              "      <th>coldplay</th>\n",
              "      <td>0.000000</td>\n",
              "      <td>0.000000</td>\n",
              "      <td>0.000000</td>\n",
              "      <td>0.0</td>\n",
              "      <td>0.004981</td>\n",
              "      <td>0.000000</td>\n",
              "      <td>0.0</td>\n",
              "      <td>0.0</td>\n",
              "      <td>0.000000</td>\n",
              "      <td>0.000000</td>\n",
              "      <td>...</td>\n",
              "      <td>0.0</td>\n",
              "      <td>0.000000</td>\n",
              "      <td>0.000000</td>\n",
              "      <td>0.000000</td>\n",
              "      <td>0.000000</td>\n",
              "      <td>0.0</td>\n",
              "      <td>0.000000</td>\n",
              "      <td>0.0</td>\n",
              "      <td>0.000000</td>\n",
              "      <td>0.894235</td>\n",
              "    </tr>\n",
              "    <tr>\n",
              "      <th>modest mouse</th>\n",
              "      <td>0.000000</td>\n",
              "      <td>0.000000</td>\n",
              "      <td>0.000000</td>\n",
              "      <td>0.0</td>\n",
              "      <td>0.006293</td>\n",
              "      <td>0.000000</td>\n",
              "      <td>0.0</td>\n",
              "      <td>0.0</td>\n",
              "      <td>0.000000</td>\n",
              "      <td>0.012020</td>\n",
              "      <td>...</td>\n",
              "      <td>0.0</td>\n",
              "      <td>0.000000</td>\n",
              "      <td>0.000000</td>\n",
              "      <td>0.000000</td>\n",
              "      <td>0.000000</td>\n",
              "      <td>0.0</td>\n",
              "      <td>0.000000</td>\n",
              "      <td>0.0</td>\n",
              "      <td>0.000000</td>\n",
              "      <td>0.789817</td>\n",
              "    </tr>\n",
              "  </tbody>\n",
              "</table>\n",
              "<p>5 rows × 5001 columns</p>\n",
              "</div>\n",
              "    <div class=\"colab-df-buttons\">\n",
              "\n",
              "  <div class=\"colab-df-container\">\n",
              "    <button class=\"colab-df-convert\" onclick=\"convertToInteractive('df-32c93174-19aa-4a64-a25f-71b04f2d6646')\"\n",
              "            title=\"Convert this dataframe to an interactive table.\"\n",
              "            style=\"display:none;\">\n",
              "\n",
              "  <svg xmlns=\"http://www.w3.org/2000/svg\" height=\"24px\" viewBox=\"0 -960 960 960\">\n",
              "    <path d=\"M120-120v-720h720v720H120Zm60-500h600v-160H180v160Zm220 220h160v-160H400v160Zm0 220h160v-160H400v160ZM180-400h160v-160H180v160Zm440 0h160v-160H620v160ZM180-180h160v-160H180v160Zm440 0h160v-160H620v160Z\"/>\n",
              "  </svg>\n",
              "    </button>\n",
              "\n",
              "  <style>\n",
              "    .colab-df-container {\n",
              "      display:flex;\n",
              "      gap: 12px;\n",
              "    }\n",
              "\n",
              "    .colab-df-convert {\n",
              "      background-color: #E8F0FE;\n",
              "      border: none;\n",
              "      border-radius: 50%;\n",
              "      cursor: pointer;\n",
              "      display: none;\n",
              "      fill: #1967D2;\n",
              "      height: 32px;\n",
              "      padding: 0 0 0 0;\n",
              "      width: 32px;\n",
              "    }\n",
              "\n",
              "    .colab-df-convert:hover {\n",
              "      background-color: #E2EBFA;\n",
              "      box-shadow: 0px 1px 2px rgba(60, 64, 67, 0.3), 0px 1px 3px 1px rgba(60, 64, 67, 0.15);\n",
              "      fill: #174EA6;\n",
              "    }\n",
              "\n",
              "    .colab-df-buttons div {\n",
              "      margin-bottom: 4px;\n",
              "    }\n",
              "\n",
              "    [theme=dark] .colab-df-convert {\n",
              "      background-color: #3B4455;\n",
              "      fill: #D2E3FC;\n",
              "    }\n",
              "\n",
              "    [theme=dark] .colab-df-convert:hover {\n",
              "      background-color: #434B5C;\n",
              "      box-shadow: 0px 1px 3px 1px rgba(0, 0, 0, 0.15);\n",
              "      filter: drop-shadow(0px 1px 2px rgba(0, 0, 0, 0.3));\n",
              "      fill: #FFFFFF;\n",
              "    }\n",
              "  </style>\n",
              "\n",
              "    <script>\n",
              "      const buttonEl =\n",
              "        document.querySelector('#df-32c93174-19aa-4a64-a25f-71b04f2d6646 button.colab-df-convert');\n",
              "      buttonEl.style.display =\n",
              "        google.colab.kernel.accessAllowed ? 'block' : 'none';\n",
              "\n",
              "      async function convertToInteractive(key) {\n",
              "        const element = document.querySelector('#df-32c93174-19aa-4a64-a25f-71b04f2d6646');\n",
              "        const dataTable =\n",
              "          await google.colab.kernel.invokeFunction('convertToInteractive',\n",
              "                                                    [key], {});\n",
              "        if (!dataTable) return;\n",
              "\n",
              "        const docLinkHtml = 'Like what you see? Visit the ' +\n",
              "          '<a target=\"_blank\" href=https://colab.research.google.com/notebooks/data_table.ipynb>data table notebook</a>'\n",
              "          + ' to learn more about interactive tables.';\n",
              "        element.innerHTML = '';\n",
              "        dataTable['output_type'] = 'display_data';\n",
              "        await google.colab.output.renderOutput(dataTable, element);\n",
              "        const docLink = document.createElement('div');\n",
              "        docLink.innerHTML = docLinkHtml;\n",
              "        element.appendChild(docLink);\n",
              "      }\n",
              "    </script>\n",
              "  </div>\n",
              "\n",
              "\n",
              "<div id=\"df-e3746ba1-b58c-4e25-884a-6178492ae6ee\">\n",
              "  <button class=\"colab-df-quickchart\" onclick=\"quickchart('df-e3746ba1-b58c-4e25-884a-6178492ae6ee')\"\n",
              "            title=\"Suggest charts\"\n",
              "            style=\"display:none;\">\n",
              "\n",
              "<svg xmlns=\"http://www.w3.org/2000/svg\" height=\"24px\"viewBox=\"0 0 24 24\"\n",
              "     width=\"24px\">\n",
              "    <g>\n",
              "        <path d=\"M19 3H5c-1.1 0-2 .9-2 2v14c0 1.1.9 2 2 2h14c1.1 0 2-.9 2-2V5c0-1.1-.9-2-2-2zM9 17H7v-7h2v7zm4 0h-2V7h2v10zm4 0h-2v-4h2v4z\"/>\n",
              "    </g>\n",
              "</svg>\n",
              "  </button>\n",
              "\n",
              "<style>\n",
              "  .colab-df-quickchart {\n",
              "      --bg-color: #E8F0FE;\n",
              "      --fill-color: #1967D2;\n",
              "      --hover-bg-color: #E2EBFA;\n",
              "      --hover-fill-color: #174EA6;\n",
              "      --disabled-fill-color: #AAA;\n",
              "      --disabled-bg-color: #DDD;\n",
              "  }\n",
              "\n",
              "  [theme=dark] .colab-df-quickchart {\n",
              "      --bg-color: #3B4455;\n",
              "      --fill-color: #D2E3FC;\n",
              "      --hover-bg-color: #434B5C;\n",
              "      --hover-fill-color: #FFFFFF;\n",
              "      --disabled-bg-color: #3B4455;\n",
              "      --disabled-fill-color: #666;\n",
              "  }\n",
              "\n",
              "  .colab-df-quickchart {\n",
              "    background-color: var(--bg-color);\n",
              "    border: none;\n",
              "    border-radius: 50%;\n",
              "    cursor: pointer;\n",
              "    display: none;\n",
              "    fill: var(--fill-color);\n",
              "    height: 32px;\n",
              "    padding: 0;\n",
              "    width: 32px;\n",
              "  }\n",
              "\n",
              "  .colab-df-quickchart:hover {\n",
              "    background-color: var(--hover-bg-color);\n",
              "    box-shadow: 0 1px 2px rgba(60, 64, 67, 0.3), 0 1px 3px 1px rgba(60, 64, 67, 0.15);\n",
              "    fill: var(--button-hover-fill-color);\n",
              "  }\n",
              "\n",
              "  .colab-df-quickchart-complete:disabled,\n",
              "  .colab-df-quickchart-complete:disabled:hover {\n",
              "    background-color: var(--disabled-bg-color);\n",
              "    fill: var(--disabled-fill-color);\n",
              "    box-shadow: none;\n",
              "  }\n",
              "\n",
              "  .colab-df-spinner {\n",
              "    border: 2px solid var(--fill-color);\n",
              "    border-color: transparent;\n",
              "    border-bottom-color: var(--fill-color);\n",
              "    animation:\n",
              "      spin 1s steps(1) infinite;\n",
              "  }\n",
              "\n",
              "  @keyframes spin {\n",
              "    0% {\n",
              "      border-color: transparent;\n",
              "      border-bottom-color: var(--fill-color);\n",
              "      border-left-color: var(--fill-color);\n",
              "    }\n",
              "    20% {\n",
              "      border-color: transparent;\n",
              "      border-left-color: var(--fill-color);\n",
              "      border-top-color: var(--fill-color);\n",
              "    }\n",
              "    30% {\n",
              "      border-color: transparent;\n",
              "      border-left-color: var(--fill-color);\n",
              "      border-top-color: var(--fill-color);\n",
              "      border-right-color: var(--fill-color);\n",
              "    }\n",
              "    40% {\n",
              "      border-color: transparent;\n",
              "      border-right-color: var(--fill-color);\n",
              "      border-top-color: var(--fill-color);\n",
              "    }\n",
              "    60% {\n",
              "      border-color: transparent;\n",
              "      border-right-color: var(--fill-color);\n",
              "    }\n",
              "    80% {\n",
              "      border-color: transparent;\n",
              "      border-right-color: var(--fill-color);\n",
              "      border-bottom-color: var(--fill-color);\n",
              "    }\n",
              "    90% {\n",
              "      border-color: transparent;\n",
              "      border-bottom-color: var(--fill-color);\n",
              "    }\n",
              "  }\n",
              "</style>\n",
              "\n",
              "  <script>\n",
              "    async function quickchart(key) {\n",
              "      const quickchartButtonEl =\n",
              "        document.querySelector('#' + key + ' button');\n",
              "      quickchartButtonEl.disabled = true;  // To prevent multiple clicks.\n",
              "      quickchartButtonEl.classList.add('colab-df-spinner');\n",
              "      try {\n",
              "        const charts = await google.colab.kernel.invokeFunction(\n",
              "            'suggestCharts', [key], {});\n",
              "      } catch (error) {\n",
              "        console.error('Error during call to suggestCharts:', error);\n",
              "      }\n",
              "      quickchartButtonEl.classList.remove('colab-df-spinner');\n",
              "      quickchartButtonEl.classList.add('colab-df-quickchart-complete');\n",
              "    }\n",
              "    (() => {\n",
              "      let quickchartButtonEl =\n",
              "        document.querySelector('#df-e3746ba1-b58c-4e25-884a-6178492ae6ee button');\n",
              "      quickchartButtonEl.style.display =\n",
              "        google.colab.kernel.accessAllowed ? 'block' : 'none';\n",
              "    })();\n",
              "  </script>\n",
              "</div>\n",
              "    </div>\n",
              "  </div>\n"
            ],
            "application/vnd.google.colaboratory.intrinsic+json": {
              "type": "dataframe",
              "variable_name": "ratings_normalized"
            }
          },
          "metadata": {},
          "execution_count": 32
        }
      ],
      "source": [
        "ratings_normalized.head()"
      ]
    },
    {
      "cell_type": "markdown",
      "id": "vFlwI4ec-SuY",
      "metadata": {
        "id": "vFlwI4ec-SuY"
      },
      "source": [
        "Примените KMeans с 5ю кластерами на преобразованной матрице, посмотрите на их размеры. Стало ли лучше? Может ли кластеризация быть полезной теперь?"
      ]
    },
    {
      "cell_type": "code",
      "execution_count": null,
      "id": "6ic3WvMdUfwb",
      "metadata": {
        "id": "6ic3WvMdUfwb",
        "colab": {
          "base_uri": "https://localhost:8080/"
        },
        "outputId": "69894791-352b-48bc-8b0f-87df38cb6202"
      },
      "outputs": [
        {
          "output_type": "stream",
          "name": "stderr",
          "text": [
            "/usr/local/lib/python3.10/dist-packages/sklearn/cluster/_kmeans.py:870: FutureWarning: The default value of `n_init` will change from 10 to 'auto' in 1.4. Set the value of `n_init` explicitly to suppress the warning\n",
            "  warnings.warn(\n"
          ]
        }
      ],
      "source": [
        "k_means = KMeans(n_clusters = 5)\n",
        "k_means = k_means.fit(ratings_normalized)\n",
        "clusters = k_means.predict(ratings_normalized)\n",
        "\n",
        "labels = k_means.labels_"
      ]
    },
    {
      "cell_type": "code",
      "source": [
        "ratings_normalized['cluster'] = labels\n",
        "\n",
        "clust0 = ratings_normalized[ratings_normalized['cluster'] == 0]\n",
        "clust1 = ratings_normalized[ratings_normalized['cluster'] == 1]\n",
        "clust2 = ratings_normalized[ratings_normalized['cluster'] == 2]\n",
        "clust3 = ratings_normalized[ratings_normalized['cluster'] == 3]\n",
        "clust4 = ratings_normalized[ratings_normalized['cluster'] == 4]\n",
        "\n",
        "print(f\"Размеры кластеров: {len(clust0)}, {len(clust1)}, {len(clust2)}, {len(clust3)}, {len(clust4)}\")"
      ],
      "metadata": {
        "colab": {
          "base_uri": "https://localhost:8080/"
        },
        "id": "0Gj2PU4aoo-T",
        "outputId": "910016b5-dba2-47d5-d737-896cfa0a0ccf"
      },
      "id": "0Gj2PU4aoo-T",
      "execution_count": null,
      "outputs": [
        {
          "output_type": "stream",
          "name": "stdout",
          "text": [
            "Размеры кластеров: 195, 196, 372, 164, 73\n"
          ]
        }
      ]
    },
    {
      "cell_type": "markdown",
      "id": "Xj9fyDKd-bzk",
      "metadata": {
        "id": "Xj9fyDKd-bzk"
      },
      "source": [
        "**Ответ:** Качество кластеризации улучшилось, потому что нормализация минимизирует различия внутри групп, что помогает точнее определить центры кластеров и учесть общую дисперсию данных для каждого кластера."
      ]
    },
    {
      "cell_type": "markdown",
      "id": "zFsXACPxAhyv",
      "metadata": {
        "id": "zFsXACPxAhyv"
      },
      "source": [
        "## Задание 5 (1 балл) Центроиды"
      ]
    },
    {
      "cell_type": "markdown",
      "id": "qG5cISdzu7Jh",
      "metadata": {
        "id": "qG5cISdzu7Jh"
      },
      "source": [
        "Выведите для каждого кластера названия топ-10 исполнителей, ближайших к центроиду по косинусной мере. Проинтерпретируйте результат. Что можно сказать о смысле кластеров?"
      ]
    },
    {
      "cell_type": "code",
      "execution_count": null,
      "id": "Q3gI8OlKuCG6",
      "metadata": {
        "id": "Q3gI8OlKuCG6",
        "colab": {
          "base_uri": "https://localhost:8080/"
        },
        "outputId": "fe29f263-8d59-44eb-e739-2de2f00eae6c"
      },
      "outputs": [
        {
          "output_type": "stream",
          "name": "stdout",
          "text": [
            "clust0: kelly clarkson, john mayer, maroon5, imogen_heap, ﻿sarah mclachlan, the killers, snow potrol, sara bareilles, johnson jack, evril lavigne\n",
            "clust1: radiohead, animal collective, broken social scene, the arcade fire, sufjan stevens, belle and sebastian, of montreal, beirut, the shins, andrew bird\n",
            "clust2: the rolling stones, the clash, led zeppelin., radiohead, dylan. bob, white stripes, pink fluid, the ramones, acdc, metallica\n",
            "clust3: brand new, fall out boy, blink-182, taking back sunday, new found glory, saosin, anberlin, cartel, chiodos, the used\n",
            "clust4: nas, jay-z, kanye west, lupe the gorilla, the roots featuring d'angelo, the game, lil' wayne, a tribe called quest, little brother, mos def\n"
          ]
        }
      ],
      "source": [
        "from scipy.spatial.distance import cosine\n",
        "\n",
        "centroids = k_means.cluster_centers_\n",
        "\n",
        "cosine_distances = np.zeros((len(centroids), len(ratings)))\n",
        "for i, centroid in enumerate(centroids):\n",
        "    for j, artist_vector in enumerate(ratings.values):\n",
        "        cosine_distances[i, j] = cosine(centroid, artist_vector)\n",
        "\n",
        "artists = {}\n",
        "for i in range(len(centroids)):\n",
        "    artists[i] = [ratings.index[index] for index in np.argsort(cosine_distances[i])[:10]]\n",
        "    print(f\"clust{i}: \", end='')\n",
        "    print(*artists[i], sep=', ')"
      ]
    },
    {
      "cell_type": "markdown",
      "id": "GwioYtvAxqxT",
      "metadata": {
        "id": "GwioYtvAxqxT"
      },
      "source": [
        "**Ответ:** Полученную кластеризацию можно проинтерпретировать по жанрам, т.е. clust0 содержит наиболее популярных исполнителей попа, clust1 - инди-рок-музыкантов, clust2 - рок-групп, clust3 выделяет панк-исполнителей, clust4 - рэперов."
      ]
    },
    {
      "cell_type": "markdown",
      "id": "TkBh9Dk2C_el",
      "metadata": {
        "id": "TkBh9Dk2C_el"
      },
      "source": [
        "## Задание 6 (1 балл) Визуализация"
      ]
    },
    {
      "cell_type": "markdown",
      "id": "GzP-OoAZDony",
      "metadata": {
        "id": "GzP-OoAZDony"
      },
      "source": [
        "Хотелось бы как-то визуализировать полученную кластеризацию. Постройте точечные графики `plt.scatter` для нескольких пар признаков исполнителей, покрасив точки в цвета кластеров. Почему визуализации получились такими? Хорошо ли они отражают разделение на кластеры? Почему?"
      ]
    },
    {
      "cell_type": "code",
      "execution_count": null,
      "id": "HyVqnEQ3DWgm",
      "metadata": {
        "id": "HyVqnEQ3DWgm",
        "colab": {
          "base_uri": "https://localhost:8080/",
          "height": 410
        },
        "outputId": "4cb6573d-ac65-4758-b167-6778a0cfa040"
      },
      "outputs": [
        {
          "output_type": "display_data",
          "data": {
            "text/plain": [
              "<Figure size 1500x400 with 3 Axes>"
            ],
            "image/png": "[encoded data removed]"
          },
          "metadata": {}
        }
      ],
      "source": [
        "import matplotlib.pyplot as plt\n",
        "\n",
        "feature_pairs = [(1, 45), (2, 13), (1, 13)]\n",
        "plt.figure(figsize=(15, 4))\n",
        "\n",
        "for i, (feature1_index, feature2_index) in enumerate(feature_pairs, 1):\n",
        "    plt.subplot(1, 3, i)\n",
        "    for label in range(len(np.unique(labels))):\n",
        "        plt.scatter(ratings.loc[labels == label, feature1_index], ratings.loc[labels == label, feature2_index], label=f'Кластер {label+1}')\n",
        "\n",
        "    plt.title(f'Признаки {ratings.columns[feature1_index]}, {ratings.columns[feature2_index]}')\n",
        "    plt.xlabel(f'признак {ratings.columns[feature1_index]}')\n",
        "    plt.ylabel(f'признак {ratings.columns[feature2_index]}')\n",
        "    plt.legend()\n",
        "    plt.grid(True)\n",
        "\n",
        "plt.show()"
      ]
    },
    {
      "cell_type": "markdown",
      "id": "O5t7YabAFPe4",
      "metadata": {
        "id": "O5t7YabAFPe4"
      },
      "source": [
        "**Ответ:** Визуализация получилась плохо отражающей разделение на кластеры из-за того, что зависимость по 2 случайным исполнителям может отсутствовать. Нужно смотреть на все признаки."
      ]
    },
    {
      "cell_type": "markdown",
      "id": "ZuPjFHu4GuHK",
      "metadata": {
        "id": "ZuPjFHu4GuHK"
      },
      "source": [
        "Для визуализации данных высокой размерности существует метод t-SNE (стохастическое вложение соседей с t-распределением). Данный метод является нелинейным методом снижения размерности: каждый объект высокой размерности будет моделироваться объектов более низкой (например, 2) размерности таким образом, чтобы похожие объекты моделировались близкими, непохожие - далекими с большой вероятностью.\n",
        "\n",
        "Примените `TSNE` из библиотеки `sklearn` и визуализируйте полученные объекты, покрасив их в цвета их кластеров"
      ]
    },
    {
      "cell_type": "code",
      "execution_count": null,
      "id": "CVNPXKvcH7uV",
      "metadata": {
        "id": "CVNPXKvcH7uV",
        "outputId": "fb6e4943-0581-48f5-fd46-561edbedade2"
      },
      "outputs": [
        {
          "data": {
            "image/png": "[encoded data removed]",
            "text/plain": [
              "<Figure size 1200x400 with 1 Axes>"
            ]
          },
          "metadata": {},
          "output_type": "display_data"
        }
      ],
      "source": [
        "import matplotlib.pyplot as plt\n",
        "from sklearn.manifold import TSNE\n",
        "\n",
        "tsne = TSNE(n_components=2, random_state=42)\n",
        "data = tsne.fit_transform(ratings)\n",
        "\n",
        "plt.figure(figsize=(12, 4))\n",
        "for label in range(len(np.unique(labels))):\n",
        "    plt.scatter(data[labels == label, 0], data[labels == label, 1], label=f'Кластер {label+1}')\n",
        "\n",
        "plt.grid(True)\n",
        "plt.legend()\n",
        "plt.show()"
      ]
    },
    {
      "cell_type": "markdown",
      "id": "Mi1frYgFJCrT",
      "metadata": {
        "id": "Mi1frYgFJCrT"
      },
      "source": [
        "## Задание 7 (1 балл) Подбор гиперпараметров"
      ]
    },
    {
      "cell_type": "markdown",
      "id": "7UKDZt-bAokD",
      "metadata": {
        "id": "7UKDZt-bAokD"
      },
      "source": [
        "Подберите оптимальное количество кластеров (максимум 100 кластеров) с использованием индекса Силуэта. Зафиксируйте `random_state=42`"
      ]
    },
    {
      "cell_type": "code",
      "execution_count": null,
      "id": "S4CxV_XJAy0A",
      "metadata": {
        "id": "S4CxV_XJAy0A"
      },
      "outputs": [],
      "source": [
        "from sklearn.metrics import silhouette_score\n",
        "\n",
        "best_k, best_score = None, -1\n",
        "for k in range(2, 101):\n",
        "    k_means = KMeans(n_clusters = k, random_state=42)\n",
        "    k_means = k_means.fit(ratings_normalized)\n",
        "    score = np.round(silhouette_score(X=ratings_normalized,\n",
        "                             labels=k_means.labels_), 2)\n",
        "    if score >= best_score:\n",
        "      best_score = score\n",
        "      best_k = k"
      ]
    },
    {
      "cell_type": "code",
      "execution_count": null,
      "id": "9abe9289",
      "metadata": {
        "colab": {
          "base_uri": "https://localhost:8080/"
        },
        "id": "9abe9289",
        "outputId": "0b24e260-9d96-48c0-da61-7394c58a43e3"
      },
      "outputs": [
        {
          "output_type": "stream",
          "name": "stdout",
          "text": [
            "Best score 0.39, best_k = 82\n"
          ]
        }
      ],
      "source": [
        "print(f'Best score {best_score}, best_k = {best_k}')"
      ]
    },
    {
      "cell_type": "markdown",
      "id": "J81KdOFtJORV",
      "metadata": {
        "id": "J81KdOFtJORV"
      },
      "source": [
        "Выведите исполнителей, ближайших с центроидам (аналогично заданию 5). Как соотносятся результаты? Остался ли смысл кластеров прежним? Расскажите про смысл 1-2 интересных кластеров, если он изменился и кластеров слишком много, чтобы рассказать про все."
      ]
    },
    {
      "cell_type": "code",
      "source": [
        "k_means = KMeans(best_k + 2, random_state=42)\n",
        "k_means.fit(ratings)\n",
        "labels = k_means.labels_"
      ],
      "metadata": {
        "colab": {
          "base_uri": "https://localhost:8080/"
        },
        "collapsed": true,
        "id": "rlFO8cB9qcWE",
        "outputId": "7f6fdaab-be0e-4e8c-b388-afdaee0bd484"
      },
      "id": "rlFO8cB9qcWE",
      "execution_count": null,
      "outputs": [
        {
          "output_type": "stream",
          "name": "stdout",
          "text": [
            "/usr/local/lib/python3.10/dist-packages/sklearn/cluster/_kmeans.py:870: FutureWarning: The default value of `n_init` will change from 10 to 'auto' in 1.4. Set the value of `n_init` explicitly to suppress the warning\n",
            "  warnings.warn(\n",
            "/usr/local/lib/python3.10/dist-packages/sklearn/cluster/_kmeans.py:870: FutureWarning: The default value of `n_init` will change from 10 to 'auto' in 1.4. Set the value of `n_init` explicitly to suppress the warning\n",
            "  warnings.warn(\n",
            "/usr/local/lib/python3.10/dist-packages/sklearn/cluster/_kmeans.py:870: FutureWarning: The default value of `n_init` will change from 10 to 'auto' in 1.4. Set the value of `n_init` explicitly to suppress the warning\n",
            "  warnings.warn(\n",
            "/usr/local/lib/python3.10/dist-packages/sklearn/cluster/_kmeans.py:870: FutureWarning: The default value of `n_init` will change from 10 to 'auto' in 1.4. Set the value of `n_init` explicitly to suppress the warning\n",
            "  warnings.warn(\n",
            "/usr/local/lib/python3.10/dist-packages/sklearn/cluster/_kmeans.py:870: FutureWarning: The default value of `n_init` will change from 10 to 'auto' in 1.4. Set the value of `n_init` explicitly to suppress the warning\n",
            "  warnings.warn(\n",
            "/usr/local/lib/python3.10/dist-packages/sklearn/cluster/_kmeans.py:870: FutureWarning: The default value of `n_init` will change from 10 to 'auto' in 1.4. Set the value of `n_init` explicitly to suppress the warning\n",
            "  warnings.warn(\n",
            "/usr/local/lib/python3.10/dist-packages/sklearn/cluster/_kmeans.py:870: FutureWarning: The default value of `n_init` will change from 10 to 'auto' in 1.4. Set the value of `n_init` explicitly to suppress the warning\n",
            "  warnings.warn(\n",
            "/usr/local/lib/python3.10/dist-packages/sklearn/cluster/_kmeans.py:870: FutureWarning: The default value of `n_init` will change from 10 to 'auto' in 1.4. Set the value of `n_init` explicitly to suppress the warning\n",
            "  warnings.warn(\n",
            "/usr/local/lib/python3.10/dist-packages/sklearn/cluster/_kmeans.py:870: FutureWarning: The default value of `n_init` will change from 10 to 'auto' in 1.4. Set the value of `n_init` explicitly to suppress the warning\n",
            "warnings.warn(\n",
            "/usr/local/lib/python3.10/dist-packages/sklearn/cluster/_kmeans.py:870: FutureWarning: The default value of `n_init` will change from 10 to 'auto' in 1.4. Set the value of `n_init` explicitly to suppress the warning\n",
            "  warnings.warn(\n",
            "/usr/local/lib/python3.10/dist-packages/sklearn/cluster/_kmeans.py:870: FutureWarning: The default value of `n_init` will change from 10 to 'auto' in 1.4. Set the value of `n_init` explicitly to suppress the warning\n",
            "  warnings.warn(\n",
            "/usr/local/lib/python3.10/dist-packages/sklearn/cluster/_kmeans.py:870: FutureWarning: The default value of `n_init` will change from 10 to 'auto' in 1.4. Set the value of `n_init` explicitly to suppress the warning\n",
            "  warnings.warn(\n",
            "/usr/local/lib/python3.10/dist-packages/sklearn/cluster/_kmeans.py:870: FutureWarning: The default value of `n_init` will change from 10 to 'auto' in 1.4. Set the value of `n_init` explicitly to suppress the warning\n",
            "  warnings.warn(\n",
            "/usr/local/lib/python3.10/dist-packages/sklearn/cluster/_kmeans.py:870: FutureWarning: The default value of `n_init` will change from 10 to 'auto' in 1.4. Set the value of `n_init` explicitly to suppress the warning\n",
            "  warnings.warn(\n",
            "/usr/local/lib/python3.10/dist-packages/sklearn/cluster/_kmeans.py:870: FutureWarning: The default value of `n_init` will change from 10 to 'auto' in 1.4. Set the value of `n_init` explicitly to suppress the warning\n",
            "  warnings.warn(\n",
            "/usr/local/lib/python3.10/dist-packages/sklearn/cluster/_kmeans.py:870: FutureWarning: The default value of `n_init` will change from 10 to 'auto' in 1.4. Set the value of `n_init` explicitly to suppress the warning\n",
            "  warnings.warn(\n",
            "/usr/local/lib/python3.10/dist-packages/sklearn/cluster/_kmeans.py:870: FutureWarning: The default value of `n_init` will change from 10 to 'auto' in 1.4. Set the value of `n_init` explicitly to suppress the warning\n",
            "  warnings.warn(\n",
            "/usr/local/lib/python3.10/dist-packages/sklearn/cluster/_kmeans.py:870: FutureWarning: The default value of `n_init` will change from 10 to 'auto' in 1.4. Set the value of `n_init` explicitly to suppress the warning\n",
            "  warnings.warn(\n",
            "/usr/local/lib/python3.10/dist-packages/sklearn/cluster/_kmeans.py:870: FutureWarning: The default value of `n_init` will change from 10 to 'auto' in 1.4. Set the value of `n_init` explicitly to suppress the warning\n",
            "  warnings.warn(\n",
            "/usr/local/lib/python3.10/dist-packages/sklearn/cluster/_kmeans.py:870: FutureWarning: The default value of `n_init` will change from 10 to 'auto' in 1.4. Set the value of `n_init` explicitly to suppress the warning\n",
            "warnings.warn(\n",
            "/usr/local/lib/python3.10/dist-packages/sklearn/cluster/_kmeans.py:870: FutureWarning: The default value of `n_init` will change from 10 to 'auto' in 1.4. Set the value of `n_init` explicitly to suppress the warning\n",
            "  warnings.warn(\n",
            "/usr/local/lib/python3.10/dist-packages/sklearn/cluster/_kmeans.py:870: FutureWarning: The default value of `n_init` will change from 10 to 'auto' in 1.4. Set the value of `n_init` explicitly to suppress the warning\n",
            "  warnings.warn(\n",
            "/usr/local/lib/python3.10/dist-packages/sklearn/cluster/_kmeans.py:870: FutureWarning: The default value of `n_init` will change from 10 to 'auto' in 1.4. Set the value of `n_init` explicitly to suppress the warning\n",
            "  warnings.warn(\n",
            "/usr/local/lib/python3.10/dist-packages/sklearn/cluster/_kmeans.py:870: FutureWarning: The default value of `n_init` will change from 10 to 'auto' in 1.4. Set the value of `n_init` explicitly to suppress the warning\n",
            "  warnings.warn(\n",
            "/usr/local/lib/python3.10/dist-packages/sklearn/cluster/_kmeans.py:870: FutureWarning: The default value of `n_init` will change from 10 to 'auto' in 1.4. Set the value of `n_init` explicitly to suppress the warning\n",
            "  warnings.warn(\n",
            "/usr/local/lib/python3.10/dist-packages/sklearn/cluster/_kmeans.py:870: FutureWarning: The default value of `n_init` will change from 10 to 'auto' in 1.4. Set the value of `n_init` explicitly to suppress the warning\n",
            "  warnings.warn(\n",
            "/usr/local/lib/python3.10/dist-packages/sklearn/cluster/_kmeans.py:870: FutureWarning: The default value of `n_init` will change from 10 to 'auto' in 1.4. Set the value of `n_init` explicitly to suppress the warning\n",
            "  warnings.warn(\n",
            "/usr/local/lib/python3.10/dist-packages/sklearn/cluster/_kmeans.py:870: FutureWarning: The default value of `n_init` will change from 10 to 'auto' in 1.4. Set the value of `n_init` explicitly to suppress the warning\n",
            "  warnings.warn(\n",
            "/usr/local/lib/python3.10/dist-packages/sklearn/cluster/_kmeans.py:870: FutureWarning: The default value of `n_init` will change from 10 to 'auto' in 1.4. Set the value of `n_init` explicitly to suppress the warning\n",
            "warnings.warn(\n",
            "/usr/local/lib/python3.10/dist-packages/sklearn/cluster/_kmeans.py:870: FutureWarning: The default value of `n_init` will change from 10 to 'auto' in 1.4. Set the value of `n_init` explicitly to suppress the warning\n",
            "  warnings.warn(\n",
            "/usr/local/lib/python3.10/dist-packages/sklearn/cluster/_kmeans.py:870: FutureWarning: The default value of `n_init` will change from 10 to 'auto' in 1.4. Set the value of `n_init` explicitly to suppress the warning\n",
            "  warnings.warn(\n",
            "/usr/local/lib/python3.10/dist-packages/sklearn/cluster/_kmeans.py:870: FutureWarning: The default value of `n_init` will change from 10 to 'auto' in 1.4. Set the value of `n_init` explicitly to suppress the warning\n",
            "  warnings.warn(\n",
            "/usr/local/lib/python3.10/dist-packages/sklearn/cluster/_kmeans.py:870: FutureWarning: The default value of `n_init` will change from 10 to 'auto' in 1.4. Set the value of `n_init` explicitly to suppress the warning\n",
            "  warnings.warn(\n",
            "/usr/local/lib/python3.10/dist-packages/sklearn/cluster/_kmeans.py:870: FutureWarning: The default value of `n_init` will change from 10 to 'auto' in 1.4. Set the value of `n_init` explicitly to suppress the warning\n",
            "  warnings.warn(\n",
            "/usr/local/lib/python3.10/dist-packages/sklearn/cluster/_kmeans.py:870: FutureWarning: The default value of `n_init` will change from 10 to 'auto' in 1.4. Set the value of `n_init` explicitly to suppress the warning\n",
            "  warnings.warn(\n",
            "/usr/local/lib/python3.10/dist-packages/sklearn/cluster/_kmeans.py:870: FutureWarning: The default value of `n_init` will change from 10 to 'auto' in 1.4. Set the value of `n_init` explicitly to suppress the warning\n",
            "  warnings.warn(\n",
            "/usr/local/lib/python3.10/dist-packages/sklearn/cluster/_kmeans.py:870: FutureWarning: The default value of `n_init` will change from 10 to 'auto' in 1.4. Set the value of `n_init` explicitly to suppress the warning\n",
            "  warnings.warn(\n",
            "/usr/local/lib/python3.10/dist-packages/sklearn/cluster/_kmeans.py:870: FutureWarning: The default value of `n_init` will change from 10 to 'auto' in 1.4. Set the value of `n_init` explicitly to suppress the warning\n",
            "warnings.warn(\n",
            "/usr/local/lib/python3.10/dist-packages/sklearn/cluster/_kmeans.py:870: FutureWarning: The default value of `n_init` will change from 10 to 'auto' in 1.4. Set the value of `n_init` explicitly to suppress the warning\n",
            "  warnings.warn(\n",
            "/usr/local/lib/python3.10/dist-packages/sklearn/cluster/_kmeans.py:870: FutureWarning: The default value of `n_init` will change from 10 to 'auto' in 1.4. Set the value of `n_init` explicitly to suppress the warning\n",
            "  warnings.warn(\n",
            "/usr/local/lib/python3.10/dist-packages/sklearn/cluster/_kmeans.py:870: FutureWarning: The default value of `n_init` will change from 10 to 'auto' in 1.4. Set the value of `n_init` explicitly to suppress the warning\n",
            "  warnings.warn(\n",
            "/usr/local/lib/python3.10/dist-packages/sklearn/cluster/_kmeans.py:870: FutureWarning: The default value of `n_init` will change from 10 to 'auto' in 1.4. Set the value of `n_init` explicitly to suppress the warning\n",
            "  warnings.warn(\n",
            "/usr/local/lib/python3.10/dist-packages/sklearn/cluster/_kmeans.py:870: FutureWarning: The default value of `n_init` will change from 10 to 'auto' in 1.4. Set the value of `n_init` explicitly to suppress the warning\n",
            "  warnings.warn(\n",
            "/usr/local/lib/python3.10/dist-packages/sklearn/cluster/_kmeans.py:870: FutureWarning: The default value of `n_init` will change from 10 to 'auto' in 1.4. Set the value of `n_init` explicitly to suppress the warning\n",
            "  warnings.warn(\n",
            "/usr/local/lib/python3.10/dist-packages/sklearn/cluster/_kmeans.py:870: FutureWarning: The default value of `n_init` will change from 10 to 'auto' in 1.4. Set the value of `n_init` explicitly to suppress the warning\n",
            "  warnings.warn(\n",
            "/usr/local/lib/python3.10/dist-packages/sklearn/cluster/_kmeans.py:870: FutureWarning: The default value of `n_init` will change from 10 to 'auto' in 1.4. Set the value of `n_init` explicitly to suppress the warning\n",
            "  warnings.warn(\n",
            "/usr/local/lib/python3.10/dist-packages/sklearn/cluster/_kmeans.py:870: FutureWarning: The default value of `n_init` will change from 10 to 'auto' in 1.4. Set the value of `n_init` explicitly to suppress the warning\n",
            "warnings.warn(\n",
            "/usr/local/lib/python3.10/dist-packages/sklearn/cluster/_kmeans.py:870: FutureWarning: The default value of `n_init` will change from 10 to 'auto' in 1.4. Set the value of `n_init` explicitly to suppress the warning\n",
            "  warnings.warn(\n",
            "/usr/local/lib/python3.10/dist-packages/sklearn/cluster/_kmeans.py:870: FutureWarning: The default value of `n_init` will change from 10 to 'auto' in 1.4. Set the value of `n_init` explicitly to suppress the warning\n",
            "  warnings.warn(\n",
            "/usr/local/lib/python3.10/dist-packages/sklearn/cluster/_kmeans.py:870: FutureWarning: The default value of `n_init` will change from 10 to 'auto' in 1.4. Set the value of `n_init` explicitly to suppress the warning\n",
            "  warnings.warn(\n",
            "/usr/local/lib/python3.10/dist-packages/sklearn/cluster/_kmeans.py:870: FutureWarning: The default value of `n_init` will change from 10 to 'auto' in 1.4. Set the value of `n_init` explicitly to suppress the warning\n",
            "  warnings.warn(\n",
            "/usr/local/lib/python3.10/dist-packages/sklearn/cluster/_kmeans.py:870: FutureWarning: The default value of `n_init` will change from 10 to 'auto' in 1.4. Set the value of `n_init` explicitly to suppress the warning\n",
            "  warnings.warn(\n",
            "/usr/local/lib/python3.10/dist-packages/sklearn/cluster/_kmeans.py:870: FutureWarning: The default value of `n_init` will change from 10 to 'auto' in 1.4. Set the value of `n_init` explicitly to suppress the warning\n",
            "  warnings.warn(\n",
            "/usr/local/lib/python3.10/dist-packages/sklearn/cluster/_kmeans.py:870: FutureWarning: The default value of `n_init` will change from 10 to 'auto' in 1.4. Set the value of `n_init` explicitly to suppress the warning\n",
            "  warnings.warn(\n",
            "/usr/local/lib/python3.10/dist-packages/sklearn/cluster/_kmeans.py:870: FutureWarning: The default value of `n_init` will change from 10 to 'auto' in 1.4. Set the value of `n_init` explicitly to suppress the warning\n",
            "  warnings.warn(\n",
            "/usr/local/lib/python3.10/dist-packages/sklearn/cluster/_kmeans.py:870: FutureWarning: The default value of `n_init` will change from 10 to 'auto' in 1.4. Set the value of `n_init` explicitly to suppress the warning\n",
            "warnings.warn(\n",
            "/usr/local/lib/python3.10/dist-packages/sklearn/cluster/_kmeans.py:870: FutureWarning: The default value of `n_init` will change from 10 to 'auto' in 1.4. Set the value of `n_init` explicitly to suppress the warning\n",
            "  warnings.warn(\n",
            "/usr/local/lib/python3.10/dist-packages/sklearn/cluster/_kmeans.py:870: FutureWarning: The default value of `n_init` will change from 10 to 'auto' in 1.4. Set the value of `n_init` explicitly to suppress the warning\n",
            "  warnings.warn(\n",
            "/usr/local/lib/python3.10/dist-packages/sklearn/cluster/_kmeans.py:870: FutureWarning: The default value of `n_init` will change from 10 to 'auto' in 1.4. Set the value of `n_init` explicitly to suppress the warning\n",
            "  warnings.warn(\n",
            "/usr/local/lib/python3.10/dist-packages/sklearn/cluster/_kmeans.py:870: FutureWarning: The default value of `n_init` will change from 10 to 'auto' in 1.4. Set the value of `n_init` explicitly to suppress the warning\n",
            "  warnings.warn(\n",
            "/usr/local/lib/python3.10/dist-packages/sklearn/cluster/_kmeans.py:870: FutureWarning: The default value of `n_init` will change from 10 to 'auto' in 1.4. Set the value of `n_init` explicitly to suppress the warning\n",
            "  warnings.warn(\n",
            "/usr/local/lib/python3.10/dist-packages/sklearn/cluster/_kmeans.py:870: FutureWarning: The default value of `n_init` will change from 10 to 'auto' in 1.4. Set the value of `n_init` explicitly to suppress the warning\n",
            "  warnings.warn(\n",
            "/usr/local/lib/python3.10/dist-packages/sklearn/cluster/_kmeans.py:870: FutureWarning: The default value of `n_init` will change from 10 to 'auto' in 1.4. Set the value of `n_init` explicitly to suppress the warning\n",
            "  warnings.warn(\n",
            "/usr/local/lib/python3.10/dist-packages/sklearn/cluster/_kmeans.py:870: FutureWarning: The default value of `n_init` will change from 10 to 'auto' in 1.4. Set the value of `n_init` explicitly to suppress the warning\n",
            "  warnings.warn(\n",
            "/usr/local/lib/python3.10/dist-packages/sklearn/cluster/_kmeans.py:870: FutureWarning: The default value of `n_init` will change from 10 to 'auto' in 1.4. Set the value of `n_init` explicitly to suppress the warning\n",
            "warnings.warn(\n",
            "/usr/local/lib/python3.10/dist-packages/sklearn/cluster/_kmeans.py:870: FutureWarning: The default value of `n_init` will change from 10 to 'auto' in 1.4. Set the value of `n_init` explicitly to suppress the warning\n",
            "  warnings.warn(\n",
            "/usr/local/lib/python3.10/dist-packages/sklearn/cluster/_kmeans.py:870: FutureWarning: The default value of `n_init` will change from 10 to 'auto' in 1.4. Set the value of `n_init` explicitly to suppress the warning\n",
            "  warnings.warn(\n",
            "/usr/local/lib/python3.10/dist-packages/sklearn/cluster/_kmeans.py:870: FutureWarning: The default value of `n_init` will change from 10 to 'auto' in 1.4. Set the value of `n_init` explicitly to suppress the warning\n",
            "  warnings.warn(\n",
            "/usr/local/lib/python3.10/dist-packages/sklearn/cluster/_kmeans.py:870: FutureWarning: The default value of `n_init` will change from 10 to 'auto' in 1.4. Set the value of `n_init` explicitly to suppress the warning\n",
            "  warnings.warn(\n",
            "/usr/local/lib/python3.10/dist-packages/sklearn/cluster/_kmeans.py:870: FutureWarning: The default value of `n_init` will change from 10 to 'auto' in 1.4. Set the value of `n_init` explicitly to suppress the warning\n",
            "  warnings.warn(\n",
            "/usr/local/lib/python3.10/dist-packages/sklearn/cluster/_kmeans.py:870: FutureWarning: The default value of `n_init` will change from 10 to 'auto' in 1.4. Set the value of `n_init` explicitly to suppress the warning\n",
            "  warnings.warn(\n",
            "/usr/local/lib/python3.10/dist-packages/sklearn/cluster/_kmeans.py:870: FutureWarning: The default value of `n_init` will change from 10 to 'auto' in 1.4. Set the value of `n_init` explicitly to suppress the warning\n",
            "  warnings.warn(\n",
            "/usr/local/lib/python3.10/dist-packages/sklearn/cluster/_kmeans.py:870: FutureWarning: The default value of `n_init` will change from 10 to 'auto' in 1.4. Set the value of `n_init` explicitly to suppress the warning\n",
            "  warnings.warn(\n",
            "/usr/local/lib/python3.10/dist-packages/sklearn/cluster/_kmeans.py:870: FutureWarning: The default value of `n_init` will change from 10 to 'auto' in 1.4. Set the value of `n_init` explicitly to suppress the warning\n",
            "warnings.warn(\n",
            "/usr/local/lib/python3.10/dist-packages/sklearn/cluster/_kmeans.py:870: FutureWarning: The default value of `n_init` will change from 10 to 'auto' in 1.4. Set the value of `n_init` explicitly to suppress the warning\n",
            "  warnings.warn(\n",
            "/usr/local/lib/python3.10/dist-packages/sklearn/cluster/_kmeans.py:870: FutureWarning: The default value of `n_init` will change from 10 to 'auto' in 1.4. Set the value of `n_init` explicitly to suppress the warning\n",
            "  warnings.warn(\n",
            "/usr/local/lib/python3.10/dist-packages/sklearn/cluster/_kmeans.py:870: FutureWarning: The default value of `n_init` will change from 10 to 'auto' in 1.4. Set the value of `n_init` explicitly to suppress the warning\n",
            "  warnings.warn(\n",
            "/usr/local/lib/python3.10/dist-packages/sklearn/cluster/_kmeans.py:870: FutureWarning: The default value of `n_init` will change from 10 to 'auto' in 1.4. Set the value of `n_init` explicitly to suppress the warning\n",
            "  warnings.warn(\n",
            "/usr/local/lib/python3.10/dist-packages/sklearn/cluster/_kmeans.py:870: FutureWarning: The default value of `n_init` will change from 10 to 'auto' in 1.4. Set the value of `n_init` explicitly to suppress the warning\n",
            "  warnings.warn(\n",
            "/usr/local/lib/python3.10/dist-packages/sklearn/cluster/_kmeans.py:870: FutureWarning: The default value of `n_init` will change from 10 to 'auto' in 1.4. Set the value of `n_init` explicitly to suppress the warning\n",
            "  warnings.warn(\n",
            "/usr/local/lib/python3.10/dist-packages/sklearn/cluster/_kmeans.py:870: FutureWarning: The default value of `n_init` will change from 10 to 'auto' in 1.4. Set the value of `n_init` explicitly to suppress the warning\n",
            "  warnings.warn(\n",
            "/usr/local/lib/python3.10/dist-packages/sklearn/cluster/_kmeans.py:870: FutureWarning: The default value of `n_init` will change from 10 to 'auto' in 1.4. Set the value of `n_init` explicitly to suppress the warning\n",
            "  warnings.warn(\n",
            "/usr/local/lib/python3.10/dist-packages/sklearn/cluster/_kmeans.py:870: FutureWarning: The default value of `n_init` will change from 10 to 'auto' in 1.4. Set the value of `n_init` explicitly to suppress the warning\n",
            "warnings.warn(\n",
            "/usr/local/lib/python3.10/dist-packages/sklearn/cluster/_kmeans.py:870: FutureWarning: The default value of `n_init` will change from 10 to 'auto' in 1.4. Set the value of `n_init` explicitly to suppress the warning\n",
            "  warnings.warn(\n",
            "/usr/local/lib/python3.10/dist-packages/sklearn/cluster/_kmeans.py:870: FutureWarning: The default value of `n_init` will change from 10 to 'auto' in 1.4. Set the value of `n_init` explicitly to suppress the warning\n",
            "  warnings.warn(\n",
            "/usr/local/lib/python3.10/dist-packages/sklearn/cluster/_kmeans.py:870: FutureWarning: The default value of `n_init` will change from 10 to 'auto' in 1.4. Set the value of `n_init` explicitly to suppress the warning\n",
            "  warnings.warn(\n",
            "/usr/local/lib/python3.10/dist-packages/sklearn/cluster/_kmeans.py:870: FutureWarning: The default value of `n_init` will change from 10 to 'auto' in 1.4. Set the value of `n_init` explicitly to suppress the warning\n",
            "  warnings.warn(\n",
            "/usr/local/lib/python3.10/dist-packages/sklearn/cluster/_kmeans.py:870: FutureWarning: The default value of `n_init` will change from 10 to 'auto' in 1.4. Set the value of `n_init` explicitly to suppress the warning\n",
            "  warnings.warn(\n",
            "/usr/local/lib/python3.10/dist-packages/sklearn/cluster/_kmeans.py:870: FutureWarning: The default value of `n_init` will change from 10 to 'auto' in 1.4. Set the value of `n_init` explicitly to suppress the warning\n",
            "  warnings.warn(\n",
            "/usr/local/lib/python3.10/dist-packages/sklearn/cluster/_kmeans.py:870: FutureWarning: The default value of `n_init` will change from 10 to 'auto' in 1.4. Set the value of `n_init` explicitly to suppress the warning\n",
            "  warnings.warn(\n",
            "/usr/local/lib/python3.10/dist-packages/sklearn/cluster/_kmeans.py:870: FutureWarning: The default value of `n_init` will change from 10 to 'auto' in 1.4. Set the value of `n_init` explicitly to suppress the warning\n",
            "  warnings.warn(\n",
            "/usr/local/lib/python3.10/dist-packages/sklearn/cluster/_kmeans.py:870: FutureWarning: The default value of `n_init` will change from 10 to 'auto' in 1.4. Set the value of `n_init` explicitly to suppress the warning\n",
            "warnings.warn(\n"
          ]
        }
      ]
    },
    {
      "cell_type": "code",
      "source": [
        "centroids = k_means.cluster_centers_\n",
        "\n",
        "cosine_distances = np.zeros((len(centroids), len(ratings)))\n",
        "for i, centroid in enumerate(centroids):\n",
        "    for j, artist_vector in enumerate(ratings.values):\n",
        "        cosine_distances[i, j] = cosine(centroid, artist_vector)\n",
        "\n",
        "artists = {}\n",
        "for i in range(len(centroids)):\n",
        "    artists[i] = [ratings.index[index] for index in np.argsort(cosine_distances[i])[:10]]\n",
        "    print(f\"clust{i}: \", end='')\n",
        "    print(*artists[i], sep=', ')"
      ],
      "metadata": {
        "colab": {
          "base_uri": "https://localhost:8080/"
        },
        "id": "H93aF1mut5X_",
        "outputId": "9334d5a3-09ce-4e5a-f543-fdff1708351e"
      },
      "id": "H93aF1mut5X_",
      "execution_count": null,
      "outputs": [
        {
          "output_type": "stream",
          "name": "stdout",
          "text": [
            "clust0: raekwon, wu-tang clan, gza/genius, ghostface killah, mobb deep, cypress hill, nas, gangstarr, jay-z, a tribe called quest\n",
            "clust1: she wants revenge, shiny toy guns, the bravery, pink*, mika, three days grase, placebo, frou frou, digitalism, the dandy warhols\n",
            "clust2: vampire weekend, mgmt, girl talk, the go! team, the blow, dr. dog, bishop allen, the dodos, of montreal, the shins\n",
            "clust3: the flaming lips, the apples in stereo, elvis costello and the attractions, grandaddy, the notwist, sparklehorse, orbital, elvis costello, sigur rós, m. ward\n",
            "clust4: the smashing pumpkins, vnv nation, the blood brothers, moby, the pillows, niИ, system of a down, rammstein, radiohead, air\n",
            "clust5: all time low, mayday parade, forever the sickest kids, fall out boy, cute is what we aim for, the academy is..., cobra starship, paramore, the spill canvas, boys like girls\n",
            "clust6: kanye west, jay-z, lupe the gorilla, lil' wayne, t.i., ludacris, t-pain, drake, chris brown, nas\n",
            "clust7: iron maiden, megadeth, judas priest, black sabbath, slayer, metallica, ozzy osbourne, pantera, queensrÿche, acdc\n",
            "clust8: michelle branch, kelly clarkson, indigo girlz, rent:  original broadway cast, aimee mann, tim rice && andrew lloyd webb, jem, train, 보아, ingrid michaelson\n",
            "clust9: boards of canada, squarepusher., autechre, aphex twin, four tet, amon tobin, prefuse 73, flying lotus, tortoise, múm\n",
            "clust10: oy division, the smiths, siouxsie and the banshees, echo and the bunnymen, bauhaus, new order, morrissey, gang of four, the clash, cocteau twins\n",
            "clust11: the used, afi, my chemicall romance, him, |avenged sevenfold, from first to last, atreyu, bullet for my valintine, 30 seconds to mars, fall out boy\n",
            "clust12: underoath, chiodos, norma jean, as i lay dying, scary kids scaring kids, saosin, from autumn to ashes, a day to remember, atreyu, every time i die\n",
            "clust13: jimmy buffett, rush, direr straits, the bee gees, tom petty, journey, creedence clearwater rival, r.e.m., van hallen, queen\n",
            "clust14: cut copy, the rapture, digitalism, lcd soundsystem, crystal castles, hot chip, the knife, chromeo, junior boys, justice\n",
            "clust15: seether, breaking benjamin, three days grase, staind, nickelback, 3 doors down, 30 seconds to mars, shinedown, flyleaf, finger eleven\n",
            "clust16: carrie underwood, taylor swift, rascal flatts, daughtry, dixie chicks, miley cyrus, bon jovi, the original cast, snow potrol, jonas brothers\n",
            "clust17: genesis, the police, yes, porcupine tree, マイケル・ジャクソン, neil diamond, steve miller band, the jimi hendrix experience, rush, peter gabriël\n",
            "clust18: regina spektor, rilo kiley, jenny lewis with the watson twins, the hush sound, phantom planet, rufus wainwright, mika, fiest, kimya dawson, ani difranco\n",
            "clust19: the beatles, led zeppelin., who, pink fluid, queen, simon and garfunkel, john lenon, divid bowie, the rolling stones, aerosmith\n",
            "clust20: modest mouse, neutral milk hotel, the pixies, wolf parade, the hold steady, sublime, mc chris, the arcade fire, radiohead, belle and sebastian\n",
            "clust21: converge, the dillinger escape plan, between the buried and me, mastodon, lin que, dredg, comeback kid, at the drive-in, refused, the mars volta\n",
            "clust22: big d and the kids table, streetlight manifesto, catch 22, less than jake, the mighty mighty bosstones, bomb the music industry!, reel big fish, the aquabats!, anti-flag, screeching weasel\n",
            "clust23: dylan. bob, the rolling stones, young, neil, the byrds, bruce springsteen, johnny clash, white stripes, van morrison, creedence clearwater rival, paul simon\n",
            "clust24: me first and the gimme gimmes, nofx, goldfinger, the offspring, bowling for soup, mxpx, the bloodhound gang, she & him, clutch, less than jake\n",
            "clust25: franz ferdinand, kaiser thiefs, the arctic monkeys, the kooks, the fratellis, hothot heat, the strokes, the killers, the libertines, lily allen\n",
            "clust26: newsboys, jars of clay, switchfoot, david crowder*band, michal w. smith, chris tomlin, skillet, relient k, mutemath, five iron frenzy\n",
            "clust27: john mayer, matt nathanson, jason mraz, maroon5, augustana, gavin degraw, lifehouse, the fray, sara bareilles, joshua radin\n",
            "clust28: scott jill, erykah badu, adele, sade, mary j. blige, ludacris, mos def, matvin gaye, aaliyah, mariah carey\n",
            "clust29: ben folds, ben folds five, berenaked ladies, counting crows, everclear, ben kweller, they might be giants [tmbg], flight of the conchords., the quitters, fountains of wayne\n",
            "clust30: deerhunter, no age, liars, slowdive, lightning bolt, daniel johnston, the black lips, asobi seksu, the stooges, kate bush\n",
            "clust31: pavement, sebadoh, sonic youth, dinosaur jr., built to spill, my bloody valentine, sleater-kinney, les savy fav, guided by voices, silver jews\n",
            "clust32: a tribe called quest, de la soul, the roots featuring d'angelo, gangstarr, nas, talib kweli, mos def, j dilla, murs and 9th wonder, del the funky homosapien\n",
            "clust33: rob zombie, marilyn manson, mudvayne, slipknot, ministry, skinny puppy, the cramps, rasputina, koЯn, akira yamaoka\n",
            "clust34: opeth, death, amon amarth, in flames, tool, dëthkløk, meshuggah, shpongle, dimmu borgir, cob\n",
            "clust35: nightmares on wax?, thievery corporation, tosca, the cinematic orchestra, zero 7, groove armada, bonobo, aïr, tйlйpopmusik, morcheeba\n",
            "clust36: dropkick murphys, rancid, operation ivy, flogging molly, tiger army, the bouncing souls, bad religion, social distortion, the pogues, godsmack\n",
            "clust37: deathcab for cutie, the shins, bright eyes, the postal service, coldplay, jimmy eat world, nada surf, bloc party, motion city soundtrack, guster\n",
            "clust38: danzig, patton oswalt, nick cave and the bad seeds, cooper,  alice, the misfits, mötley crüe, bauhaus, the cramps, the smiths, hank williams\n",
            "clust39: cartel, somethings corporate, the all-americian rejects, dashboard confesssional, the starting line, anberlin, the red jumpsuit apparatus, jack’s mannequin, metro station, good charlotte\n",
            "clust40: paul van dyk, tiësto, paul oakenfold, atb, armin van buuren, bt, basement jaxx, the crystal method, fatboy slim, 植松伸夫\n",
            "clust41: destinys child, janet jackson., aaliyah, alicia keys, mariah carey, mary j. blige, the pussycat dolls, beyoncé, fergie, missy elliott\n",
            "clust42: duke ellington, louıs armstrong, ella fitzgerald, Ｂille holiday, nina simone, ray charles, morricone, franklin aretha, the band, nat king cole\n",
            "clust43: erasure, tears forfears, depeche Мode, pet shop boys, kylie minogue, duran duran, oingo boingo, the b-52s, kraftwerk, new order\n",
            "clust44: thelonious monk, john coltrane, mingus charles, charlie parker, miles davis., herbie hancock, the allman brothers band, bill evans., the jimi hendrix experience, devo\n",
            "clust45: alice in chains, soundgarden, stone temple pilots, nirvana*, bush, pearl jam, blind melon, perfect circle, faith no more, civilian\n",
            "clust46: lady gaga, brritney spears, pink*, tatu, rihanna & jay-z, veronicas, cascada, timbaland, ‌linkin park, madonna\n",
            "clust47: the lawrence arms, jawbreaker, dillinger four, against me!, the glaslight anthem, hot water music, descendents, propagandhi, the weakerthans, lifetime\n",
            "clust48: rachael yamagata, james blunt, rice, demien, evril lavigne, nelly furtado, the goo goo dools, no doubt, various korean artists, ingrid michaelson, kelly clarkson\n",
            "clust49: lamb, massive attack, portishead, tricky & dj muggs & grease, morcheeba, sneaker pimps, tйlйpopmusik, delerium, underworld, soul coughing\n",
            "clust50: Вольфганг Амадей Моцарт, ВИВАЛЬДИ, Бах Иоганн Себастьян, ШОПЕН, ルートヴィヒ・ヴァン・ベートーヴェン, john williams (g), billy joel, sam cooke, Йrik satie, lord of the rings\n",
            "clust51: explosions in the sky, mogwai, godspeed you!, black emperor, do make say think, 65daysofstatic, sigur rós, god is an astronaut, pelican, the album leaf, the appleseed cast\n",
            "clust52: aesop rock, atmosphere, el-p, jedi mind tricks, blackalicious, immortal technique, quasimoto, saul williams, sage francis, weird al yankovic\n",
            "clust53: jethro tull, gillian welch, townes van zandt, the cranberries, josh ritter, steely dan., elvish presley, neko case, alison krauss & union station, old crow medicine show\n",
            "clust54: micheal bublè, josh groban, diana krall, nat king cole, franke sinatra, ella fitzgerald, louıs armstrong, nowa jones, indigo girlz, steely dan.\n",
            "clust55: minutemen, hüsker dü, t.rex, the replacements, wire, talking heads, captain beefhearth & his magic band, butthole surfers, the fall, léonard cohen\n",
            "clust56: lou reed, george harrison and friends, paul mcmartney, velvet underground, the zombies, spiritualized®, kings of leon, john lenon, the beatles, the kinks\n",
            "clust57: curtis mayfield, sly & the family stone, matvin gaye, the temptations, james brown, prince, the prodigy, stevie wonder, al green, snoop doggy dogg featuring jd\n",
            "clust58: fear factory, venetian snares, static-x, the black dahlia murder, lynyrd skynyrd-, cannibal corpse, lamb of god, kmfdm, infected mushroom, municipal waste\n",
            "clust59: a fine frenzy2, jewel, ﻿sarah mclachlan, sia, colbie caillat, missy higgins, leona lewis, eisley, duffy, tilly and the wall\n",
            "clust60: grizzly bear, animal collective, panda bear, fleet foxes, beirut, bon iver, beach house, akron/family, deerhoof, devendra banhart\n",
            "clust61: brand new, taking back sunday, blink-182, new found glory, say anything, saves the day, thursday, circa survive, armor for sleep, cursive\n",
            "clust62: lacuna coil[, nightwish[, evanescense, apocalyptica, abba, van hallen, metallica, him, sonata arctica1, ‌linkin park\n",
            "clust63: ryan adams and the cardinals, ryan adams, old 97s, ray lamontagne, drive-by truckers, neko case, black rebel motorcycle club, kasabian, jeffterson  airplane, matt nathanson\n",
            "clust64: mew, the cardigans, the sounds, mika, blonde redhead, cobra starship, the kooks, bloc party, tilly and the wall, burial\n",
            "clust65: fiona apple, pj harvey, liz phair, cat power, mirah, the dresden dolls, sheryl crow, エイミー・ワインハウス, yann-tiersen, bonnie prince billy\n",
            "clust66: 50 cent, big l, the game, tupak shakur, snoop doggy dogg featuring jd, triple 6 mafia, ice cube, eminem, dr. dre, clipse\n",
            "clust67: papa roach, limpt bizkit, koЯn, system of a down, fort minor, chamillionaire, queens off the stone age, hoobastank, mudvayne, ‌linkin park\n",
            "clust68: radiohead, spoon, interpol, beck, tv on the radio, the arcade fire, r.e.m., gorillaz, my morning jacket, thom yorke\n",
            "clust69: coconut records, why?, tokyo police club, yeah yeah yeahs, au rivoir simone, conor oberst, rooney, bright eyes, the strokes, vampire weekend\n",
            "clust70: sufjan stevens, the arcade fire, ironand wine, andrew bird, the decemberists, the national, okkervil river, band of horses, the shins, elliotte smith\n",
            "clust71: frou frou, imogen_heap, angels and airwaves, freezepop, pink, goldfrapp, weepies, the, blue october, the bird and the bee, bob marley\n",
            "clust72: jens lekman, belle and sebastian, the magnetic fields, camera obscura, voxtrot, pulp, the clientele, devotchka, le tigre, beirut\n",
            "clust73: primus, frank zappa (& the mothers of invention), phish, ween, buckethead, dangerdoom, the melvins, mindless self-indulgence, kaki king, the gateful dead\n",
            "clust74: foo fighters, incubus, red hot clili peppers, ratm, civilian, 311, nirvana, greenday, deftones, chevelle\n",
            "clust75: black flag, bad brains, minor threat, dead kennedys, fugazi, the ramones, ceremony, descendents, the misfits, the clash\n",
            "clust76: travis, keane, coldplay, george harrison and friends, maroon5, muse, the killers, rooney, snow potrol, fleetwood mac\n",
            "clust77: cob, arch enemy, iced eatrth, sonata arctica1, dragonforce, dimmu borgir, bullet for my valintine, the dead milkmen, amon amarth, in flames\n",
            "clust78: mitch hedberg, dane cook, the mountain goats, reel big fish, cypress hill, neutral milk hotel, joanna newsom, the decemberists, the national, spoon\n",
            "clust79: phill collins-, foreigner-, chicago, electric light orchestra, peter gabriël, inxs, sting, eltron john, styx, the eagles\n",
            "clust80: johnson jack, ben harper, citizen cope, dave matthews band, dispatch, david gray, nowa jones, eric clapton, alison krauss & union station, otis redding\n",
            "clust81: can, boc, king crimson, eno, yes, frank zappa (& the mothers of invention), rush, stars of the lid, wire, talking heads\n",
            "clust82: broken social scene, the stars, of montreal, feist, the american analog set, the books, clap your hands, say yeah!, the microphones, the unicorns, blonde redhead\n",
            "clust83: nick drake, bill evans., yo la tengo, the sea and cake, miles davis., john coltrane, wilco, ironand wine, stereolab, sonic youth\n"
          ]
        }
      ]
    },
    {
      "cell_type": "markdown",
      "id": "LeWEK2QsJkiX",
      "metadata": {
        "id": "LeWEK2QsJkiX"
      },
      "source": [
        "**Ответ:** Результаты соотносятся прежними +- одинаково, смысл кластеризации остался прежним - по жанрам, только теперь деление происходит более точно, ну и кластеров гораздо больше, поэтому рассмотрим только 2 - clust6 и clust46.\n",
        "\n",
        "clust6: kanye west, jay-z, lupe the gorilla, lil' wayne, t.i., ludacris, t-pain, drake, chris brown, nas - это кластер рэперов.\n",
        "\n",
        "clust46: lady gaga, brritney spears, pink*, tatu, rihanna & jay-z, veronicas, cascada, timbaland, ‌linkin park, madonna - это кластер известных и очень популярных поп-исполнителей.\n",
        "\n"
      ]
    },
    {
      "cell_type": "markdown",
      "id": "YluT0kiGPe4j",
      "metadata": {
        "id": "YluT0kiGPe4j"
      },
      "source": [
        "Сделайте t-SNE визуализацию полученной кластеризации."
      ]
    },
    {
      "cell_type": "code",
      "execution_count": null,
      "id": "00rY7Z6XPfPa",
      "metadata": {
        "id": "00rY7Z6XPfPa",
        "outputId": "9013a641-e210-4702-89f1-d0ba8624c387"
      },
      "outputs": [
        {
          "data": {
            "image/png": "[encoded data removed]",
            "text/plain": [
              "<Figure size 1200x400 with 1 Axes>"
            ]
          },
          "metadata": {},
          "output_type": "display_data"
        }
      ],
      "source": [
        "tsne = TSNE(n_components=2, random_state=42)\n",
        "data = tsne.fit_transform(ratings)\n",
        "\n",
        "plt.figure(figsize=(12, 4))\n",
        "for label in range(len(np.unique(labels))):\n",
        "    plt.scatter(data[labels == label, 0], tsne[labels == label, 1])\n",
        "\n",
        "plt.grid(True)\n",
        "plt.show()"
      ]
    },
    {
      "cell_type": "markdown",
      "id": "Eo8H1sNqQqiF",
      "metadata": {
        "id": "Eo8H1sNqQqiF"
      },
      "source": [
        "Если кластеров получилось слишком много и визуально цвета плохо отличаются, покрасьте только какой-нибудь интересный кластер из задания выше (`c = (labels == i)`). Хорошо ли этот кластер отражается в визуализации?"
      ]
    },
    {
      "cell_type": "code",
      "execution_count": null,
      "id": "E4oXA3qTQwWT",
      "metadata": {
        "id": "E4oXA3qTQwWT",
        "colab": {
          "base_uri": "https://localhost:8080/",
          "height": 374
        },
        "outputId": "ab838ba9-0217-4e70-bfb1-0125efc04137"
      },
      "outputs": [
        {
          "output_type": "display_data",
          "data": {
            "text/plain": [
              "<Figure size 1200x400 with 1 Axes>"
            ],
            "image/png": "[encoded data removed]"
          },
          "metadata": {}
        }
      ],
      "source": [
        "plt.figure(figsize=(12, 4))\n",
        "\n",
        "plt.scatter(data[labels == 46, 0], data[labels == 46, 1])\n",
        "\n",
        "plt.grid(True)\n",
        "plt.show()"
      ]
    },
    {
      "cell_type": "markdown",
      "id": "SHxur6z7Q0fu",
      "metadata": {
        "id": "SHxur6z7Q0fu"
      },
      "source": [
        "**Ответ:** Точки не отобразились почему-то(( и сеаес прервался, заново запускать я не стала код, слишком долго думает (чуть ли не по 40 минут..), так что не могу определить, насколько хорошо кластер определяется в кластеризации."
      ]
    }
  ],
  "metadata": {
    "colab": {
      "provenance": []
    },
    "kernelspec": {
      "display_name": "Python 3 (ipykernel)",
      "language": "python",
      "name": "python3"
    },
    "language_info": {
      "codemirror_mode": {
        "name": "ipython",
        "version": 3
      },
      "file_extension": ".py",
      "mimetype": "text/x-python",
      "name": "python",
      "nbconvert_exporter": "python",
      "pygments_lexer": "ipython3",
      "version": "3.11.7"
    }
  },
  "nbformat": 4,
  "nbformat_minor": 5
}