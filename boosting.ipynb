{
  "cells": [
    {
      "cell_type": "markdown",
      "id": "047674ee",
      "metadata": {
        "id": "047674ee"
      },
      "source": [
        "# Бустинг"
      ]
    },
    {
      "cell_type": "markdown",
      "id": "d8461109",
      "metadata": {
        "id": "d8461109"
      },
      "source": [
        "Будем предсказывать зарплату data scientist-ов в зависимости  от ряда факторов с помощью градиентного бустинга."
      ]
    },
    {
      "cell_type": "markdown",
      "id": "1651e8dd",
      "metadata": {
        "id": "1651e8dd"
      },
      "source": [
        "В датасете есть следующие признаки:\n",
        "\n",
        "\n",
        "\n",
        "* work_year: The number of years of work experience in the field of data science.\n",
        "\n",
        "* experience_level: The level of experience, such as Junior, Senior, or Lead.\n",
        "\n",
        "* employment_type: The type of employment, such as Full-time or Contract.\n",
        "\n",
        "* job_title: The specific job title or role, such as Data Analyst or Data Scientist.\n",
        "\n",
        "* salary: The salary amount for the given job.\n",
        "\n",
        "* salary_currency: The currency in which the salary is denoted.\n",
        "\n",
        "* salary_in_usd: The equivalent salary amount converted to US dollars (USD) for comparison purposes.\n",
        "\n",
        "* employee_residence: The country or region where the employee resides.\n",
        "\n",
        "* remote_ratio: The percentage of remote work offered in the job.\n",
        "\n",
        "* company_location: The location of the company or organization.\n",
        "\n",
        "* company_size: The company's size is categorized as Small, Medium, or Large."
      ]
    },
    {
      "cell_type": "code",
      "source": [
        "import pandas as pd\n",
        "import numpy as np\n",
        "import matplotlib.pyplot as plt"
      ],
      "metadata": {
        "id": "_z2sb5XBjMxu"
      },
      "id": "_z2sb5XBjMxu",
      "execution_count": null,
      "outputs": []
    },
    {
      "cell_type": "code",
      "execution_count": null,
      "id": "dbf7595c",
      "metadata": {
        "colab": {
          "base_uri": "https://localhost:8080/",
          "height": 206
        },
        "id": "dbf7595c",
        "outputId": "cb976887-d510-4871-b4b5-80285d17cc65"
      },
      "outputs": [
        {
          "output_type": "execute_result",
          "data": {
            "text/plain": [
              "   work_year experience_level employment_type                 job_title  \\\n",
              "0       2023               SE              FT  Principal Data Scientist   \n",
              "1       2023               MI              CT               ML Engineer   \n",
              "2       2023               MI              CT               ML Engineer   \n",
              "3       2023               SE              FT            Data Scientist   \n",
              "4       2023               SE              FT            Data Scientist   \n",
              "\n",
              "   salary salary_currency  salary_in_usd employee_residence  remote_ratio  \\\n",
              "0   80000             EUR          85847                 ES           100   \n",
              "1   30000             USD          30000                 US           100   \n",
              "2   25500             USD          25500                 US           100   \n",
              "3  175000             USD         175000                 CA           100   \n",
              "4  120000             USD         120000                 CA           100   \n",
              "\n",
              "  company_location company_size  \n",
              "0               ES            L  \n",
              "1               US            S  \n",
              "2               US            S  \n",
              "3               CA            M  \n",
              "4               CA            M  "
            ],
            "text/html": [
              "\n",
              "  <div id=\"df-ee65cf88-0a5d-4c0c-bf22-2efaf0b20326\" class=\"colab-df-container\">\n",
              "    <div>\n",
              "<style scoped>\n",
              "    .dataframe tbody tr th:only-of-type {\n",
              "        vertical-align: middle;\n",
              "    }\n",
              "\n",
              "    .dataframe tbody tr th {\n",
              "        vertical-align: top;\n",
              "    }\n",
              "\n",
              "    .dataframe thead th {\n",
              "        text-align: right;\n",
              "    }\n",
              "</style>\n",
              "<table border=\"1\" class=\"dataframe\">\n",
              "  <thead>\n",
              "    <tr style=\"text-align: right;\">\n",
              "      <th></th>\n",
              "      <th>work_year</th>\n",
              "      <th>experience_level</th>\n",
              "      <th>employment_type</th>\n",
              "      <th>job_title</th>\n",
              "      <th>salary</th>\n",
              "      <th>salary_currency</th>\n",
              "      <th>salary_in_usd</th>\n",
              "      <th>employee_residence</th>\n",
              "      <th>remote_ratio</th>\n",
              "      <th>company_location</th>\n",
              "      <th>company_size</th>\n",
              "    </tr>\n",
              "  </thead>\n",
              "  <tbody>\n",
              "    <tr>\n",
              "      <th>0</th>\n",
              "      <td>2023</td>\n",
              "      <td>SE</td>\n",
              "      <td>FT</td>\n",
              "      <td>Principal Data Scientist</td>\n",
              "      <td>80000</td>\n",
              "      <td>EUR</td>\n",
              "      <td>85847</td>\n",
              "      <td>ES</td>\n",
              "      <td>100</td>\n",
              "      <td>ES</td>\n",
              "      <td>L</td>\n",
              "    </tr>\n",
              "    <tr>\n",
              "      <th>1</th>\n",
              "      <td>2023</td>\n",
              "      <td>MI</td>\n",
              "      <td>CT</td>\n",
              "      <td>ML Engineer</td>\n",
              "      <td>30000</td>\n",
              "      <td>USD</td>\n",
              "      <td>30000</td>\n",
              "      <td>US</td>\n",
              "      <td>100</td>\n",
              "      <td>US</td>\n",
              "      <td>S</td>\n",
              "    </tr>\n",
              "    <tr>\n",
              "      <th>2</th>\n",
              "      <td>2023</td>\n",
              "      <td>MI</td>\n",
              "      <td>CT</td>\n",
              "      <td>ML Engineer</td>\n",
              "      <td>25500</td>\n",
              "      <td>USD</td>\n",
              "      <td>25500</td>\n",
              "      <td>US</td>\n",
              "      <td>100</td>\n",
              "      <td>US</td>\n",
              "      <td>S</td>\n",
              "    </tr>\n",
              "    <tr>\n",
              "      <th>3</th>\n",
              "      <td>2023</td>\n",
              "      <td>SE</td>\n",
              "      <td>FT</td>\n",
              "      <td>Data Scientist</td>\n",
              "      <td>175000</td>\n",
              "      <td>USD</td>\n",
              "      <td>175000</td>\n",
              "      <td>CA</td>\n",
              "      <td>100</td>\n",
              "      <td>CA</td>\n",
              "      <td>M</td>\n",
              "    </tr>\n",
              "    <tr>\n",
              "      <th>4</th>\n",
              "      <td>2023</td>\n",
              "      <td>SE</td>\n",
              "      <td>FT</td>\n",
              "      <td>Data Scientist</td>\n",
              "      <td>120000</td>\n",
              "      <td>USD</td>\n",
              "      <td>120000</td>\n",
              "      <td>CA</td>\n",
              "      <td>100</td>\n",
              "      <td>CA</td>\n",
              "      <td>M</td>\n",
              "    </tr>\n",
              "  </tbody>\n",
              "</table>\n",
              "</div>\n",
              "    <div class=\"colab-df-buttons\">\n",
              "\n",
              "  <div class=\"colab-df-container\">\n",
              "    <button class=\"colab-df-convert\" onclick=\"convertToInteractive('df-ee65cf88-0a5d-4c0c-bf22-2efaf0b20326')\"\n",
              "            title=\"Convert this dataframe to an interactive table.\"\n",
              "            style=\"display:none;\">\n",
              "\n",
              "  <svg xmlns=\"http://www.w3.org/2000/svg\" height=\"24px\" viewBox=\"0 -960 960 960\">\n",
              "    <path d=\"M120-120v-720h720v720H120Zm60-500h600v-160H180v160Zm220 220h160v-160H400v160Zm0 220h160v-160H400v160ZM180-400h160v-160H180v160Zm440 0h160v-160H620v160ZM180-180h160v-160H180v160Zm440 0h160v-160H620v160Z\"/>\n",
              "  </svg>\n",
              "    </button>\n",
              "\n",
              "  <style>\n",
              "    .colab-df-container {\n",
              "      display:flex;\n",
              "      gap: 12px;\n",
              "    }\n",
              "\n",
              "    .colab-df-convert {\n",
              "      background-color: #E8F0FE;\n",
              "      border: none;\n",
              "      border-radius: 50%;\n",
              "      cursor: pointer;\n",
              "      display: none;\n",
              "      fill: #1967D2;\n",
              "      height: 32px;\n",
              "      padding: 0 0 0 0;\n",
              "      width: 32px;\n",
              "    }\n",
              "\n",
              "    .colab-df-convert:hover {\n",
              "      background-color: #E2EBFA;\n",
              "      box-shadow: 0px 1px 2px rgba(60, 64, 67, 0.3), 0px 1px 3px 1px rgba(60, 64, 67, 0.15);\n",
              "      fill: #174EA6;\n",
              "    }\n",
              "\n",
              "    .colab-df-buttons div {\n",
              "      margin-bottom: 4px;\n",
              "    }\n",
              "\n",
              "    [theme=dark] .colab-df-convert {\n",
              "      background-color: #3B4455;\n",
              "      fill: #D2E3FC;\n",
              "    }\n",
              "\n",
              "    [theme=dark] .colab-df-convert:hover {\n",
              "      background-color: #434B5C;\n",
              "      box-shadow: 0px 1px 3px 1px rgba(0, 0, 0, 0.15);\n",
              "      filter: drop-shadow(0px 1px 2px rgba(0, 0, 0, 0.3));\n",
              "      fill: #FFFFFF;\n",
              "    }\n",
              "  </style>\n",
              "\n",
              "    <script>\n",
              "      const buttonEl =\n",
              "        document.querySelector('#df-ee65cf88-0a5d-4c0c-bf22-2efaf0b20326 button.colab-df-convert');\n",
              "      buttonEl.style.display =\n",
              "        google.colab.kernel.accessAllowed ? 'block' : 'none';\n",
              "\n",
              "      async function convertToInteractive(key) {\n",
              "        const element = document.querySelector('#df-ee65cf88-0a5d-4c0c-bf22-2efaf0b20326');\n",
              "        const dataTable =\n",
              "          await google.colab.kernel.invokeFunction('convertToInteractive',\n",
              "                                                    [key], {});\n",
              "        if (!dataTable) return;\n",
              "\n",
              "        const docLinkHtml = 'Like what you see? Visit the ' +\n",
              "          '<a target=\"_blank\" href=https://colab.research.google.com/notebooks/data_table.ipynb>data table notebook</a>'\n",
              "          + ' to learn more about interactive tables.';\n",
              "        element.innerHTML = '';\n",
              "        dataTable['output_type'] = 'display_data';\n",
              "        await google.colab.output.renderOutput(dataTable, element);\n",
              "        const docLink = document.createElement('div');\n",
              "        docLink.innerHTML = docLinkHtml;\n",
              "        element.appendChild(docLink);\n",
              "      }\n",
              "    </script>\n",
              "  </div>\n",
              "\n",
              "\n",
              "<div id=\"df-8d66494d-6c7f-4bc9-9df5-72b6802f0159\">\n",
              "  <button class=\"colab-df-quickchart\" onclick=\"quickchart('df-8d66494d-6c7f-4bc9-9df5-72b6802f0159')\"\n",
              "            title=\"Suggest charts\"\n",
              "            style=\"display:none;\">\n",
              "\n",
              "<svg xmlns=\"http://www.w3.org/2000/svg\" height=\"24px\"viewBox=\"0 0 24 24\"\n",
              "     width=\"24px\">\n",
              "    <g>\n",
              "        <path d=\"M19 3H5c-1.1 0-2 .9-2 2v14c0 1.1.9 2 2 2h14c1.1 0 2-.9 2-2V5c0-1.1-.9-2-2-2zM9 17H7v-7h2v7zm4 0h-2V7h2v10zm4 0h-2v-4h2v4z\"/>\n",
              "    </g>\n",
              "</svg>\n",
              "  </button>\n",
              "\n",
              "<style>\n",
              "  .colab-df-quickchart {\n",
              "      --bg-color: #E8F0FE;\n",
              "      --fill-color: #1967D2;\n",
              "      --hover-bg-color: #E2EBFA;\n",
              "      --hover-fill-color: #174EA6;\n",
              "      --disabled-fill-color: #AAA;\n",
              "      --disabled-bg-color: #DDD;\n",
              "  }\n",
              "\n",
              "  [theme=dark] .colab-df-quickchart {\n",
              "      --bg-color: #3B4455;\n",
              "      --fill-color: #D2E3FC;\n",
              "      --hover-bg-color: #434B5C;\n",
              "      --hover-fill-color: #FFFFFF;\n",
              "      --disabled-bg-color: #3B4455;\n",
              "      --disabled-fill-color: #666;\n",
              "  }\n",
              "\n",
              "  .colab-df-quickchart {\n",
              "    background-color: var(--bg-color);\n",
              "    border: none;\n",
              "    border-radius: 50%;\n",
              "    cursor: pointer;\n",
              "    display: none;\n",
              "    fill: var(--fill-color);\n",
              "    height: 32px;\n",
              "    padding: 0;\n",
              "    width: 32px;\n",
              "  }\n",
              "\n",
              "  .colab-df-quickchart:hover {\n",
              "    background-color: var(--hover-bg-color);\n",
              "    box-shadow: 0 1px 2px rgba(60, 64, 67, 0.3), 0 1px 3px 1px rgba(60, 64, 67, 0.15);\n",
              "    fill: var(--button-hover-fill-color);\n",
              "  }\n",
              "\n",
              "  .colab-df-quickchart-complete:disabled,\n",
              "  .colab-df-quickchart-complete:disabled:hover {\n",
              "    background-color: var(--disabled-bg-color);\n",
              "    fill: var(--disabled-fill-color);\n",
              "    box-shadow: none;\n",
              "  }\n",
              "\n",
              "  .colab-df-spinner {\n",
              "    border: 2px solid var(--fill-color);\n",
              "    border-color: transparent;\n",
              "    border-bottom-color: var(--fill-color);\n",
              "    animation:\n",
              "      spin 1s steps(1) infinite;\n",
              "  }\n",
              "\n",
              "  @keyframes spin {\n",
              "    0% {\n",
              "      border-color: transparent;\n",
              "      border-bottom-color: var(--fill-color);\n",
              "      border-left-color: var(--fill-color);\n",
              "    }\n",
              "    20% {\n",
              "      border-color: transparent;\n",
              "      border-left-color: var(--fill-color);\n",
              "      border-top-color: var(--fill-color);\n",
              "    }\n",
              "    30% {\n",
              "      border-color: transparent;\n",
              "      border-left-color: var(--fill-color);\n",
              "      border-top-color: var(--fill-color);\n",
              "      border-right-color: var(--fill-color);\n",
              "    }\n",
              "    40% {\n",
              "      border-color: transparent;\n",
              "      border-right-color: var(--fill-color);\n",
              "      border-top-color: var(--fill-color);\n",
              "    }\n",
              "    60% {\n",
              "      border-color: transparent;\n",
              "      border-right-color: var(--fill-color);\n",
              "    }\n",
              "    80% {\n",
              "      border-color: transparent;\n",
              "      border-right-color: var(--fill-color);\n",
              "      border-bottom-color: var(--fill-color);\n",
              "    }\n",
              "    90% {\n",
              "      border-color: transparent;\n",
              "      border-bottom-color: var(--fill-color);\n",
              "    }\n",
              "  }\n",
              "</style>\n",
              "\n",
              "  <script>\n",
              "    async function quickchart(key) {\n",
              "      const quickchartButtonEl =\n",
              "        document.querySelector('#' + key + ' button');\n",
              "      quickchartButtonEl.disabled = true;  // To prevent multiple clicks.\n",
              "      quickchartButtonEl.classList.add('colab-df-spinner');\n",
              "      try {\n",
              "        const charts = await google.colab.kernel.invokeFunction(\n",
              "            'suggestCharts', [key], {});\n",
              "      } catch (error) {\n",
              "        console.error('Error during call to suggestCharts:', error);\n",
              "      }\n",
              "      quickchartButtonEl.classList.remove('colab-df-spinner');\n",
              "      quickchartButtonEl.classList.add('colab-df-quickchart-complete');\n",
              "    }\n",
              "    (() => {\n",
              "      let quickchartButtonEl =\n",
              "        document.querySelector('#df-8d66494d-6c7f-4bc9-9df5-72b6802f0159 button');\n",
              "      quickchartButtonEl.style.display =\n",
              "        google.colab.kernel.accessAllowed ? 'block' : 'none';\n",
              "    })();\n",
              "  </script>\n",
              "</div>\n",
              "    </div>\n",
              "  </div>\n"
            ],
            "application/vnd.google.colaboratory.intrinsic+json": {
              "type": "dataframe",
              "variable_name": "df",
              "summary": "{\n  \"name\": \"df\",\n  \"rows\": 3755,\n  \"fields\": [\n    {\n      \"column\": \"work_year\",\n      \"properties\": {\n        \"dtype\": \"number\",\n        \"std\": 0,\n        \"min\": 2020,\n        \"max\": 2023,\n        \"num_unique_values\": 4,\n        \"samples\": [\n          2022,\n          2021,\n          2023\n        ],\n        \"semantic_type\": \"\",\n        \"description\": \"\"\n      }\n    },\n    {\n      \"column\": \"experience_level\",\n      \"properties\": {\n        \"dtype\": \"category\",\n        \"num_unique_values\": 4,\n        \"samples\": [\n          \"MI\",\n          \"EX\",\n          \"SE\"\n        ],\n        \"semantic_type\": \"\",\n        \"description\": \"\"\n      }\n    },\n    {\n      \"column\": \"employment_type\",\n      \"properties\": {\n        \"dtype\": \"category\",\n        \"num_unique_values\": 4,\n        \"samples\": [\n          \"CT\",\n          \"PT\",\n          \"FT\"\n        ],\n        \"semantic_type\": \"\",\n        \"description\": \"\"\n      }\n    },\n    {\n      \"column\": \"job_title\",\n      \"properties\": {\n        \"dtype\": \"category\",\n        \"num_unique_values\": 93,\n        \"samples\": [\n          \"Cloud Database Engineer\",\n          \"Staff Data Analyst\",\n          \"Insight Analyst\"\n        ],\n        \"semantic_type\": \"\",\n        \"description\": \"\"\n      }\n    },\n    {\n      \"column\": \"salary\",\n      \"properties\": {\n        \"dtype\": \"number\",\n        \"std\": 671676,\n        \"min\": 6000,\n        \"max\": 30400000,\n        \"num_unique_values\": 815,\n        \"samples\": [\n          84570,\n          138000,\n          370000\n        ],\n        \"semantic_type\": \"\",\n        \"description\": \"\"\n      }\n    },\n    {\n      \"column\": \"salary_currency\",\n      \"properties\": {\n        \"dtype\": \"category\",\n        \"num_unique_values\": 20,\n        \"samples\": [\n          \"EUR\",\n          \"MXN\",\n          \"DKK\"\n        ],\n        \"semantic_type\": \"\",\n        \"description\": \"\"\n      }\n    },\n    {\n      \"column\": \"salary_in_usd\",\n      \"properties\": {\n        \"dtype\": \"number\",\n        \"std\": 63055,\n        \"min\": 5132,\n        \"max\": 450000,\n        \"num_unique_values\": 1035,\n        \"samples\": [\n          205600,\n          375000,\n          140700\n        ],\n        \"semantic_type\": \"\",\n        \"description\": \"\"\n      }\n    },\n    {\n      \"column\": \"employee_residence\",\n      \"properties\": {\n        \"dtype\": \"category\",\n        \"num_unique_values\": 78,\n        \"samples\": [\n          \"AR\",\n          \"ES\",\n          \"AM\"\n        ],\n        \"semantic_type\": \"\",\n        \"description\": \"\"\n      }\n    },\n    {\n      \"column\": \"remote_ratio\",\n      \"properties\": {\n        \"dtype\": \"number\",\n        \"std\": 48,\n        \"min\": 0,\n        \"max\": 100,\n        \"num_unique_values\": 3,\n        \"samples\": [\n          100,\n          0,\n          50\n        ],\n        \"semantic_type\": \"\",\n        \"description\": \"\"\n      }\n    },\n    {\n      \"column\": \"company_location\",\n      \"properties\": {\n        \"dtype\": \"category\",\n        \"num_unique_values\": 72,\n        \"samples\": [\n          \"GB\",\n          \"MY\",\n          \"SG\"\n        ],\n        \"semantic_type\": \"\",\n        \"description\": \"\"\n      }\n    },\n    {\n      \"column\": \"company_size\",\n      \"properties\": {\n        \"dtype\": \"category\",\n        \"num_unique_values\": 3,\n        \"samples\": [\n          \"L\",\n          \"S\",\n          \"M\"\n        ],\n        \"semantic_type\": \"\",\n        \"description\": \"\"\n      }\n    }\n  ]\n}"
            }
          },
          "metadata": {},
          "execution_count": 2
        }
      ],
      "source": [
        "df = pd.read_csv(\"ds_salaries.csv\")\n",
        "df.head()"
      ]
    },
    {
      "cell_type": "markdown",
      "id": "6696e77a",
      "metadata": {
        "id": "6696e77a"
      },
      "source": [
        "## Подготовка"
      ]
    },
    {
      "cell_type": "code",
      "execution_count": null,
      "id": "5a2ba920",
      "metadata": {
        "id": "5a2ba920"
      },
      "outputs": [],
      "source": [
        "from sklearn.model_selection import train_test_split"
      ]
    },
    {
      "cell_type": "code",
      "execution_count": null,
      "id": "HJNGYRCjYG8A",
      "metadata": {
        "id": "HJNGYRCjYG8A"
      },
      "outputs": [],
      "source": [
        "# делим выборку на train, val, test (80%, 10%, 10%)\n",
        "train, val = train_test_split(df, test_size=0.2, random_state=42)\n",
        "test, val = train_test_split(val, test_size=0.5, random_state=42)"
      ]
    },
    {
      "cell_type": "code",
      "source": [
        "# salary_in_usd в качестве таргета\n",
        "train_y = train['salary_in_usd']\n",
        "train_X = train.drop('salary_in_usd', axis=1)\n",
        "\n",
        "val_y = val['salary_in_usd']\n",
        "val_X = val.drop('salary_in_usd', axis=1)\n",
        "\n",
        "test_y = test['salary_in_usd']\n",
        "test_X = test.drop('salary_in_usd', axis=1)"
      ],
      "metadata": {
        "id": "_aS1gcXCje6W"
      },
      "id": "_aS1gcXCje6W",
      "execution_count": null,
      "outputs": []
    },
    {
      "cell_type": "code",
      "execution_count": null,
      "id": "89c1afd4",
      "metadata": {
        "id": "89c1afd4"
      },
      "outputs": [],
      "source": [
        "# удаление признака salary, из-за которого возможен лик в данных, т.к. нам как раз нужно предсказывать зарплату\n",
        "train_X.drop('salary', axis=1, inplace=True)\n",
        "val_X.drop('salary', axis=1, inplace=True)\n",
        "test_X.drop('salary', axis=1, inplace=True)"
      ]
    },
    {
      "cell_type": "markdown",
      "id": "f63cb01a",
      "metadata": {
        "id": "f63cb01a"
      },
      "source": [
        "## Линейная модель"
      ]
    },
    {
      "cell_type": "code",
      "source": [
        "from sklearn.linear_model import LinearRegression\n",
        "from sklearn.metrics import mean_absolute_percentage_error, mean_squared_error\n",
        "from sklearn.preprocessing import OneHotEncoder"
      ],
      "metadata": {
        "id": "qfrPC3Pejmi6"
      },
      "id": "qfrPC3Pejmi6",
      "execution_count": null,
      "outputs": []
    },
    {
      "cell_type": "code",
      "source": [
        "# OneHot-кодирование\n",
        "categorical_features = train_X.columns[(train_X.dtypes == 'object').values]\n",
        "encoder = OneHotEncoder(sparse=False, handle_unknown='infrequent_if_exist')"
      ],
      "metadata": {
        "id": "QyhW_kZsjpFR"
      },
      "id": "QyhW_kZsjpFR",
      "execution_count": null,
      "outputs": []
    },
    {
      "cell_type": "code",
      "source": [
        "X_train_encoded = pd.DataFrame(encoder.fit_transform(train_X[categorical_features]),\n",
        "                                  columns=encoder.get_feature_names_out(categorical_features),\n",
        "                                  index=train_X.index)\n",
        "X_test_encoded = pd.DataFrame(encoder.transform(test_X[categorical_features]),\n",
        "                                  columns=encoder.get_feature_names_out(categorical_features),\n",
        "                                  index=test_X.index)\n",
        "X_valid_encoded = pd.DataFrame(encoder.transform(val_X[categorical_features]),\n",
        "                                  columns=encoder.get_feature_names_out(categorical_features),\n",
        "                                  index=val_X.index)"
      ],
      "metadata": {
        "colab": {
          "base_uri": "https://localhost:8080/"
        },
        "id": "qqdgDxbpjsNs",
        "outputId": "d751a5a7-590e-4bf3-c8cb-da205f79b951"
      },
      "id": "qqdgDxbpjsNs",
      "execution_count": null,
      "outputs": [
        {
          "output_type": "stream",
          "name": "stderr",
          "text": [
            "/usr/local/lib/python3.10/dist-packages/sklearn/preprocessing/_encoders.py:868: FutureWarning: `sparse` was renamed to `sparse_output` in version 1.2 and will be removed in 1.4. `sparse_output` is ignored unless you leave `sparse` to its default value.\n",
            "  warnings.warn(\n"
          ]
        }
      ]
    },
    {
      "cell_type": "code",
      "execution_count": null,
      "id": "DcfWqlvYk0ru",
      "metadata": {
        "id": "DcfWqlvYk0ru"
      },
      "outputs": [],
      "source": [
        "# обучение модели линейной регрессии\n",
        "lr = LinearRegression()\n",
        "lr.fit(X_train_encoded, train_y)\n",
        "pred_y_lr = lr.predict(X_test_encoded)"
      ]
    },
    {
      "cell_type": "code",
      "source": [
        "print('MAPE: ', mean_absolute_percentage_error(test_y, pred_y_lr))\n",
        "print('RMSE: ', mean_squared_error(test_y, pred_y_lr, squared=False))"
      ],
      "metadata": {
        "colab": {
          "base_uri": "https://localhost:8080/"
        },
        "id": "Z4p28sALkQzP",
        "outputId": "52da1b0d-ea32-4769-af64-f2a3c81a8f35"
      },
      "id": "Z4p28sALkQzP",
      "execution_count": null,
      "outputs": [
        {
          "output_type": "stream",
          "name": "stdout",
          "text": [
            "MAPE:  150674690.92530096\n",
            "RMSE:  55272704734584.72\n"
          ]
        }
      ]
    },
    {
      "cell_type": "markdown",
      "source": [
        "Качество модели очень низкое, высокое среднеквадратическое отклонение прогнозируемых значений от фактических подтверждает это, как и огромная средняя разница между прогнозом и фактом"
      ],
      "metadata": {
        "id": "8qulo1Q0lf3Q"
      },
      "id": "8qulo1Q0lf3Q"
    },
    {
      "cell_type": "markdown",
      "id": "3578292c",
      "metadata": {
        "id": "3578292c"
      },
      "source": [
        "## XGboost"
      ]
    },
    {
      "cell_type": "markdown",
      "id": "3RJuwwoty9w1",
      "metadata": {
        "id": "3RJuwwoty9w1"
      },
      "source": [
        "Начнем с библиотеки xgboost.\n",
        "\n",
        "Обучим модель `XGBRegressor` на тех же данных, что линейную модель, подобрав оптимальные гиперпараметры (`max_depth, learning_rate, n_estimators, gamma`, etc.) по валидационной выборке."
      ]
    },
    {
      "cell_type": "code",
      "source": [
        "import time"
      ],
      "metadata": {
        "id": "jswV1Bb0kaTU"
      },
      "id": "jswV1Bb0kaTU",
      "execution_count": null,
      "outputs": []
    },
    {
      "cell_type": "code",
      "execution_count": null,
      "id": "0db01815",
      "metadata": {
        "id": "0db01815"
      },
      "outputs": [],
      "source": [
        "from xgboost.sklearn import XGBRegressor\n",
        "from sklearn.model_selection import GridSearchCV\n",
        "\n",
        "parameters = {\n",
        "    'max_depth': [3, 5, 7],\n",
        "    'learning_rate': [0.1, 0.01, 0.001],\n",
        "    'n_estimators': [100, 500, 1000],\n",
        "    'gamma': [0, 0.1, 0.2],\n",
        "    'subsample': [0.4, 0.6, 0.8],\n",
        "    'colsample_bytree': [0.4, 0.6, 0.8],\n",
        "    'min_child_weight': [1, 3, 5]\n",
        "}\n",
        "\n",
        "xgb = XGBRegressor()\n",
        "grid_search = GridSearchCV(estimator=xgb, param_grid=parameters, cv=3, n_jobs=-1)\n",
        "grid_search.fit(X_valid_encoded, val_y)"
      ]
    },
    {
      "cell_type": "code",
      "source": [
        "%%time\n",
        "best_xgb = XGBRegressor(**grid_search.best_params_)\n",
        "best_xgb.fit(X_train_encoded, train_y)"
      ],
      "metadata": {
        "id": "FhJrw8btkmxn"
      },
      "id": "FhJrw8btkmxn",
      "execution_count": null,
      "outputs": []
    },
    {
      "cell_type": "code",
      "source": [
        "%%time\n",
        "pred_y_xgb = best_xgb.predict(X_test_encoded)"
      ],
      "metadata": {
        "colab": {
          "base_uri": "https://localhost:8080/"
        },
        "id": "4eB46Fu3kxON",
        "outputId": "8ba8d2ea-b38c-4d32-be62-8ec4ee25adcc"
      },
      "id": "4eB46Fu3kxON",
      "execution_count": null,
      "outputs": [
        {
          "output_type": "stream",
          "name": "stdout",
          "text": [
            "CPU times: user 39.9 ms, sys: 0 ns, total: 39.9 ms\n",
            "Wall time: 37.3 ms\n"
          ]
        }
      ]
    },
    {
      "cell_type": "code",
      "execution_count": null,
      "id": "7c1069d9",
      "metadata": {
        "colab": {
          "base_uri": "https://localhost:8080/"
        },
        "id": "7c1069d9",
        "outputId": "143a7563-eed5-43f7-c578-149f47b2b612"
      },
      "outputs": [
        {
          "output_type": "stream",
          "name": "stdout",
          "text": [
            "MAPE:  0.4134873202401893\n",
            "RMSE:  42435.727065011626\n"
          ]
        }
      ],
      "source": [
        "print('MAPE: ', mean_absolute_percentage_error(test_y, pred_y_xgb))\n",
        "print('RMSE: ', mean_squared_error(test_y, pred_y_xgb, squared=False))"
      ]
    },
    {
      "cell_type": "markdown",
      "source": [
        "Обучение модели заняло 4.28 s, предсказание - 39.9 ms, что говорит о довольно низкой скорости обучения и средней скорости предсказания. Полученные значения MAPE и RMSE указывают на достаточно высокую точность модели."
      ],
      "metadata": {
        "id": "NI-1eH-hlKsH"
      },
      "id": "NI-1eH-hlKsH"
    },
    {
      "cell_type": "markdown",
      "id": "RmWp9wxu318i",
      "metadata": {
        "id": "RmWp9wxu318i"
      },
      "source": [
        "## CatBoost"
      ]
    },
    {
      "cell_type": "markdown",
      "id": "bDWqieZk3-rv",
      "metadata": {
        "id": "bDWqieZk3-rv"
      },
      "source": [
        "Теперь библиотека CatBoost.\n",
        "\n",
        "Обучим модель `CatBoostRegressor`, подобрав оптимальные гиперпараметры (`depth, learning_rate, iterations`, etc.) по валидационной выборке."
      ]
    },
    {
      "cell_type": "code",
      "source": [
        "!pip3 install catboost"
      ],
      "metadata": {
        "id": "jRPiMatNlRWS"
      },
      "id": "jRPiMatNlRWS",
      "execution_count": null,
      "outputs": []
    },
    {
      "cell_type": "code",
      "source": [
        "from catboost import CatBoostRegressor"
      ],
      "metadata": {
        "id": "nVRpxZxXljNl"
      },
      "id": "nVRpxZxXljNl",
      "execution_count": null,
      "outputs": []
    },
    {
      "cell_type": "code",
      "execution_count": null,
      "id": "mbhrOOPJ4X9C",
      "metadata": {
        "id": "mbhrOOPJ4X9C"
      },
      "outputs": [],
      "source": [
        "parameters = {\n",
        "    'depth': [4, 6, 8],\n",
        "    'learning_rate': [0.01, 0.05, 0.1],\n",
        "    'iterations': [100, 200, 300],\n",
        "    'l2_leaf_reg': [1, 3, 5],\n",
        "    'random_strength': [1, 2, 5]\n",
        "}\n",
        "\n",
        "cbr = CatBoostRegressor()\n",
        "grid_search = GridSearchCV(estimator=cbr, param_grid=parameters, cv=3, n_jobs=-1)\n",
        "grid_search.fit(X_valid_encoded, val_y)"
      ]
    },
    {
      "cell_type": "code",
      "execution_count": null,
      "id": "Ztdt39FZVruJ",
      "metadata": {
        "id": "Ztdt39FZVruJ"
      },
      "outputs": [],
      "source": [
        "%%time\n",
        "best_cbr = CatBoostRegressor(**grid_search.best_params_)\n",
        "best_cbr.fit(X_train_encoded, train_y)"
      ]
    },
    {
      "cell_type": "code",
      "source": [
        "%%time\n",
        "pred_y_cbr = best_cbr.predict(X_test_encoded)"
      ],
      "metadata": {
        "id": "zCQHqblal2ZH"
      },
      "id": "zCQHqblal2ZH",
      "execution_count": null,
      "outputs": []
    },
    {
      "cell_type": "code",
      "source": [
        "print('MAPE: ', mean_absolute_percentage_error(test_y, pred_y_cbr))\n",
        "print('RMSE: ', mean_squared_error(test_y, pred_y_cbr, squared=False))"
      ],
      "metadata": {
        "colab": {
          "base_uri": "https://localhost:8080/"
        },
        "id": "UU3neXIsl6cO",
        "outputId": "9728443c-78ed-4d44-da06-c921b2ac3208"
      },
      "id": "UU3neXIsl6cO",
      "execution_count": null,
      "outputs": [
        {
          "output_type": "stream",
          "name": "stdout",
          "text": [
            "MAPE:  0.35569628969667394\n",
            "RMSE:  49806.73946627879\n"
          ]
        }
      ]
    },
    {
      "cell_type": "markdown",
      "source": [
        "Обучение модели заняло 189 ms, предсказание - 34.4 ms, что говорит о средней скорости обучения и высокой скорости предсказания. Полученные значения MAPE и RMSE указывают на достаточно высокую точность модели."
      ],
      "metadata": {
        "id": "l499bWMbmAxC"
      },
      "id": "l499bWMbmAxC"
    },
    {
      "cell_type": "markdown",
      "id": "ruUNeGOk4lho",
      "metadata": {
        "id": "ruUNeGOk4lho"
      },
      "source": [
        "Для применения catboost моделей не обязательно сначала кодировать категориальные признаки, модель может кодировать их сама. Обучим catboost с подбором оптимальных гиперпараметров снова, используя pool для передачи данных в модель с указанием какие признаки категориальные, а какие нет с помощью параметра cat_features."
      ]
    },
    {
      "cell_type": "code",
      "source": [
        "from catboost import Pool\n",
        "from sklearn.model_selection import RandomizedSearchCV\n",
        "\n",
        "categorical_features = ['experience_level', 'employment_type', 'job_title', 'salary_currency', 'employee_residence', 'company_location', 'company_size']\n",
        "pool_train = Pool(data=train_X, label=train_y, cat_features=categorical_features)\n",
        "pool_val = Pool(data=val_X, label=val_y, cat_features=categorical_features)\n",
        "pool_test = Pool(data=test_X, label=test_y, cat_features=categorical_features)"
      ],
      "metadata": {
        "id": "H6_Pa6DfmCyg"
      },
      "id": "H6_Pa6DfmCyg",
      "execution_count": null,
      "outputs": []
    },
    {
      "cell_type": "code",
      "execution_count": null,
      "id": "5vQr1f9P6cQ5",
      "metadata": {
        "id": "5vQr1f9P6cQ5",
        "scrolled": true
      },
      "outputs": [],
      "source": [
        "parameters = {\n",
        "    'depth': [4, 6, 8],\n",
        "    'learning_rate': [0.01, 0.05, 0.1],\n",
        "    'iterations': [100, 200, 300],\n",
        "    'l2_leaf_reg': [1, 3, 5],\n",
        "    'random_strength': [1, 2, 5]\n",
        "}\n",
        "\n",
        "cbr_pool = CatBoostRegressor()\n",
        "random_search = RandomizedSearchCV(estimator=cbr_pool, param_distributions=parameters, n_iter=50, cv=3, n_jobs=-1)\n",
        "random_search.fit(val_X, val_y)"
      ]
    },
    {
      "cell_type": "code",
      "source": [
        "%%time\n",
        "best_cbr_pool = CatBoostRegressor(**random_search.best_params_)\n",
        "best_cbr_pool.fit(pool_train)"
      ],
      "metadata": {
        "id": "E_4dafA6mHqj"
      },
      "id": "E_4dafA6mHqj",
      "execution_count": null,
      "outputs": []
    },
    {
      "cell_type": "code",
      "source": [
        "%%time\n",
        "pred_y_cbr_pool = best_cbr_pool.predict(pool_test)"
      ],
      "metadata": {
        "id": "OOk4TpZ6mJ0H"
      },
      "id": "OOk4TpZ6mJ0H",
      "execution_count": null,
      "outputs": []
    },
    {
      "cell_type": "code",
      "source": [
        "print('MAPE: ', mean_absolute_percentage_error(test_y, pred_y_cbr_pool))\n",
        "print('RMSE: ', mean_squared_error(test_y, pred_y_cbr_pool, squared=False))"
      ],
      "metadata": {
        "colab": {
          "base_uri": "https://localhost:8080/"
        },
        "id": "zChw4n9CmNjm",
        "outputId": "ba9e85c2-e055-4535-94d2-8944aeaa5518"
      },
      "id": "zChw4n9CmNjm",
      "execution_count": null,
      "outputs": [
        {
          "output_type": "stream",
          "name": "stdout",
          "text": [
            "MAPE:  0.35569628969667394\n",
            "RMSE:  49806.73946627879\n"
          ]
        }
      ]
    },
    {
      "cell_type": "markdown",
      "id": "eA0djixU7L8c",
      "metadata": {
        "id": "eA0djixU7L8c"
      },
      "source": [
        "Обучение модели стало занимать 2.9 ms, предсказание - 142.6 ms, что говорит о замедлении скорости работы модели, качество осталось прежним."
      ]
    },
    {
      "cell_type": "markdown",
      "id": "a881ad9d",
      "metadata": {
        "id": "a881ad9d"
      },
      "source": [
        "## LihtGBM"
      ]
    },
    {
      "cell_type": "markdown",
      "id": "a35f87a6",
      "metadata": {
        "id": "a35f87a6"
      },
      "source": [
        "И наконец библиотека LightGBM - используйте `LGBMRegressor`, снова подберите гиперпараметры, оцените качество и скорость.\n"
      ]
    },
    {
      "cell_type": "code",
      "execution_count": null,
      "id": "2f5c51f6",
      "metadata": {
        "id": "2f5c51f6"
      },
      "outputs": [],
      "source": [
        "from lightgbm import LGBMRegressor\n",
        "\n",
        "\n",
        "parameters = {\n",
        "    'max_depth' : [4, 6, 8],\n",
        "    'learning_rate' : [0.01, 0.05, 0.1],\n",
        "    'n_estimators' : [100, 150, 200],\n",
        "    'num_leaves': [20, 50, 100],\n",
        "    'reg_alpha': [0.0, 0.1, 0.5]\n",
        "}\n",
        "\n",
        "lgbmr = LGBMRegressor()\n",
        "grid_search = GridSearchCV(estimator=lgbmr, param_grid=parameters, cv=3, n_jobs=-1)\n",
        "grid_search.fit(X_valid_encoded, val_y)"
      ]
    },
    {
      "cell_type": "code",
      "execution_count": null,
      "id": "dc94d5d7",
      "metadata": {
        "id": "dc94d5d7"
      },
      "outputs": [],
      "source": [
        "%%time\n",
        "best_lgbmr = LGBMRegressor(**grid_search.best_params_)\n",
        "best_lgbmr.fit(X_train_encoded, train_y)"
      ]
    },
    {
      "cell_type": "code",
      "execution_count": null,
      "id": "M2-WvfIrV556",
      "metadata": {
        "id": "M2-WvfIrV556",
        "colab": {
          "base_uri": "https://localhost:8080/"
        },
        "outputId": "4a22f8fa-26b8-45ad-d346-7c2897b82b7e"
      },
      "outputs": [
        {
          "output_type": "stream",
          "name": "stdout",
          "text": [
            "[LightGBM] [Warning] Accuracy may be bad since you didn't explicitly set num_leaves OR 2^max_depth > num_leaves. (num_leaves=31).\n",
            "CPU times: user 8.95 ms, sys: 0 ns, total: 8.95 ms\n",
            "Wall time: 11 ms\n"
          ]
        }
      ],
      "source": [
        "%%time\n",
        "pred_y_lgbmr = best_lgbmr.predict(X_test_encoded)"
      ]
    },
    {
      "cell_type": "code",
      "source": [
        "print('MAPE: ', mean_absolute_percentage_error(test_y, pred_y_lgbmr))\n",
        "print('RMSE: ', mean_squared_error(test_y, pred_y_lgbmr, squared=False))"
      ],
      "metadata": {
        "colab": {
          "base_uri": "https://localhost:8080/"
        },
        "id": "wbbOiCdlm_4z",
        "outputId": "1e233f06-cf67-4efc-a066-b2ca317ddea0"
      },
      "id": "wbbOiCdlm_4z",
      "execution_count": null,
      "outputs": [
        {
          "output_type": "stream",
          "name": "stdout",
          "text": [
            "MAPE:  0.3600051162058447\n",
            "RMSE:  41409.55306088991\n"
          ]
        }
      ]
    },
    {
      "cell_type": "markdown",
      "source": [
        "Обучение модели заняло 398 ms, предсказание - 11 ms, что говорит о низкой скорости обучения и высокой скорости предсказания. Полученные значения MAPE и RMSE указывают на достаточно высокую точность модели."
      ],
      "metadata": {
        "id": "dGyFdGJznF_s"
      },
      "id": "dGyFdGJznF_s"
    },
    {
      "cell_type": "markdown",
      "id": "7c56d873",
      "metadata": {
        "id": "7c56d873"
      },
      "source": [
        "## Сравнение и выводы"
      ]
    },
    {
      "cell_type": "markdown",
      "source": [
        "По качеству предсказания лучший результат показала модель LightGBM, худший результат - линейная модель (очень большое значение отклонения, хотя и обучается быстро). Что касается скорости обучения, то выделяются следующие модели: линейная обучается действительно быстро, а вот XGboost пришлось доооолго ждать :( По скорости предсказания лидирует модель LightGBM, а CatBoost - это вообще кошмар (особенно с pool)!\n",
        "\n",
        "Можно сказать, что лучше всего для данной задачи выбрать LightGBM, т.к. скорости обучения и предсказания удовлетворительные, а точность предсказаний высокая.\n",
        "\n",
        "Гиперпараметры для разных моделей отличаются, однако имеют такие общие параметры, как learning_rate (скорость обучения модели), max_depth (максимальная глубина деревьев), min_child_weight (минимальный вес для разделения узла)."
      ],
      "metadata": {
        "id": "rzJqFhYxnP8-"
      },
      "id": "rzJqFhYxnP8-"
    }
  ],
  "metadata": {
    "colab": {
      "provenance": []
    },
    "kernelspec": {
      "display_name": "Python 3 (ipykernel)",
      "language": "python",
      "name": "python3"
    },
    "language_info": {
      "codemirror_mode": {
        "name": "ipython",
        "version": 3
      },
      "file_extension": ".py",
      "mimetype": "text/x-python",
      "name": "python",
      "nbconvert_exporter": "python",
      "pygments_lexer": "ipython3",
      "version": "3.11.7"
    }
  },
  "nbformat": 4,
  "nbformat_minor": 5
}